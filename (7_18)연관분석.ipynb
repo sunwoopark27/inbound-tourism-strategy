{
  "nbformat": 4,
  "nbformat_minor": 0,
  "metadata": {
    "colab": {
      "provenance": [],
      "toc_visible": true
    },
    "kernelspec": {
      "name": "python3",
      "display_name": "Python 3"
    },
    "language_info": {
      "name": "python"
    }
  },
  "cells": [
    {
      "cell_type": "markdown",
      "source": [
        "### 초기설정"
      ],
      "metadata": {
        "id": "DNp0M6t1kPLF"
      }
    },
    {
      "cell_type": "code",
      "source": [
        "%%capture\n",
        "!pip install koreanize-matplotlib\n",
        "import koreanize_matplotlib"
      ],
      "metadata": {
        "id": "ue6434IZXFK6"
      },
      "execution_count": 1,
      "outputs": []
    },
    {
      "cell_type": "code",
      "execution_count": 2,
      "metadata": {
        "id": "XdaIWL45fEIL"
      },
      "outputs": [],
      "source": [
        "import pandas as pd\n",
        "\n",
        "# df_2018 = pd.read_excel('/content/2018.xlsx')\n",
        "# df_2019 = pd.read_excel('/content/2019.xlsx')\n",
        "# df_2020 = pd.read_excel('/content/2020.xlsx')\n",
        "# df_2021 = pd.read_excel('/content/2021.xlsx')\n",
        "df_2022 = pd.read_excel('/content/2022.xlsx')\n",
        "df_2023 = pd.read_excel('/content/2023.xlsx')\n",
        "df_2024 = pd.read_excel('/content/2024.xlsx')"
      ]
    },
    {
      "cell_type": "code",
      "source": [
        "# grade_map = {\n",
        "#     '① 전혀 그렇지 않다': 1,\n",
        "#     '② 별로 그렇지 않다': 2,\n",
        "#     '③ 보통이다': 3,\n",
        "#     '④ 대체로 그렇다': 4,\n",
        "#     '⑤ 매우 그렇다': 5\n",
        "# }\n",
        "\n",
        "# df_2018['Q16'] = df_2018['Q16'].map(grade_map)"
      ],
      "metadata": {
        "id": "kmyNqnzOkYbu"
      },
      "execution_count": 3,
      "outputs": []
    },
    {
      "cell_type": "code",
      "source": [
        "# df_2018['국가명'] = df_2018['COUNTRY']"
      ],
      "metadata": {
        "id": "xhj-m9F-kakb"
      },
      "execution_count": 4,
      "outputs": []
    },
    {
      "cell_type": "code",
      "source": [
        "country_map = {\n",
        "    1: '일본',\n",
        "    2: '중국',\n",
        "    3: '홍콩',\n",
        "    4: '싱가포르',\n",
        "    5: '대만',\n",
        "    6: '태국',\n",
        "    7: '말레이시아',\n",
        "    8: '호주',\n",
        "    9: '미국',\n",
        "    10: '캐나다',\n",
        "    11: '영국',\n",
        "    12: '독일',\n",
        "    13: '프랑스',\n",
        "    14: '러시아',\n",
        "    15: '중동',\n",
        "    16: '인도',\n",
        "    17: '필리핀',\n",
        "    18: '인도네시아',\n",
        "    19: '베트남',\n",
        "    20: '몽골',\n",
        "    97: '기타'\n",
        "}\n",
        "\n",
        "# 2018은 이미 COUNTY 컬럼에 국가명이 적혀있음.\n",
        "# df_2019['국가명'] = df_2019['D_COU1'].map(country_map)\n",
        "# df_2020['국가명'] = df_2020['D_NAT'].map(country_map)\n",
        "# df_2021['국가명'] = df_2021['D_NAT'].map(country_map)\n",
        "df_2022['국가명'] = df_2022['D_NAT'].map(country_map)\n",
        "df_2023['국가명'] = df_2023['D_NAT'].map(country_map)\n",
        "df_2024['국가명'] = df_2024['D_NAT'].map(country_map)"
      ],
      "metadata": {
        "id": "bSNmmzPdkja4"
      },
      "execution_count": 5,
      "outputs": []
    },
    {
      "cell_type": "markdown",
      "source": [
        "- 활동명 매핑 (주요활동/만족활동) - 2022~2024"
      ],
      "metadata": {
        "id": "37PB9LUFcSC5"
      }
    },
    {
      "cell_type": "code",
      "source": [
        "# 1. 활동명 매핑\n",
        "q4a_mapping_2022 = {\n",
        "    \"Q4A01\": \"식도락 관광\", \"Q4A02\": \"쇼핑\", \"Q4A03\": \"자연경관 감상\", \"Q4A04\": \"고궁/역사 유적지 방문\",\n",
        "    \"Q4A05\": \"전통문화체험\", \"Q4A06\": \"박물관, 전시관 관람\", \"Q4A07\": \"K-POP/한류스타 공연장 방문\",\n",
        "    \"Q4A08\": \"드라마/영화 촬영지 방문\", \"Q4A09\": \"연극, 뮤지컬, 발레 등 공연 관람\", \"Q4A10\": \"지역 축제 참여\",\n",
        "    \"Q4A11\": \"유흥/오락\", \"Q4A12\": \"뷰티/의료관광\", \"Q4A13\": \"스포츠/레포츠 및 비즈니스 활동\",\n",
        "    \"Q4A14\": \"업무수행\", \"Q4A15\": \"연수/교육/연구\", \"Q4A16\": \"시찰(산업시설 등)\", \"Q4A17\": \"기타\"\n",
        "}\n",
        "\n",
        "q4b_code_mapping_2022 = {\n",
        "    1: \"식도락 관광\", 2: \"쇼핑\", 3: \"자연경관 감상\", 4: \"고궁/역사 유적지 방문\",\n",
        "    5: \"전통문화체험\", 6: \"박물관, 전시관 관람\", 7: \"K-POP/한류스타 공연장 방문\",\n",
        "    8: \"드라마/영화 촬영지 방문\", 9: \"연극, 뮤지컬, 발레 등 공연 관람\", 10: \"지역 축제 참여\",\n",
        "    11: \"유흥/오락\", 12: \"뷰티/의료관광\", 13: \"스포츠/레포츠 및 비즈니스 활동\",\n",
        "    14: \"업무수행\", 15: \"연수/교육/연구\", 16: \"시찰(산업시설 등)\", 17: \"기타\"\n",
        "}\n",
        "\n",
        "q4a_cols = list(q4a_mapping_2022.keys())\n",
        "q4b_cols = [\"Q4B1\", \"Q4B2\", \"Q4B3\"]\n",
        "\n",
        "# 2. 주요활동 추출 함수\n",
        "def get_q4a_activities(row):\n",
        "    return [q4a_mapping_2022[col] for col in q4a_cols if col in row and pd.notna(row[col])]\n",
        "\n",
        "# 3. 만족활동 추출 함수\n",
        "def get_q4b_satisfaction(row):\n",
        "    return [q4b_code_mapping_2022.get(int(row[col]), f\"코드 {row[col]}\")\n",
        "            for col in q4b_cols if col in row and pd.notna(row[col])]\n",
        "\n",
        "# 4. 적용 (df_2022가 정의된 상태에서만)\n",
        "df_2022[\"주요활동\"] = df_2022.apply(get_q4a_activities, axis=1)\n",
        "df_2022[\"만족활동\"] = df_2022.apply(get_q4b_satisfaction, axis=1)\n"
      ],
      "metadata": {
        "id": "Hdv3F8xKcPek"
      },
      "execution_count": 6,
      "outputs": []
    },
    {
      "cell_type": "code",
      "source": [
        "# 1. 활동명 매핑\n",
        "q8a_mapping_2023 = {\n",
        "    \"Q8a01\": \"식도락(음식/미식) 관광\", \"Q8a02\": \"쇼핑\", \"Q8a03\": \"자연경관 감상\", \"Q8a04\": \"고궁/역사 유적지 방문\",\n",
        "    \"Q8a05\": \"전통문화체험 (한복체험, 태권도, 한국음식 만들기 등)\", \"Q8a06\": \"박물관, 전시관 관람\",\n",
        "    \"Q8a07\": \"K-POP/한류스타 공연장 및 드라마/영화 촬영지 방문\", \"Q8a08\": \"연극, 뮤지컬, 발레 등 공연 관람\",\n",
        "    \"Q8a09\": \"지역 축제 참여\", \"Q8a10\": \"유흥(나이트라이프 활동 및 카지노 등)\", \"Q8a11\": \"오락(놀이공원 및 테마파크 방문 등)\",\n",
        "    \"Q8a12\": \"뷰티/미용 관광(마사지샵, 헤어샵, 네일케어 등 방문)\", \"Q8a13\": \"치료/건강검진(피부과, 성형외과, 내외과 등 입원, 수술 등)\",\n",
        "    \"Q8a14\": \"스포츠/레포츠 관람 (야구, 축구, 농구 등)\", \"Q8a15\": \"스포츠/레포츠 참가 (스키, 수영, 골프, 캠핑 등)\",\n",
        "    \"Q8a16\": \"국제회의(컨벤션, 국제회의, 전시 등)\", \"Q8a17\": \"비즈니스 전문활동(업무회의, 산업시설 시찰 등)\",\n",
        "    \"Q8a18\": \"연수, 교육, 연구\", \"Q8a19\": \"기타\"\n",
        "}\n",
        "\n",
        "q8b_code_mapping_2023 = {\n",
        "    1: \"식도락(음식/미식) 관광\", 2: \"쇼핑\", 3: \"자연경관 감상\", 4: \"고궁/역사 유적지 방문\",\n",
        "    5: \"전통문화체험 (한복체험, 태권도, 한국음식 만들기 등)\", 6: \"박물관, 전시관 관람\",\n",
        "    7: \"K-POP/한류스타 공연장 및 드라마/영화 촬영지 방문\", 8: \"연극, 뮤지컬, 발레 등 공연 관람\",\n",
        "    9: \"지역 축제 참여\", 10: \"유흥(나이트라이프 활동 및 카지노 등)\",\n",
        "    11: \"오락(놀이공원 및 테마파크 방문 등)\", 12: \"뷰티/미용 관광(마사지샵, 헤어샵, 네일케어 등 방문)\",\n",
        "    13: \"치료/건강검진(피부과, 성형외과, 내외과 등 입원, 수술 등)\", 14: \"스포츠/레포츠 관람 (야구, 축구, 농구 등)\",\n",
        "    15: \"스포츠/레포츠 참가 (스키, 수영, 골프, 캠핑 등)\", 16: \"국제회의(컨벤션, 국제회의, 전시 등)\",\n",
        "    17: \"비즈니스 전문활동(업무회의, 산업시설 시찰 등)\", 18: \"연수, 교육, 연구\", 19: \"기타\"\n",
        "}\n",
        "\n",
        "q8a_cols = list(q8a_mapping_2023.keys())\n",
        "q8b_cols = [\"Q8_1a1\", \"Q8_1a2\", \"Q8_1a3\"]\n",
        "\n",
        "# 2. 주요활동 추출 함수\n",
        "def get_q8a_activities(row):\n",
        "    return [q8a_mapping_2023[col] for col in q8a_cols if col in row and pd.notna(row[col])]\n",
        "\n",
        "# 3. 만족활동 추출 함수\n",
        "def get_q8b_satisfaction(row):\n",
        "    return [q8b_code_mapping_2023.get(int(row[col]), f\"코드 {row[col]}\")\n",
        "            for col in q8b_cols if col in row and pd.notna(row[col])]\n",
        "\n",
        "# 4. 적용 (df_2023이 정의된 상태에서만)\n",
        "df_2023[\"주요활동\"] = df_2023.apply(get_q8a_activities, axis=1)\n",
        "df_2023[\"만족활동\"] = df_2023.apply(get_q8b_satisfaction, axis=1)"
      ],
      "metadata": {
        "id": "87EGdvLGhgAc"
      },
      "execution_count": 7,
      "outputs": []
    },
    {
      "cell_type": "code",
      "source": [
        "# 1. 활동명 매핑\n",
        "q8a_mapping_2024 = {\n",
        "    \"Q8a01\": \"식도락(음식/미식) 관광\", \"Q8a02\": \"쇼핑\", \"Q8a03\": \"자연경관 감상\", \"Q8a04\": \"휴양/휴식(웰니스)\",\n",
        "    \"Q8a05\": \"고궁/역사 유적지 방문\", \"Q8a06\": \"전통문화체험 (한복체험, 태권도, 한국 음식 만들기 등)\",\n",
        "    \"Q8a07\": \"박물관, 전시관 관람\", \"Q8a08\": \"K-POP/한류스타 공연장 및 드라마/영화 촬영지 방문\",\n",
        "    \"Q8a09\": \"연극, 뮤지컬, 발레 등 공연 관람\", \"Q8a10\": \"지역 축제 참여\",\n",
        "    \"Q8a11\": \"유흥(나이트라이프 활동 및 카지노)\", \"Q8a12\": \"오락(놀이공원 및 테마파크 방문 등)\",\n",
        "    \"Q8a13\": \"뷰티/미용 관광(마사지샵, 헤어샵, 네일케어 등 방문)\", \"Q8a14\": \"치료/건강검진(피부과, 성형외과, 내외과 입원, 수술 등)\",\n",
        "    \"Q8a15\": \"스포츠/레포츠 관람 (야구, 축구, 농구 등)\", \"Q8a16\": \"스포츠/레포츠 참가 (스키, 수영, 골프, 캠핑 등)\",\n",
        "    \"Q8a17\": \"국제회의(컨벤션, 국제회의, 전시 등)\", \"Q8a18\": \"비즈니스 전문활동(업무회의, 산업시설 시찰 등)\",\n",
        "    \"Q8a19\": \"연수, 교육, 연구\", \"Q8a20\": \"기타\"\n",
        "}\n",
        "\n",
        "q8b_code_mapping_2024 = {\n",
        "    1: \"식도락(음식/미식) 관광\", 2: \"쇼핑\", 3: \"자연경관 감상\", 4: \"휴양/휴식(웰니스)\",\n",
        "    5: \"고궁/역사 유적지 방문\", 6: \"전통문화체험 (한복체험, 태권도, 한국 음식 만들기 등)\",\n",
        "    7: \"박물관, 전시관 관람\", 8: \"K-POP/한류스타 공연장 및 드라마/영화 촬영지 방문\",\n",
        "    9: \"연극, 뮤지컬, 발레 등 공연 관람\", 10: \"지역 축제 참여\",\n",
        "    11: \"유흥(나이트라이프 활동 및 카지노)\", 12: \"오락(놀이공원 및 테마파크 방문 등)\",\n",
        "    13: \"뷰티/미용 관광(마사지샵, 헤어샵, 네일케어 등 방문)\", 14: \"치료/건강검진(피부과, 성형외과, 내외과 입원, 수술 등)\",\n",
        "    15: \"스포츠/레포츠 관람 (야구, 축구, 농구 등)\", 16: \"스포츠/레포츠 참가 (스키, 수영, 골프, 캠핑 등)\",\n",
        "    17: \"국제회의(컨벤션, 국제회의, 전시 등)\", 18: \"비즈니스 전문활동(업무회의, 산업시설 시찰 등)\",\n",
        "    19: \"연수, 교육, 연구\", 20: \"기타\"\n",
        "}\n",
        "\n",
        "q8a_cols = list(q8a_mapping_2024.keys())\n",
        "q8b_cols = [\"Q8_1a1\", \"Q8_1a2\", \"Q8_1a3\"]\n",
        "\n",
        "# 2. 주요활동 추출 함수\n",
        "def get_q8a_activities(row):\n",
        "    return [q8a_mapping_2024[col] for col in q8a_cols if col in row and pd.notna(row[col])]\n",
        "\n",
        "# 3. 만족활동 추출 함수\n",
        "def get_q8b_satisfaction(row):\n",
        "    return [q8b_code_mapping_2024.get(int(row[col]), f\"코드 {row[col]}\")\n",
        "            for col in q8b_cols if col in row and pd.notna(row[col])]\n",
        "\n",
        "# 4. 적용 (df_2024이 정의된 상태에서만 실행)\n",
        "df_2024[\"주요활동\"] = df_2024.apply(get_q8a_activities, axis=1)\n",
        "df_2024[\"만족활동\"] = df_2024.apply(get_q8b_satisfaction, axis=1)\n"
      ],
      "metadata": {
        "id": "_boxnJOHies9"
      },
      "execution_count": 8,
      "outputs": []
    },
    {
      "cell_type": "code",
      "source": [
        "# 클러스터1 국가 리스트\n",
        "cluster1_countries = [\"미국\", \"영국\", \"독일\", \"프랑스\", \"캐나다\", \"호주\", \"기타\"]\n",
        "\n",
        "# 공통 국가 필터링 함수\n",
        "def filter_cluster1(df):\n",
        "    return df[df[\"국가명\"].isin(cluster1_countries)].copy()\n",
        "\n",
        "# 연도별 필터링\n",
        "df_cluster1_2022 = filter_cluster1(df_2022)\n",
        "df_cluster1_2023 = filter_cluster1(df_2023)\n",
        "df_cluster1_2024 = filter_cluster1(df_2024)"
      ],
      "metadata": {
        "id": "_B8kVxDEYojp"
      },
      "execution_count": 9,
      "outputs": []
    },
    {
      "cell_type": "markdown",
      "source": [
        "- 계절 컬럼 추가 (계절 분석 시 사용)"
      ],
      "metadata": {
        "id": "88QExTKiB4BM"
      }
    },
    {
      "cell_type": "code",
      "source": [
        "import pandas as pd\n",
        "\n",
        "# 월 → 계절 매핑 함수\n",
        "def month_to_season(month):\n",
        "    if month in [3, 4, 5]:\n",
        "        return 'Spring'\n",
        "    elif month in [6, 7, 8]:\n",
        "        return 'Summer'\n",
        "    elif month in [9, 10, 11]:\n",
        "        return 'Autumn'\n",
        "    else:  # 12, 1, 2\n",
        "        return 'Winter'\n",
        "\n",
        "# 각 연도별 데이터프레임에 적용\n",
        "for df in [df_cluster1_2024, df_cluster1_2023, df_cluster1_2022]:\n",
        "    df['계절'] = df['D_MON'].apply(month_to_season)"
      ],
      "metadata": {
        "id": "PjaQVrq-AETh"
      },
      "execution_count": 10,
      "outputs": []
    },
    {
      "cell_type": "markdown",
      "source": [
        "# 📊 연관분석 실행 흐름 요약 (Weighted Apriori 기반)\n",
        "\n",
        "## 1. 데이터 준비\n",
        "- 2022~2024년 클러스터1 데이터 병합\n",
        "- 필요한 컬럼만 추출: 방문자 ID, 국가명, 월→계절, 복수응답 활동, 가중치, 재방문 여부, FIT 여부 등\n",
        "\n",
        "## 2. 트랜잭션 정의\n",
        "- 한 명의 여행객을 하나의 트랜잭션으로 정의\n",
        "- 트랜잭션당 아이템 리스트 구성: 활동, 계절, 국가 등 포함\n",
        "\n",
        "## 3. 전처리\n",
        "- 복수응답 문자열 → 리스트로 변환\n",
        "- MultiLabelBinarizer 또는 수동 더미화로 One-Hot 인코딩\n",
        "- 가중치 벡터(`weight`) 별도 보존\n",
        "\n",
        "## 4. 가중치 반영 지지도 계산\n",
        "- One-Hot 매트릭스 × 가중치로 weighted_df 생성\n",
        "- 각 아이템의 weighted support 계산 (가중치 합 ÷ 전체 가중치)\n",
        "\n",
        "## 5. 연관규칙 탐색 (Apriori 방식)\n",
        "- 2개 아이템 조합별 joint support 계산\n",
        "- confidence = 공동지지도 ÷ 단일지지도\n",
        "- lift = confidence ÷ 대상 아이템 지지도\n",
        "- 조건: support ≥ 0.05, confidence ≥ 0.6, lift > 1\n",
        "\n",
        "## 6. 결과 정리\n",
        "- 상위 lift 순으로 유의미한 규칙 10~20개 추출\n",
        "- 재방문 여부, FIT 여부, 클러스터 그룹 등 기준으로 규칙 비교\n",
        "- 해석 가능한 규칙을 전략 조합 후보로 저장\n",
        "\n",
        "## 7. 다음 단계\n",
        "- 파라미터 조정하며 규칙 확인\n",
        "- 전략 조합별 재방문율 시뮬레이션으로 연결\n"
      ],
      "metadata": {
        "id": "YqTgKCd1Nxez"
      }
    },
    {
      "cell_type": "markdown",
      "source": [
        "# 1단계: 데이터 병합 및 주요 컬럼 추출\n",
        "\n",
        "주요 컬럼 선정\n",
        "\n",
        "> 참여활동 vs 만족활동: 무엇을 쓸까?\n",
        "\n",
        "- 참여활동(Q8a01~Q8a20): 실질적으로 어떤 활동을 했는지 보여줌 → 실제 경험 기반 분석에 적합\n",
        "\n",
        "- 만족활동(Q8_1a1~Q8_1a3): 참여한 것 중 가장 만족한 3가지를 고른 것 → 고객의 긍정적 감정·충성도와 더 밀접\n",
        "\n",
        "-------\n",
        "\n",
        "**필수 항목 (트랜잭션 구성 요소)**\n",
        "\n",
        "- Q8_1a1 ~ Q8_1a3(만족활동 컬럼 정리 되어있음): 만족한 활동 리스트 (중심 아이템)\n",
        "\n",
        "- D_MON → 계절 태그 생성 (Spring, Summer, …)\n",
        "\n",
        "- D_NAT: 국가명\n",
        "\n",
        "- weight: 가중치\n",
        "\n",
        "**보조적 그룹 비교용 메타데이터**\n",
        "(트랜잭션에 넣지 않되, 분석 시 그룹 나누기에 사용)\n",
        "\n",
        "- is_returning (재방문 여부)\n",
        "\n",
        "- is_FIT (자유여행객 여부)\n",
        "\n",
        "- D_AGE, D_SEX: 인구통계\n",
        "\n",
        "- 총액1인TOT2 또는 C총액1인TOT2: 1인 소비 총액\n",
        "-------\n",
        "\n",
        "**2022년은 가중치 정보가 없어 본 분석에는 포함하지 않았으며, 트렌드 비교용으로만 활용하였습니다.**"
      ],
      "metadata": {
        "id": "e2N-SvWQQKNy"
      }
    },
    {
      "cell_type": "markdown",
      "source": [
        "| 표준 컬럼명          | 설명               | 원본 컬럼 (2023/2024)  |\n",
        "| --------------- | ---------------- | ------------------ |\n",
        "| `visitor_id`    | 방문객 고유 ID        | `pnid`             |\n",
        "| `만족활동`          | 리스트형 활동 조합       | `만족활동` (이미 리스트 형태) |\n",
        "| `weight`        | 응답자 가중치          | `weight`           |\n",
        "| `계절`            | 계절 (Spring 등)    | `계절`               |\n",
        "| `D_NAT`         | 국가명              | `D_NAT`            |\n",
        "| `is_FIT`        | 개별여행 여부 (1 = 개별) | `TYP`              |\n",
        "| `revisit_score` | 재방문의사 점수 (1\\~5점) | `Q13`              |\n"
      ],
      "metadata": {
        "id": "RArfcMygV8uK"
      }
    },
    {
      "cell_type": "code",
      "source": [
        "# 2023 데이터 정제\n",
        "df_2023 = df_cluster1_2023.copy()\n",
        "df_2023['visitor_id'] = df_2023['pnid']\n",
        "df_2023['is_FIT'] = (df_2023['TYP'] == 1).astype(int)\n",
        "df_2023['revisit_score'] = df_2023['Q13']\n",
        "df_2023 = df_2023[['visitor_id', '만족활동', 'weight', '계절', '국가명', 'is_FIT', 'revisit_score']]\n",
        "\n",
        "# 2024 데이터 정제\n",
        "df_2024 = df_cluster1_2024.copy()\n",
        "df_2024['visitor_id'] = df_2024['pnid']\n",
        "df_2024['is_FIT'] = (df_2024['TYP'] == 1).astype(int)\n",
        "df_2024['revisit_score'] = df_2024['Q13']\n",
        "df_2024 = df_2024[['visitor_id', '만족활동', 'weight', '계절', '국가명', 'is_FIT', 'revisit_score']]\n",
        "\n",
        "# 병합\n",
        "df_all = pd.concat([df_2023, df_2024], ignore_index=True)"
      ],
      "metadata": {
        "id": "2C5L3ZYTV8Ia"
      },
      "execution_count": 28,
      "outputs": []
    },
    {
      "cell_type": "markdown",
      "source": [
        "# 2단계: item_list 생성 + One-hot 인코딩 + 가중치 적용"
      ],
      "metadata": {
        "id": "vzoJD-3IXIOg"
      }
    },
    {
      "cell_type": "markdown",
      "source": [
        "## 2-1. item_list 생성\n",
        "\n",
        "만족활동 + 계절 + 국가명을 하나의 리스트로 묶어줍니다."
      ],
      "metadata": {
        "id": "1B5vBMRnXLts"
      }
    },
    {
      "cell_type": "code",
      "source": [
        "# 리스트 결합: 만족활동 + 계절 + 국가명\n",
        "# 각 행 단위로 리스트 결합\n",
        "df_all['item_list'] = df_all.apply(\n",
        "    lambda row: row['만족활동'] + [row['계절'], row['국가명']],\n",
        "    axis=1\n",
        ")"
      ],
      "metadata": {
        "id": "sjkRahSMXJBy"
      },
      "execution_count": 30,
      "outputs": []
    },
    {
      "cell_type": "markdown",
      "source": [
        "## 2-2. One-hot 인코딩 (MultiLabelBinarizer 사용)\n",
        "\n",
        "연관분석(Apriori)은 트랜잭션별로 어떤 \"아이템\"이 있었는지 **0/1로 표현된 테이블(행렬)**을 요구\n",
        "\n",
        "즉, 각 방문객이 어떤 활동/계절/국가를 가졌는지 True/False 또는 1/0으로 변환해야 분석이 가능"
      ],
      "metadata": {
        "id": "a4bF--nzXeUW"
      }
    },
    {
      "cell_type": "code",
      "source": [
        "# 모든 아이템을 str로 변환\n",
        "df_all['item_list'] = df_all['item_list'].apply(lambda items: [str(i) for i in items])"
      ],
      "metadata": {
        "id": "5PAULTBpaySU"
      },
      "execution_count": 31,
      "outputs": []
    },
    {
      "cell_type": "code",
      "source": [
        "from sklearn.preprocessing import MultiLabelBinarizer\n",
        "\n",
        "mlb = MultiLabelBinarizer()\n",
        "df_hot = pd.DataFrame(\n",
        "    mlb.fit_transform(df_all['item_list']),\n",
        "    columns=mlb.classes_,\n",
        "    index=df_all.index\n",
        ")"
      ],
      "metadata": {
        "id": "vxprYHB9Xgo2"
      },
      "execution_count": 32,
      "outputs": []
    },
    {
      "cell_type": "markdown",
      "source": [
        "## 2-3. 가중치 반영 지지도 계산\n",
        "\n",
        "단순 빈도(count)가 아닌, **응답자 가중치(weight)**를 반영하여 정확한 지지도(support)를 계산하기 위함\n",
        "\n",
        "외래관광객 실태조사는 표본조사이기 때문에,\n",
        "한 명의 응답자가 전체 외래관광객을 대표할 수 있도록 weight을 부여"
      ],
      "metadata": {
        "id": "_0IfB66WX317"
      }
    },
    {
      "cell_type": "code",
      "source": [
        "# 가중치 벡터\n",
        "weight = df_all['weight']\n",
        "total_weight = weight.sum()\n",
        "\n",
        "# 가중치 곱한 매트릭스\n",
        "weighted_df = df_hot.multiply(weight, axis=0)"
      ],
      "metadata": {
        "id": "J2y0t_H1X6SI"
      },
      "execution_count": 33,
      "outputs": []
    },
    {
      "cell_type": "markdown",
      "source": [
        "# 연관분석 3단계: 가중치 기반 연관규칙 계산"
      ],
      "metadata": {
        "id": "C_KRbb4qbQ7j"
      }
    },
    {
      "cell_type": "markdown",
      "source": [
        "## 3-1. 단일 아이템별 weighted support 계산\n",
        "\n",
        "- 목적: 각 아이템이 전체 응답자 중에서 얼마나 많이 등장했는지를 **가중치까지 반영해서 비율**로 계산\n",
        "\n",
        "      weighted support(A) = A를 선택한 응답자들의 weight 합 / 전체 weight 합\n",
        "\n",
        "w_sup[item]: 특정 아이템이 전체 응답자 가중치에서 차지하는 비율"
      ],
      "metadata": {
        "id": "SrbtmlllbR8H"
      }
    },
    {
      "cell_type": "code",
      "source": [
        "# 전체 가중치 총합\n",
        "total_weight = df_all['weight'].sum()\n",
        "\n",
        "# 각 아이템의 weighted support 계산\n",
        "w_sup = {\n",
        "    item: weighted_df[item].sum() / total_weight\n",
        "    for item in df_hot.columns\n",
        "}"
      ],
      "metadata": {
        "id": "NUca3RbfbUpS"
      },
      "execution_count": 34,
      "outputs": []
    },
    {
      "cell_type": "markdown",
      "source": [
        "## 3-2. 아이템쌍별 joint support 계산\n",
        "\n",
        "- 목적 : 두 아이템 A, B가 같은 응답자(트랜잭션) 안에서 **함께 등장한 비율** 계산\n",
        "\n",
        "      \" A와 B를 동시에 선택한 응답자들의 비율은 전체 중 몇 퍼센트인가? \"\n",
        "\n",
        "      joint support(A, B) = A와 B를 모두 선택한 응답자들의 가중치 합 ÷ 전체 가중치 합\n",
        "\n",
        "여기서도 **단순 건수(count)**가 아니라, **가중치(weight)**를 고려한 비율을 사용\n",
        "\n",
        "------\n",
        "\n",
        "[코드 리뷰]\n",
        "\n",
        "- df_hot[i] & df_hot[j]: 두 아이템을 모두 선택한 응답자 (0 또는 1)\n",
        "\n",
        "- multiply(...): 해당 응답자의 가중치를 곱함\n",
        "\n",
        "- `w_sup_pair`는 **아이템쌍별 joint support 저장** 딕셔너리"
      ],
      "metadata": {
        "id": "hoztNq_MbcWB"
      }
    },
    {
      "cell_type": "code",
      "source": [
        "w_sup_pair = {}\n",
        "for i in df_hot.columns:\n",
        "    for j in df_hot.columns:\n",
        "        if i == j:\n",
        "            continue # 자기 자신 쌍은 제외\n",
        "        pair = (i, j)\n",
        "        # i와 j를 모두 선택한 응답자: (0/1) AND 연산\n",
        "        joint = (df_hot[i] & df_hot[j]).multiply(df_all['weight'], axis=0)\n",
        "        # joint support 계산\n",
        "        w_sup_pair[pair] = joint.sum() / total_weight"
      ],
      "metadata": {
        "id": "u1Wgv_habdML"
      },
      "execution_count": 35,
      "outputs": []
    },
    {
      "cell_type": "markdown",
      "source": [
        "## 3-3. Confidence 계산\n",
        "\n",
        "- 목적 : 연관규칙 A → B에서, “**A를 선택한 사람들 중에 B도 함께 선택한 비율**”을 구합니다.\n",
        "\n",
        "- 의미: i → j 규칙의 신뢰도 (i가 발생했을 때 j도 함께 발생할 확률)\n",
        "\n",
        "----------\n",
        "\n",
        "[코드 구성]\n",
        "\n",
        "| 요소                 | 의미                                 |\n",
        "| ------------------ | ---------------------------------- |\n",
        "| `pair`             | (A, B) 형식의 아이템쌍                    |\n",
        "| `w_sup_pair[pair]` | A와 B가 동시에 등장한 weighted support     |\n",
        "| `w_sup[pair[0]]`   | A 단독의 weighted support             |\n",
        "| 결과값                | A를 선택한 사람 중 B도 선택한 비율 → confidence |\n",
        "\n",
        "해석 방법\n",
        "\n",
        "- 값이 1에 가까울수록: A가 나타났을 때 거의 항상 B도 나타난다\n",
        "\n",
        "- 값이 0.5면: 절반 정도만 함께 나타난다"
      ],
      "metadata": {
        "id": "QjHuErjbbmin"
      }
    },
    {
      "cell_type": "code",
      "source": [
        "w_conf = {\n",
        "    pair: w_sup_pair[pair] / w_sup[pair[0]]\n",
        "    for pair in w_sup_pair\n",
        "}\n"
      ],
      "metadata": {
        "id": "nUbzdG3ebnKu"
      },
      "execution_count": 36,
      "outputs": []
    },
    {
      "cell_type": "markdown",
      "source": [
        "## 3-4. Lift 계산\n",
        "\n",
        "- 목적 : 연관규칙 A → B가 **우연이 아니라 실제로 강한 연관성을 가지는가?**를 평가\n",
        "\n",
        "   Lift는 통계적으로 “A와 B가 독립일 때 기대되는 확률 대비 얼마나 더 자주 같이 나타나는가”를 수치화한 지표입니다.\n",
        "\n",
        "   단순히 j가 나타나는 확률에 비해, i가 있을 때 j가 얼마나 더 자주 발생하는지 비율\n",
        "\n",
        "      수식: Lift(A→B)= Confidence(A→B)/Support(B)\n",
        "\n",
        "      - confidence(A→B)는 A 했을 때 B도 하는 비율\n",
        "\n",
        "      - support(B)는 B 자체가 전체에서 얼마나 자주 나타나는지\n",
        "\n",
        "\n",
        "| Lift 값 | 해석                                |\n",
        "| ------ | --------------------------------- |\n",
        "| > 1    | **양의 연관** (A가 있을 때 B가 더 자주 나타남) ✅ |\n",
        "| = 1    | **독립** (A와 B는 무관함) ⚠️             |\n",
        "| < 1    | **음의 연관** (A가 있을 때 B가 덜 나타남) ❌    |\n",
        "\n",
        "-----------\n",
        "\n",
        "[코드 구성]\n",
        "\n",
        "| 요소               | 의미                |\n",
        "| ---------------- | ----------------- |\n",
        "| `pair`           | (A, B) 형식의 아이템쌍   |\n",
        "| `w_conf[pair]`   | confidence(A→B)   |\n",
        "| `w_sup[pair[1]]` | support(B)        |\n",
        "| 결과값              | A와 B의 연관 강도 판단 수치 |\n",
        "\n"
      ],
      "metadata": {
        "id": "3KNEfyobbsZX"
      }
    },
    {
      "cell_type": "code",
      "source": [
        "w_lift = {\n",
        "    pair: w_conf[pair] / w_sup[pair[1]]\n",
        "    for pair in w_conf\n",
        "}"
      ],
      "metadata": {
        "id": "mKl1Kb5rbv7I"
      },
      "execution_count": 37,
      "outputs": []
    },
    {
      "cell_type": "markdown",
      "source": [
        "## 3-5. 유의미한 규칙 필터링\n",
        "\n",
        "| 지표             | 권장 기준값         | 설명 및 출처                    |\n",
        "| -------------- | -------------- | -------------------------- |\n",
        "| **Support**    | ≥ 0.05 (5%)    | 트랜잭션 중 5% 이상 등장하는 항목만 포함   |\n",
        "| **Confidence** | ≥ 0.5 또는 ≥ 0.6 | 50〜60% 이상이면 실무 평가 기준으로 적합  |\n",
        "| **Lift**       | > 1.0          | 독립 관계 대비 강화된 연관성 판단 기준     |\n",
        "\n",
        "\n",
        "**왜 이 기준을 사용하나요?**\n",
        "\n",
        "- Support ≥ 5%\n",
        "\n",
        "  너무 낮은 기준은 노이즈나 희귀 패턴까지 포함할 위험 있음\n",
        "\n",
        "- Confidence ≥ 50–60%\n",
        "\n",
        "  A를 한 사람 중 절반 이상이 B를 하는 수준이면 의미 있는 연관으로 간주됨\n",
        "\n",
        "- Lift > 1.0\n",
        "\n",
        "  단순 우연이 아닌 실질적 상관관계가 존재한다고 보는 기준임"
      ],
      "metadata": {
        "id": "yUY_1lMYb0BZ"
      }
    },
    {
      "cell_type": "code",
      "source": [
        "min_support = 0.05\n",
        "min_confidence = 0.6\n",
        "\n",
        "# 조건을 만족하는 규칙만 필터링\n",
        "selected_rules = [\n",
        "    (pair, w_sup_pair[pair], w_conf[pair], w_lift[pair])\n",
        "    for pair in w_conf\n",
        "    if w_sup_pair[pair] >= min_support\n",
        "    and w_conf[pair] >= min_confidence\n",
        "    and w_lift[pair] > 1\n",
        "]"
      ],
      "metadata": {
        "id": "_elh9uDQb7Zy"
      },
      "execution_count": 38,
      "outputs": []
    },
    {
      "cell_type": "markdown",
      "source": [
        "- 결과 정렬 및 출력 (lift 기준 상위 10개)"
      ],
      "metadata": {
        "id": "7QuBtElRh3OT"
      }
    },
    {
      "cell_type": "code",
      "source": [
        "# lift 높은 순으로 정렬\n",
        "sorted_rules = sorted(selected_rules, key=lambda x: x[3], reverse=True)\n",
        "\n",
        "# 상위 10개 규칙 출력\n",
        "for rule in sorted_rules[:10]:\n",
        "    A, B = rule[0]\n",
        "    support, conf, lift = rule[1], rule[2], rule[3]\n",
        "    print(f\"{A} → {B} | support: {support:.3f}, confidence: {conf:.3f}, lift: {lift:.2f}\")\n"
      ],
      "metadata": {
        "colab": {
          "base_uri": "https://localhost:8080/"
        },
        "id": "l0pUvjk8h4ei",
        "outputId": "992534c8-8910-4926-c8cb-9c3ea11d16d3"
      },
      "execution_count": 39,
      "outputs": [
        {
          "output_type": "stream",
          "name": "stdout",
          "text": [
            "캐나다 → 쇼핑 | support: 0.099, confidence: 0.652, lift: 1.35\n"
          ]
        }
      ]
    },
    {
      "cell_type": "markdown",
      "source": [
        "### 결과\n",
        "\n",
        "| 항목                    | 의미                                         |\n",
        "| --------------------- | ------------------------------------------ |\n",
        "| **캐나다**               | 캐나다 국적의 응답자들이                              |\n",
        "| **→ 쇼핑**              | **쇼핑 활동을 할 가능성이 높음**                       |\n",
        "| **support: 0.099**    | 전체 응답자의 약 \\*\\*9.9%\\*\\*가 캐나다 국적 + 쇼핑 선택     |\n",
        "| **confidence: 0.652** | 캐나다 응답자 중 **약 65.2%가 쇼핑 선택**               |\n",
        "| **lift: 1.35**        | **기대보다 35% 더 많이 쇼핑을 선택**함 → 마케팅 타깃 가치 있음 ✅ |"
      ],
      "metadata": {
        "id": "gwpudelfiqjS"
      }
    },
    {
      "cell_type": "markdown",
      "source": [
        "## 기준 완화 적용 코드 (탐색 확장 목적)\n",
        "\n",
        "support ≥ 0.03, confidence ≥ 0.5, lift > 1"
      ],
      "metadata": {
        "id": "cDH1T1DrjZgW"
      }
    },
    {
      "cell_type": "code",
      "source": [
        "# 완화된 기준 설정\n",
        "min_support = 0.03\n",
        "min_confidence = 0.5\n",
        "\n",
        "# 필터링: support ≥ 0.03, confidence ≥ 0.5, lift > 1.0\n",
        "selected_rules = [\n",
        "    (pair, w_sup_pair[pair], w_conf[pair], w_lift[pair])\n",
        "    for pair in w_conf\n",
        "    if w_sup_pair[pair] >= min_support\n",
        "    and w_conf[pair] >= min_confidence\n",
        "    and w_lift[pair] > 1.0\n",
        "]\n",
        "\n",
        "# 정렬 및 출력\n",
        "sorted_rules = sorted(selected_rules, key=lambda x: x[3], reverse=True)\n",
        "\n",
        "for rule in sorted_rules[:10]:\n",
        "    A, B = rule[0]\n",
        "    support, conf, lift = rule[1], rule[2], rule[3]\n",
        "    print(f\"{A} → {B} | support: {support:.3f}, confidence: {conf:.3f}, lift: {lift:.2f}\")"
      ],
      "metadata": {
        "colab": {
          "base_uri": "https://localhost:8080/"
        },
        "id": "gLZPTrZjim2E",
        "outputId": "eb4466f1-360b-4602-adf2-4791e06781d8"
      },
      "execution_count": 40,
      "outputs": [
        {
          "output_type": "stream",
          "name": "stdout",
          "text": [
            "전통문화체험 (한복체험, 태권도, 한국 음식 만들기 등) → 기타 | support: 0.055, confidence: 0.514, lift: 1.40\n",
            "캐나다 → 쇼핑 | support: 0.099, confidence: 0.652, lift: 1.35\n",
            "프랑스 → 쇼핑 | support: 0.054, confidence: 0.586, lift: 1.21\n",
            "호주 → 쇼핑 | support: 0.067, confidence: 0.581, lift: 1.20\n",
            "박물관, 전시관 관람 → 고궁/역사 유적지 방문 | support: 0.086, confidence: 0.535, lift: 1.19\n",
            "독일 → 쇼핑 | support: 0.052, confidence: 0.562, lift: 1.17\n",
            "전통문화체험 (한복체험, 태권도, 한국음식 만들기 등) → 고궁/역사 유적지 방문 | support: 0.034, confidence: 0.521, lift: 1.16\n",
            "기타 → 고궁/역사 유적지 방문 | support: 0.189, confidence: 0.517, lift: 1.15\n",
            "전통문화체험 (한복체험, 태권도, 한국 음식 만들기 등) → 고궁/역사 유적지 방문 | support: 0.055, confidence: 0.513, lift: 1.14\n",
            "미국 → 쇼핑 | support: 0.067, confidence: 0.543, lift: 1.13\n"
          ]
        }
      ]
    },
    {
      "cell_type": "markdown",
      "source": [
        "### 결과\n",
        "\n",
        "| 연관규칙                   | 해석                                   | 전략 활용 가능성                    |\n",
        "| ---------------------- | ------------------------------------ | ---------------------------- |\n",
        "| **전통문화체험 → 기타**        | 전통문화 콘텐츠 경험자들이 기타 활동(예: 이색체험)도 자주 수행 | 전통 + 이색체험 묶음 상품 제안 가능        |\n",
        "| **캐나다 → 쇼핑**           | 캐나다 관광객은 쇼핑 선호 경향이 뚜렷                | 쇼핑 중심 콘텐츠 큐레이션 추천            |\n",
        "| **프랑스/호주/독일/미국 → 쇼핑**  | 쇼핑은 장거리 고소비국의 공통 관심사                 | 쇼핑 콘텐츠는 **클러스터 전체 전략**으로 유효함 |\n",
        "| **박물관 관람 → 고궁/역사 유적지** | 역사적 관심이 이어짐                          | 박물관 + 고궁 연계 패스 제안 전략         |\n",
        "| **전통문화체험 → 고궁/역사 유적지** | 전통 콘텐츠에 연속 관심                        | 콘텐츠 큐레이션, 마케팅 카피 활용 전략       |\n",
        "\n",
        "<br>\n",
        "\n",
        "① [전통문화체험 → 고궁/역사 유적지 방문]\n",
        "\n",
        "  - lift = 1.16 / confidence = 0.521\n",
        "\n",
        "  → 고궁 야간개장, 전통행사 이벤트 등과 연계한 상품 추천 가능\n",
        "\n",
        "  → K-문화 강조 캠페인과도 잘 맞음\n",
        "\n",
        "<br>\n",
        "\n",
        "② [국가 → 쇼핑] 연관\n",
        "\n",
        "- 캐나다, 프랑스, 호주, 독일, 미국 모두 lift > 1.1\n",
        "\n",
        "  → \"쇼핑 콘텐츠 큐레이션은 장거리 국가 공통 타깃\"이라는 근거로 사용 가능\n",
        "\n",
        "  → 국가별 마케팅 메시지 차별화 없이도 적용 가능\n"
      ],
      "metadata": {
        "id": "2rCGXwZBkVoJ"
      }
    },
    {
      "cell_type": "markdown",
      "source": [
        "# 세그먼트별 비교 (재방문, FIT)\n",
        "\n",
        "→ 동일 규칙이 어떤 그룹에서 더 강한지 확인\n",
        "<br>\n",
        "\n",
        "| 구분                            | 의미                        | 우리가 알 수 있는 것              | 분석 목적 적합성               |\n",
        "| ----------------------------- | ------------------------- | ------------------------- | ----------------------- |\n",
        "| **is\\_returning (실제 재방문 여부)** | 과거에 한 번 이상 한국에 다시 온 사람    | “재방문자들이 뭘 했는지”            | ❌ 제한적. **미래 전략 연결 어려움** |\n",
        "| **revisit\\_score (1\\~5점)**    | 이번 방한 후 향후 다시 방문할 의향이 있는지 | **“어떤 요소가 재방문 의사를 높이는지”** | ✅ 전략 타깃 예측에 적합          |\n"
      ],
      "metadata": {
        "id": "KJIGHO08mdsP"
      }
    },
    {
      "cell_type": "markdown",
      "source": [
        "- 1. 세그먼트 분할\n",
        "\n",
        "| 그룹명            | 조건                                  |\n",
        "| -------------- | ----------------------------------- |\n",
        "| `재방문 의향 + FIT` | `revisit_score ≥ 4` & `is_FIT == 1` |\n",
        "| `재방문 의향 + 패키지` | `revisit_score ≥ 4` & `is_FIT == 0` |\n",
        "| `비재방문 + FIT`   | `revisit_score < 4` & `is_FIT == 1` |\n",
        "| `비재방문 + 패키지`   | `revisit_score < 4` & `is_FIT == 0` |"
      ],
      "metadata": {
        "id": "1yyCUisZqbQv"
      }
    },
    {
      "cell_type": "code",
      "source": [
        "df_positive_fit  = df_all[(df_all['revisit_score'] >= 4) & (df_all['is_FIT'] == 1)].copy()\n",
        "df_positive_pkg  = df_all[(df_all['revisit_score'] >= 4) & (df_all['is_FIT'] == 0)].copy()\n",
        "df_negative_fit  = df_all[(df_all['revisit_score'] < 4) & (df_all['is_FIT'] == 1)].copy()\n",
        "df_negative_pkg  = df_all[(df_all['revisit_score'] < 4) & (df_all['is_FIT'] == 0)].copy()"
      ],
      "metadata": {
        "id": "SUb-jV2dkVWr"
      },
      "execution_count": 41,
      "outputs": []
    },
    {
      "cell_type": "markdown",
      "source": [
        "- 2. 연관분석 함수 재사용"
      ],
      "metadata": {
        "id": "rvOxwCUxqovT"
      }
    },
    {
      "cell_type": "code",
      "source": [
        "from sklearn.preprocessing import MultiLabelBinarizer\n",
        "\n",
        "def run_association_analysis(df, min_support=0.05, min_confidence=0.5):\n",
        "    \"\"\"\n",
        "    가중치를 반영한 연관분석(Apriori) 함수\n",
        "    - 입력: df (item_list, weight 포함된 DataFrame)\n",
        "    - 출력: (item A → B, support, confidence, lift) 리스트 (상위 10개)\n",
        "\n",
        "    Parameters:\n",
        "        df: pandas DataFrame\n",
        "            - 필수 컬럼: item_list (리스트), weight (가중치)\n",
        "        min_support: float\n",
        "            - 최소 지지도 기준\n",
        "        min_confidence: float\n",
        "            - 최소 신뢰도 기준\n",
        "    \"\"\"\n",
        "\n",
        "    # 1. 리스트 항목을 One-Hot Encoding (0/1 매트릭스로 변환)\n",
        "    mlb = MultiLabelBinarizer()\n",
        "    df_items = mlb.fit_transform(df['item_list'])  # 예: ['쇼핑', '전통'] → [1, 0, 1, ...]\n",
        "    df_hot = pd.DataFrame(df_items, columns=mlb.classes_, index=df.index)\n",
        "\n",
        "    # 2. 가중치 적용\n",
        "    # 각 항목에 weight 곱해서 가중 합을 구함\n",
        "    weighted_df = df_hot.multiply(df['weight'], axis=0)\n",
        "    total_weight = df['weight'].sum()\n",
        "\n",
        "    # 3. 각 단일 아이템별 Weighted Support 계산\n",
        "    w_sup = {\n",
        "        item: weighted_df[item].sum() / total_weight\n",
        "        for item in df_hot.columns\n",
        "    }\n",
        "\n",
        "    # 4. 아이템 쌍별(2-item) 조합의 Joint Weighted Support 계산\n",
        "    w_sup_pair = {}\n",
        "    for i in df_hot.columns:\n",
        "        for j in df_hot.columns:\n",
        "            if i == j:\n",
        "                continue\n",
        "            # 두 항목이 동시에 선택된 경우만 추출 후 weight 곱함\n",
        "            joint = (df_hot[i] & df_hot[j]).multiply(df['weight'], axis=0)\n",
        "            w_sup_pair[(i, j)] = joint.sum() / total_weight\n",
        "\n",
        "    # 5. Weighted Confidence 계산\n",
        "    w_conf = {\n",
        "        pair: w_sup_pair[pair] / w_sup[pair[0]]\n",
        "        for pair in w_sup_pair\n",
        "    }\n",
        "\n",
        "    # 6. Weighted Lift 계산\n",
        "    w_lift = {\n",
        "        pair: w_conf[pair] / w_sup[pair[1]]\n",
        "        for pair in w_conf\n",
        "    }\n",
        "\n",
        "    # 7. 규칙 필터링 (조건 만족하는 연관 규칙만 추출)\n",
        "    rules = [\n",
        "        (pair, w_sup_pair[pair], w_conf[pair], w_lift[pair])\n",
        "        for pair in w_conf\n",
        "        if w_sup_pair[pair] >= min_support      # 지지도 기준\n",
        "        and w_conf[pair] >= min_confidence     # 신뢰도 기준\n",
        "        and w_lift[pair] > 1                   # 양의 연관만 추출\n",
        "    ]\n",
        "\n",
        "    # 8. Lift 기준으로 내림차순 정렬 후 상위 10개 반환\n",
        "    return sorted(rules, key=lambda x: x[3], reverse=True)[:10]\n"
      ],
      "metadata": {
        "id": "3WtKJS1lqton"
      },
      "execution_count": 54,
      "outputs": []
    },
    {
      "cell_type": "markdown",
      "source": [
        "- 3. 4개 그룹 실행"
      ],
      "metadata": {
        "id": "FacusMbTqqlV"
      }
    },
    {
      "cell_type": "code",
      "source": [
        "segments = {\n",
        "    \"재방문 의향 + FIT\": df_positive_fit,\n",
        "    \"재방문 의향 + 패키지\": df_positive_pkg,\n",
        "    \"비재방문 + FIT\": df_negative_fit,\n",
        "    \"비재방문 + 패키지\": df_negative_pkg\n",
        "}\n",
        "\n",
        "results = {}\n",
        "for name, df_segment in segments.items():\n",
        "    print(f\"\\n 세그먼트: {name}\")\n",
        "    rules = run_association_analysis(df_segment)\n",
        "    results[name] = rules\n",
        "    for r in rules:\n",
        "        a, b = r[0]\n",
        "        print(f\"{a} → {b} | support: {r[1]:.3f}, confidence: {r[2]:.3f}, lift: {r[3]:.2f}\")"
      ],
      "metadata": {
        "colab": {
          "base_uri": "https://localhost:8080/"
        },
        "id": "wLSuYl6Uq6RL",
        "outputId": "d56eb468-13ad-46f7-97b0-0612b7242004"
      },
      "execution_count": 55,
      "outputs": [
        {
          "output_type": "stream",
          "name": "stdout",
          "text": [
            "\n",
            " 세그먼트: 재방문 의향 + FIT\n",
            "전통문화체험 (한복체험, 태권도, 한국 음식 만들기 등) → 기타 | support: 0.059, confidence: 0.583, lift: 1.52\n",
            "캐나다 → 쇼핑 | support: 0.107, confidence: 0.686, lift: 1.39\n",
            "박물관, 전시관 관람 → 기타 | support: 0.081, confidence: 0.519, lift: 1.35\n",
            "호주 → 쇼핑 | support: 0.058, confidence: 0.616, lift: 1.25\n",
            "박물관, 전시관 관람 → 고궁/역사 유적지 방문 | support: 0.081, confidence: 0.524, lift: 1.20\n",
            "전통문화체험 (한복체험, 태권도, 한국 음식 만들기 등) → 고궁/역사 유적지 방문 | support: 0.052, confidence: 0.516, lift: 1.18\n",
            "기타 → 고궁/역사 유적지 방문 | support: 0.197, confidence: 0.514, lift: 1.17\n",
            "독일 → 쇼핑 | support: 0.058, confidence: 0.578, lift: 1.17\n",
            "미국 → 식도락(음식/미식) 관광 | support: 0.060, confidence: 0.506, lift: 1.16\n",
            "미국 → 쇼핑 | support: 0.067, confidence: 0.567, lift: 1.15\n",
            "\n",
            " 세그먼트: 재방문 의향 + 패키지\n",
            "프랑스 → 쇼핑 | support: 0.132, confidence: 0.675, lift: 1.29\n",
            "기타 → 고궁/역사 유적지 방문 | support: 0.056, confidence: 0.699, lift: 1.27\n",
            "캐나다 → 식도락(음식/미식) 관광 | support: 0.064, confidence: 0.522, lift: 1.15\n",
            "Summer → 자연경관 감상 | support: 0.083, confidence: 0.502, lift: 1.12\n",
            "Spring → 식도락(음식/미식) 관광 | support: 0.134, confidence: 0.503, lift: 1.10\n",
            "캐나다 → 고궁/역사 유적지 방문 | support: 0.073, confidence: 0.589, lift: 1.07\n",
            "Spring → 고궁/역사 유적지 방문 | support: 0.156, confidence: 0.583, lift: 1.06\n",
            "Autumn → 쇼핑 | support: 0.191, confidence: 0.554, lift: 1.06\n",
            "Autumn → 고궁/역사 유적지 방문 | support: 0.198, confidence: 0.575, lift: 1.05\n",
            "전통문화체험 (한복체험, 태권도, 한국 음식 만들기 등) → 고궁/역사 유적지 방문 | support: 0.082, confidence: 0.562, lift: 1.02\n",
            "\n",
            " 세그먼트: 비재방문 + FIT\n",
            "전통문화체험 (한복체험, 태권도, 한국음식 만들기 등) → 고궁/역사 유적지 방문 | support: 0.065, confidence: 0.782, lift: 1.75\n",
            "캐나다 → 쇼핑 | support: 0.078, confidence: 0.557, lift: 1.65\n",
            "전통문화체험 (한복체험, 태권도, 한국 음식 만들기 등) → 기타 | support: 0.079, confidence: 0.765, lift: 1.39\n",
            "박물관, 전시관 관람 → 기타 | support: 0.160, confidence: 0.749, lift: 1.36\n",
            "박물관, 전시관 관람 → 고궁/역사 유적지 방문 | support: 0.125, confidence: 0.584, lift: 1.31\n",
            "전통문화체험 (한복체험, 태권도, 한국음식 만들기 등) → 기타 | support: 0.056, confidence: 0.674, lift: 1.22\n",
            "Autumn → 자연경관 감상 | support: 0.139, confidence: 0.506, lift: 1.15\n",
            "고궁/역사 유적지 방문 → 기타 | support: 0.282, confidence: 0.630, lift: 1.14\n",
            "기타 → 고궁/역사 유적지 방문 | support: 0.282, confidence: 0.511, lift: 1.14\n",
            "Summer → 고궁/역사 유적지 방문 | support: 0.133, confidence: 0.505, lift: 1.13\n",
            "\n",
            " 세그먼트: 비재방문 + 패키지\n",
            "비즈니스 전문활동(업무회의, 산업시설 시찰 등) → 연수, 교육, 연구 | support: 0.052, confidence: 1.000, lift: 14.19\n",
            "연수, 교육, 연구 → 비즈니스 전문활동(업무회의, 산업시설 시찰 등) | support: 0.052, confidence: 0.743, lift: 14.19\n",
            "스포츠/레포츠 참가 (스키, 수영, 골프, 캠핑 등) → Winter | support: 0.076, confidence: 0.915, lift: 4.44\n",
            "연수, 교육, 연구 → Autumn | support: 0.052, confidence: 0.735, lift: 1.84\n",
            "프랑스 → 쇼핑 | support: 0.077, confidence: 0.551, lift: 1.79\n",
            "Summer → 자연경관 감상 | support: 0.096, confidence: 0.710, lift: 1.67\n",
            "전통문화체험 (한복체험, 태권도, 한국음식 만들기 등) → 고궁/역사 유적지 방문 | support: 0.105, confidence: 0.824, lift: 1.45\n",
            "박물관, 전시관 관람 → Autumn | support: 0.094, confidence: 0.575, lift: 1.44\n",
            "미국 → 자연경관 감상 | support: 0.107, confidence: 0.588, lift: 1.39\n",
            "기타 → Autumn | support: 0.066, confidence: 0.551, lift: 1.38\n"
          ]
        }
      ]
    },
    {
      "cell_type": "markdown",
      "source": [
        "## 재방문 의향이 4-5점인 사람들만 전략 제시(기타활동 포함시 전략에서 제외)\n",
        "\n",
        "대상: revisit_score ≥ 4 (재방문 의향 있음)\n",
        "\n",
        "세분: FIT(개별여행객), 패키지(단체여행객)\n",
        "\n",
        "분석 방식: 연관분석 (support ≥ 0.03, confidence ≥ 0.5, lift > 1)\n",
        "\n",
        "가중치 반영\n",
        "\n",
        "\n",
        "**세그먼트 1: 재방문 의향 + FIT(개별여행)**\n",
        "\n",
        "| 연관규칙                       | support | confidence | lift     | 전략 해석                  |\n",
        "| -------------------------- | ------- | ---------- | -------- | ---------------------- |\n",
        "| 캐나다 → 쇼핑                   | 0.107   | 0.686      | **1.39** | 캐나다 고객 대상 쇼핑 연계 패스     |\n",
        "| 호주 → 쇼핑                    | 0.058   | 0.616      | **1.25** | 호주 FIT 고객 대상 쇼핑 콘텐츠 기획 |\n",
        "| 박물관, 전시관 관람 → 고궁/역사 유적지 방문 | 0.081   | 0.524      | **1.20** | 박물관 관람 후 역사 콘텐츠 유도     |\n",
        "| 전통문화체험 → 고궁/역사 유적지 방문      | 0.052   | 0.516      | **1.18** | 체험형 콘텐츠와 역사 유산의 연계 기획  |\n",
        "| 독일 → 쇼핑                    | 0.058   | 0.578      | **1.17** | 독일 고객 대상 면세/쇼핑 테마 강화   |\n",
        "| 프랑스 → 식도락 관광               | 0.044   | 0.512      | **1.17** | 프랑스 고객 대상 미식 콘텐츠 큐레이션  |\n",
        "| 미국 → 식도락 관광                | 0.060   | 0.506      | **1.16** | 미국 고객 대상 먹거리 투어 구성     |\n",
        "\n",
        "\n",
        "\n",
        "“전통 → 역사” 흐름은 행동 흐름 중심 전략에 적합\n",
        "\n",
        "“국가 → 쇼핑/식도락”은 국가별 테마 설계에 활용 가능\n",
        "\n",
        "<br>\n",
        "\n",
        "**세그먼트 2: 재방문 의향 + non-FIT**\n",
        "\n",
        "| 연관규칙                  | support | confidence | lift     | 전략 해석                 |\n",
        "| --------------------- | ------- | ---------- | -------- | --------------------- |\n",
        "| 스포츠/레포츠 참가 → Winter   | 0.031   | 0.633      | **2.85** | 겨울 시즌 스포츠 특화 패키지 구성   |\n",
        "| 프랑스 → 쇼핑              | 0.132   | 0.675      | **1.29** | 프랑스 고객 대상 쇼핑 중심 일정 설계 |\n",
        "| 캐나다 → 식도락 관광          | 0.064   | 0.522      | **1.15** | 캐나다 대상 미식 중심 체험 콘텐츠   |\n",
        "| Summer → 자연경관 감상      | 0.083   | 0.502      | **1.12** | 여름 휴양형 자연 중심 콘텐츠 구성   |\n",
        "| Spring → 식도락 관광       | 0.134   | 0.503      | **1.10** | 봄 시즌 미식 투어 집중 기획      |\n",
        "| 캐나다 → 고궁/역사 유적지 방문    | 0.073   | 0.589      | **1.07** | 문화 유산 콘텐츠에 대한 관심 반영   |\n",
        "| Spring → 고궁/역사 유적지 방문 | 0.156   | 0.583      | **1.06** | 봄 시즌 역사 관광 연계 콘텐츠 강화  |\n",
        "| Autumn → 쇼핑           | 0.191   | 0.554      | **1.06** | 가을철 쇼핑 마케팅 타이밍 연계     |\n",
        "\n",
        "\n",
        "\n",
        "“계절+콘텐츠 조합”이 강하게 나타남 → 시즌 특화형 패키지 전략 설계 유리\n",
        "\n",
        "프랑스/캐나다 고객의 음식·쇼핑 선호 반영 필요\n"
      ],
      "metadata": {
        "id": "ZvAYdr_KsfuX"
      }
    },
    {
      "cell_type": "markdown",
      "source": [
        "## support 지수에 대한 고민!\n",
        "\n",
        "support = 0.03 이란?\n",
        "→ 전체 가중치 기준 3%의 응답자가 해당 연관규칙에 해당된다는 의미입니다.\n",
        "\n",
        "예를 들어, 응답자 가중치 총합이 10,000명이라면 → 약 300명 수준.\n",
        "\n",
        "<br>\n",
        "\n",
        "**믿을만한 기준인가?**\n",
        "\n",
        "| 관점          | 판단                                                                            |\n",
        "| ----------- | ----------------------------------------------------------------------------- |\n",
        "| **이론적 해석**  | 0.03 이상이면 ‘희귀 규칙’은 아니며, **패턴 탐지 가능 수준**입니다.                                   |\n",
        "| **실무적 판단**  | 전략 기획에 활용하기 위해선 **lift나 confidence가 충분히 높아야** 신뢰할 수 있습니다.                     |\n",
        "| **통계적 신뢰도** | support가 너무 낮으면 → 통계적 변동성(노이즈)에 **민감**합니다.                                    |\n",
        "| **실제 사용 예** | 마케팅, 관광, 유통 등에서는 0.02\\~0.05 사이도 **자주 사용**됩니다. 단, **다른 조건(신뢰도, lift)을 강화**합니다. |\n",
        "\n",
        "\n",
        "**결론**\n",
        "\n",
        "support 0.03은 사용 가능하지만, confidence ≥ 0.5, lift > 1.2 이상일 때만 전략적으로 의미 있다고 간주하는 것이 안전\n",
        "\n",
        "support 크기에 따라 lift 기준을 조절하기로!!"
      ],
      "metadata": {
        "id": "SNczBua3ypu5"
      }
    },
    {
      "cell_type": "markdown",
      "source": [
        "# 전략 설계: 세그먼트별 연관분석 기반\n",
        "\n",
        "---\n",
        "\n",
        "## 1. FIT(개별여행객) 대상 “문화·역사 연계” 전략\n",
        "\n",
        "**핵심 패턴**  \n",
        "- 박물관·전시관 관람 → 고궁/역사유적지 방문  \n",
        "- 전통문화체험 → 고궁/역사유적지 방문  \n",
        "\n",
        "**전략 기획 예시**  \n",
        "- **서울 문화유산 1일 투어**  \n",
        "  - 오전: 국립중앙박물관 → 오후: 경복궁 한복체험 → 북촌 산책  \n",
        "- **체험형 역사여행 패스**  \n",
        "  - 전통 한식 만들기 → 태권도 체험 → 경복궁 야간개장  \n",
        "\n",
        "---\n",
        "\n",
        "## 2. non-FIT(패키지여행객) 대상 “계절별 테마” 전략\n",
        "\n",
        "| 계절      | 연관 패턴                        | 전략 아이디어                                |\n",
        "|-----------|---------------------------------|--------------------------------------------|\n",
        "| **Winter** | 스포츠/레포츠 참가 → Winter       | “겨울 레포츠 패키지” (스키 + 온천투어)               |\n",
        "| **Spring** | Spring → 고궁/역사유적지 방문     | “봄꽃 역사기행” (창덕궁 벚꽃길 + 전통공예 체험)       |\n",
        "| **Summer** | Summer → 자연경관 감상           | “여름 자연힐링 투어” (섬·계곡·숲속 글램핑)            |\n",
        "| **Autumn** | Autumn → 쇼핑                   | “가을 쇼핑 페스티벌” (전통시장 + 아울렛 투어)         |\n",
        "\n",
        "---\n",
        "\n",
        "## 3. 실무 적용 팁\n",
        "\n",
        "1. **프로모션 타이밍**  \n",
        "   - 시즌 시작 전 얼리버드 프로모션(1~2개월 전)  \n",
        "   - 시즌 중반엔 야간개장·축제 옵션 A/B 테스트  \n",
        "\n",
        "2. **크로스셀 & 업셀**  \n",
        "   - FIT 투어에 “역사+체험” 옵션 추가  \n",
        "   - 패키지에 “숙소 업그레이드”·“현지 레스토랑 체험” 묶음  \n",
        "\n",
        "3. **A/B 테스트**  \n",
        "   - 그룹별 광고 메시지(문화·역사 vs 계절 테마) 집행  \n",
        "   - 전환율·예약 전환율 비교 분석  \n",
        "\n",
        "---\n"
      ],
      "metadata": {
        "id": "euPFDBVr3qz6"
      }
    },
    {
      "cell_type": "markdown",
      "source": [
        "# 검증"
      ],
      "metadata": {
        "id": "FGmOlbgz4GK_"
      }
    },
    {
      "cell_type": "markdown",
      "source": [
        "## 1. 데이터 준비\n",
        "\n",
        "- revisit_score ≥ 4 & is_FIT 기준으로 두 DataFrame 생성\n",
        "\n",
        "- item_list → df_hot (0/1 매트릭스)"
      ],
      "metadata": {
        "id": "4h7kaW-54_QJ"
      }
    },
    {
      "cell_type": "code",
      "source": [
        "from sklearn.preprocessing import MultiLabelBinarizer\n",
        "import numpy as np\n",
        "import pandas as pd\n",
        "\n",
        "# 1-1. 그룹 필터링\n",
        "df_fit     = df_all[(df_all['revisit_score'] >= 4) & (df_all['is_FIT'] == 1)].reset_index(drop=True)\n",
        "df_nonfit  = df_all[(df_all['revisit_score'] >= 4) & (df_all['is_FIT'] == 0)].reset_index(drop=True)\n",
        "\n",
        "# 1-2. One-hot 인코딩 함수\n",
        "def make_hot(df):\n",
        "    mlb = MultiLabelBinarizer()\n",
        "    hot = pd.DataFrame(\n",
        "        mlb.fit_transform(df['item_list']),\n",
        "        columns=mlb.classes_,\n",
        "        index=df.index\n",
        "    )\n",
        "    return hot\n",
        "\n",
        "# 1-3. 그룹별 hot/weights 준비\n",
        "df_hot_fit    = make_hot(df_fit)\n",
        "weights_fit   = df_fit['weight']\n",
        "df_hot_nonfit = make_hot(df_nonfit)\n",
        "weights_nonfit= df_nonfit['weight']"
      ],
      "metadata": {
        "id": "m8ZLrplQ3xHD"
      },
      "execution_count": 56,
      "outputs": []
    },
    {
      "cell_type": "markdown",
      "source": [
        "## 2. 연관 지표 함수 정의\n",
        "\n",
        "- rule_metrics(): support, confidence, lift 반환"
      ],
      "metadata": {
        "id": "Owjhdzvb5D_3"
      }
    },
    {
      "cell_type": "code",
      "source": [
        "def rule_metrics(hot, w, ant, con):\n",
        "    \"\"\"주어진 antecedent→consequent에 대한 support, confidence, lift 계산.\"\"\"\n",
        "    total_w = w.sum()\n",
        "    sup_ac  = (hot[ant] & hot[con]).mul(w).sum() / total_w\n",
        "    sup_a   = hot[ant].mul(w).sum() / total_w\n",
        "    sup_c   = hot[con].mul(w).sum() / total_w\n",
        "    conf    = sup_ac / sup_a if sup_a>0 else np.nan\n",
        "    lift    = conf / sup_c if sup_c>0 else np.nan\n",
        "    return sup_ac, conf, lift"
      ],
      "metadata": {
        "id": "Ug6Xkw6E5Erm"
      },
      "execution_count": 57,
      "outputs": []
    },
    {
      "cell_type": "markdown",
      "source": [
        "## 3. Bootstrap 95% CI 함수\n",
        "\n",
        "- bootstrap_ci(): 1,000회 부트스트랩 샘플 → 2.5%–97.5% 분위수 계산"
      ],
      "metadata": {
        "id": "sdPDnLfe5HvJ"
      }
    },
    {
      "cell_type": "code",
      "source": [
        "def bootstrap_ci(hot, w, ant, con, n_iter=1000):\n",
        "    \"\"\"Bootstrap으로 support, confidence, lift 95% CI 계산.\"\"\"\n",
        "    np.random.seed(0)\n",
        "    metrics = []\n",
        "    n = len(hot)\n",
        "    for _ in range(n_iter):\n",
        "        idx = np.random.choice(n, n, replace=True)\n",
        "        sup, conf, lift = rule_metrics(hot.iloc[idx], w.iloc[idx], ant, con)\n",
        "        metrics.append((sup, conf, lift))\n",
        "    dfm = pd.DataFrame(metrics, columns=['support','confidence','lift'])\n",
        "    return dfm.quantile([0.025, 0.975])"
      ],
      "metadata": {
        "id": "29wwy2Ts5Ih6"
      },
      "execution_count": 58,
      "outputs": []
    },
    {
      "cell_type": "markdown",
      "source": [
        "## 4. Permutation Test 함수\n",
        "\n",
        "- permutation_pvalue(): 귀무가설 하 permuted lift 분포 생성 → p-value 산출"
      ],
      "metadata": {
        "id": "ZFnSrIxH5LsC"
      }
    },
    {
      "cell_type": "code",
      "source": [
        "def permutation_pvalue(hot, w, ant, con, n_iter=1000):\n",
        "    \"\"\"\n",
        "    Permutation test:\n",
        "    - 귀무가설: ant와 con이 독립.\n",
        "    - p-value: 관측 lift가 permuted lift보다 큰 비율.\n",
        "    \"\"\"\n",
        "    obs_sup, obs_conf, obs_lift = rule_metrics(hot, w, ant, con)\n",
        "    count = 0\n",
        "    n = len(hot)\n",
        "    for _ in range(n_iter):\n",
        "        perm_con = hot[con].sample(frac=1, replace=False).reset_index(drop=True)\n",
        "        sup, conf, lift = rule_metrics(\n",
        "            hot[[ant]].reset_index(drop=True).join(perm_con),\n",
        "            w.reset_index(drop=True),\n",
        "            ant, con\n",
        "        )\n",
        "        if lift >= obs_lift:\n",
        "            count += 1\n",
        "    return count / n_iter"
      ],
      "metadata": {
        "id": "vN-TkQl25MUG"
      },
      "execution_count": 61,
      "outputs": []
    },
    {
      "cell_type": "markdown",
      "source": [
        "## 5. 검증할 전략 패턴 리스트\n",
        "\n",
        "- FIT 그룹 2개, non-FIT 그룹 4개 패턴"
      ],
      "metadata": {
        "id": "3hNJ19Rc5VcP"
      }
    },
    {
      "cell_type": "code",
      "source": [
        "fit_rules = [\n",
        "    (\"박물관, 전시관 관람\", \"고궁/역사 유적지 방문\"),\n",
        "    (\"전통문화체험 (한복체험, 태권도, 한국음식 만들기 등)\", \"고궁/역사 유적지 방문\"),\n",
        "]\n",
        "nonfit_rules = [\n",
        "    (\"스포츠/레포츠 참가 (스키, 수영, 골프, 캠핑 등)\", \"Winter\"),\n",
        "    (\"Spring\", \"고궁/역사 유적지 방문\"),\n",
        "    (\"Summer\", \"자연경관 감상\"),\n",
        "    (\"Autumn\", \"쇼핑\"),\n",
        "]"
      ],
      "metadata": {
        "id": "_38Km-m95WIP"
      },
      "execution_count": 65,
      "outputs": []
    },
    {
      "cell_type": "markdown",
      "source": [
        "## 6. Bootstrap CI & Permutation p-value 계산 및 출력\n",
        "\n",
        "- 각 규칙별 CI와 p-value 확인 →\n",
        "\n",
        "- CI 하한 > 1이면 “양의 연관이 통계적으로 안정적”\n",
        "\n",
        "- p-value < 0.05이면 “우연일 확률 낮음”"
      ],
      "metadata": {
        "id": "FgABuWoB5Y2e"
      }
    },
    {
      "cell_type": "code",
      "source": [
        "# df_hot_fit 에 어떤 아이템이 있는지 리스트로 출력해 봅니다\n",
        "print(df_hot_fit.columns.tolist())"
      ],
      "metadata": {
        "colab": {
          "base_uri": "https://localhost:8080/"
        },
        "id": "bPh_D3Kx6Fxy",
        "outputId": "4cf86a5b-3d68-4703-865e-ec1394b9a51f"
      },
      "execution_count": 64,
      "outputs": [
        {
          "output_type": "stream",
          "name": "stdout",
          "text": [
            "['Autumn', 'K-POP/한류스타 공연장 및 드라마/영화 촬영지 방문', 'Spring', 'Summer', 'Winter', '고궁/역사 유적지 방문', '국제회의(컨벤션, 국제회의, 전시 등)', '기타', '독일', '미국', '박물관, 전시관 관람', '뷰티/미용 관광(마사지샵, 헤어샵, 네일케어 등 방문)', '비즈니스 전문활동(업무회의, 산업시설 시찰 등)', '쇼핑', '스포츠/레포츠 관람 (야구, 축구, 농구 등)', '스포츠/레포츠 참가 (스키, 수영, 골프, 캠핑 등)', '식도락(음식/미식) 관광', '연극, 뮤지컬, 발레 등 공연 관람', '연수, 교육, 연구', '영국', '오락(놀이공원 및 테마파크 방문 등)', '유흥(나이트라이프 활동 및 카지노 등)', '유흥(나이트라이프 활동 및 카지노)', '자연경관 감상', '전통문화체험 (한복체험, 태권도, 한국 음식 만들기 등)', '전통문화체험 (한복체험, 태권도, 한국음식 만들기 등)', '지역 축제 참여', '치료/건강검진(피부과, 성형외과, 내외과 등 입원, 수술 등)', '치료/건강검진(피부과, 성형외과, 내외과 입원, 수술 등)', '캐나다', '프랑스', '호주', '휴양/휴식(웰니스)']\n"
          ]
        }
      ]
    },
    {
      "cell_type": "code",
      "source": [
        "# 6-1. FIT 그룹 검증\n",
        "print(\"▶ FIT 그룹 전략 검증\")\n",
        "for ant, con in fit_rules:\n",
        "    ci = bootstrap_ci(df_hot_fit, weights_fit, ant, con)\n",
        "    p = permutation_pvalue(df_hot_fit, weights_fit, ant, con)\n",
        "    print(f\"\\n{ant} → {con}\")\n",
        "    print(ci)\n",
        "    print(f\"Permutation p-value: {p:.3f}\")\n",
        "\n",
        "# 6-2. non-FIT 그룹 검증\n",
        "print(\"\\n▶ non-FIT 그룹 전략 검증\")\n",
        "for ant, con in nonfit_rules:\n",
        "    ci = bootstrap_ci(df_hot_nonfit, weights_nonfit, ant, con)\n",
        "    p = permutation_pvalue(df_hot_nonfit, weights_nonfit, ant, con)\n",
        "    print(f\"\\n{ant} → {con}\")\n",
        "    print(ci)\n",
        "    print(f\"Permutation p-value: {p:.3f}\")"
      ],
      "metadata": {
        "colab": {
          "base_uri": "https://localhost:8080/"
        },
        "id": "2wKT96BM5aNc",
        "outputId": "4988243b-d397-40a2-d8ea-1cbe110b18f9"
      },
      "execution_count": 66,
      "outputs": [
        {
          "output_type": "stream",
          "name": "stdout",
          "text": [
            "▶ FIT 그룹 전략 검증\n",
            "\n",
            "박물관, 전시관 관람 → 고궁/역사 유적지 방문\n",
            "        support  confidence      lift\n",
            "0.025  0.071740    0.481166  1.108581\n",
            "0.975  0.091462    0.566273  1.287670\n",
            "Permutation p-value: 0.000\n",
            "\n",
            "전통문화체험 (한복체험, 태권도, 한국음식 만들기 등) → 고궁/역사 유적지 방문\n",
            "        support  confidence      lift\n",
            "0.025  0.023513    0.416829  0.954692\n",
            "0.975  0.034208    0.547604  1.242213\n",
            "Permutation p-value: 0.086\n",
            "\n",
            "▶ non-FIT 그룹 전략 검증\n",
            "\n",
            "스포츠/레포츠 참가 (스키, 수영, 골프, 캠핑 등) → Winter\n",
            "        support  confidence      lift\n",
            "0.025  0.019718    0.487949  2.196760\n",
            "0.975  0.044087    0.770621  3.579682\n",
            "Permutation p-value: 0.000\n",
            "\n",
            "Spring → 고궁/역사 유적지 방문\n",
            "        support  confidence      lift\n",
            "0.025  0.129155    0.513597  0.952510\n",
            "0.975  0.184369    0.652012  1.180285\n",
            "Permutation p-value: 0.183\n",
            "\n",
            "Summer → 자연경관 감상\n",
            "        support  confidence      lift\n",
            "0.025  0.064828    0.427027  0.954466\n",
            "0.975  0.104132    0.577537  1.291499\n",
            "Permutation p-value: 0.083\n",
            "\n",
            "Autumn → 쇼핑\n",
            "        support  confidence      lift\n",
            "0.025  0.157746    0.481208  0.943618\n",
            "0.975  0.226934    0.631132  1.166997\n",
            "Permutation p-value: 0.147\n"
          ]
        }
      ]
    },
    {
      "cell_type": "markdown",
      "source": [
        "## 결과\n",
        "\n",
        "| 연관규칙                                                   | 그룹       | 95% CI (lift)    | p-value | 결정       |\n",
        "|-------------------------------------------------------------|-----------|------------------|---------|-----------|\n",
        "| 박물관·전시관 관람 → 고궁/역사 유적지 방문                   | FIT       | [1.109, 1.288]   | 0.000   | 강력 추천 |\n",
        "| 전통문화체험 (한복체험, 태권도, 한국음식 만들기 등) → 고궁/역사 유적지 방문 | FIT       | [0.955, 1.242]   | 0.086   | 보조 전략 |\n",
        "| 스포츠/레포츠 참가 (스키, 수영, 골프, 캠핑 등) → Winter      | non-FIT   | [2.197, 3.580]   | 0.000   | 강력 추천 |\n",
        "| Spring → 고궁/역사 유적지 방문                              | non-FIT   | [0.953, 1.180]   | 0.183   | 제외       |\n",
        "| Summer → 자연경관 감상                                      | non-FIT   | [0.954, 1.291]   | 0.083   | 보조 전략 |\n",
        "| Autumn → 쇼핑                                              | non-FIT   | [0.944, 1.167]   | 0.147   | 제외       |\n",
        "\n",
        "▶ 결론\n",
        "\n",
        "- 통계적으로 강력 검증된 전략\n",
        "\n",
        "  - 박물관 관람 → 고궁/역사 (FIT 그룹)\n",
        "\n",
        "  - 스포츠/레포츠 참가 → Winter (non-FIT 그룹)\n",
        "\n",
        "- 보조/재검토 전략\n",
        "\n",
        "  - 전통문화체험 → 고궁 (FIT): CI 상한이 높으므로, 보조 전략으로 유지\n",
        "\n",
        "  - Summer→자연경관 (non-FIT): p≈0.08, lift 상한 높음 → 재검토 후보\n",
        "\n",
        "- 제외할 전략\n",
        "\n",
        "  - Spring→고궁, Autumn→쇼핑 (non-FIT)"
      ],
      "metadata": {
        "id": "eBb5mY8F7ViS"
      }
    }
  ]
}