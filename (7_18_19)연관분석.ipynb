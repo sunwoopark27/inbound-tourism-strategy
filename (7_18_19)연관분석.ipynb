{
  "nbformat": 4,
  "nbformat_minor": 0,
  "metadata": {
    "colab": {
      "provenance": [],
      "toc_visible": true
    },
    "kernelspec": {
      "name": "python3",
      "display_name": "Python 3"
    },
    "language_info": {
      "name": "python"
    }
  },
  "cells": [
    {
      "cell_type": "markdown",
      "source": [
        "### 초기설정"
      ],
      "metadata": {
        "id": "DNp0M6t1kPLF"
      }
    },
    {
      "cell_type": "code",
      "source": [
        "%%capture\n",
        "!pip install koreanize-matplotlib\n",
        "import koreanize_matplotlib"
      ],
      "metadata": {
        "id": "ue6434IZXFK6"
      },
      "execution_count": null,
      "outputs": []
    },
    {
      "cell_type": "code",
      "execution_count": 2,
      "metadata": {
        "id": "XdaIWL45fEIL"
      },
      "outputs": [],
      "source": [
        "import pandas as pd\n",
        "\n",
        "# df_2018 = pd.read_excel('/content/2018.xlsx')\n",
        "# df_2019 = pd.read_excel('/content/2019.xlsx')\n",
        "# df_2020 = pd.read_excel('/content/2020.xlsx')\n",
        "# df_2021 = pd.read_excel('/content/2021.xlsx')\n",
        "# df_2022 = pd.read_excel('/content/2022.xlsx')\n",
        "df_2023 = pd.read_excel('/content/2023.xlsx')\n",
        "df_2024 = pd.read_excel('/content/2024.xlsx')"
      ]
    },
    {
      "cell_type": "code",
      "source": [
        "# grade_map = {\n",
        "#     '① 전혀 그렇지 않다': 1,\n",
        "#     '② 별로 그렇지 않다': 2,\n",
        "#     '③ 보통이다': 3,\n",
        "#     '④ 대체로 그렇다': 4,\n",
        "#     '⑤ 매우 그렇다': 5\n",
        "# }\n",
        "\n",
        "# df_2018['Q16'] = df_2018['Q16'].map(grade_map)"
      ],
      "metadata": {
        "id": "kmyNqnzOkYbu"
      },
      "execution_count": 3,
      "outputs": []
    },
    {
      "cell_type": "code",
      "source": [
        "# df_2018['국가명'] = df_2018['COUNTRY']"
      ],
      "metadata": {
        "id": "xhj-m9F-kakb"
      },
      "execution_count": 4,
      "outputs": []
    },
    {
      "cell_type": "code",
      "source": [
        "country_map = {\n",
        "    1: '일본',\n",
        "    2: '중국',\n",
        "    3: '홍콩',\n",
        "    4: '싱가포르',\n",
        "    5: '대만',\n",
        "    6: '태국',\n",
        "    7: '말레이시아',\n",
        "    8: '호주',\n",
        "    9: '미국',\n",
        "    10: '캐나다',\n",
        "    11: '영국',\n",
        "    12: '독일',\n",
        "    13: '프랑스',\n",
        "    14: '러시아',\n",
        "    15: '중동',\n",
        "    16: '인도',\n",
        "    17: '필리핀',\n",
        "    18: '인도네시아',\n",
        "    19: '베트남',\n",
        "    20: '몽골',\n",
        "    97: '기타'\n",
        "}\n",
        "\n",
        "# 2018은 이미 COUNTY 컬럼에 국가명이 적혀있음.\n",
        "# df_2019['국가명'] = df_2019['D_COU1'].map(country_map)\n",
        "# df_2020['국가명'] = df_2020['D_NAT'].map(country_map)\n",
        "# df_2021['국가명'] = df_2021['D_NAT'].map(country_map)\n",
        "# df_2022['국가명'] = df_2022['D_NAT'].map(country_map)\n",
        "df_2023['국가명'] = df_2023['D_NAT'].map(country_map)\n",
        "df_2024['국가명'] = df_2024['D_NAT'].map(country_map)"
      ],
      "metadata": {
        "id": "bSNmmzPdkja4"
      },
      "execution_count": 5,
      "outputs": []
    },
    {
      "cell_type": "markdown",
      "source": [
        "- 활동명 매핑 (주요활동/만족활동) - 2022~2024"
      ],
      "metadata": {
        "id": "37PB9LUFcSC5"
      }
    },
    {
      "cell_type": "code",
      "source": [
        "# # 1. 활동명 매핑\n",
        "# q4a_mapping_2022 = {\n",
        "#     \"Q4A01\": \"식도락 관광\", \"Q4A02\": \"쇼핑\", \"Q4A03\": \"자연경관 감상\", \"Q4A04\": \"고궁/역사 유적지 방문\",\n",
        "#     \"Q4A05\": \"전통문화체험\", \"Q4A06\": \"박물관, 전시관 관람\", \"Q4A07\": \"K-POP/한류스타 공연장 방문\",\n",
        "#     \"Q4A08\": \"드라마/영화 촬영지 방문\", \"Q4A09\": \"연극, 뮤지컬, 발레 등 공연 관람\", \"Q4A10\": \"지역 축제 참여\",\n",
        "#     \"Q4A11\": \"유흥/오락\", \"Q4A12\": \"뷰티/의료관광\", \"Q4A13\": \"스포츠/레포츠 및 비즈니스 활동\",\n",
        "#     \"Q4A14\": \"업무수행\", \"Q4A15\": \"연수/교육/연구\", \"Q4A16\": \"시찰(산업시설 등)\", \"Q4A17\": \"기타\"\n",
        "# }\n",
        "\n",
        "# q4b_code_mapping_2022 = {\n",
        "#     1: \"식도락 관광\", 2: \"쇼핑\", 3: \"자연경관 감상\", 4: \"고궁/역사 유적지 방문\",\n",
        "#     5: \"전통문화체험\", 6: \"박물관, 전시관 관람\", 7: \"K-POP/한류스타 공연장 방문\",\n",
        "#     8: \"드라마/영화 촬영지 방문\", 9: \"연극, 뮤지컬, 발레 등 공연 관람\", 10: \"지역 축제 참여\",\n",
        "#     11: \"유흥/오락\", 12: \"뷰티/의료관광\", 13: \"스포츠/레포츠 및 비즈니스 활동\",\n",
        "#     14: \"업무수행\", 15: \"연수/교육/연구\", 16: \"시찰(산업시설 등)\", 17: \"기타\"\n",
        "# }\n",
        "\n",
        "# q4a_cols = list(q4a_mapping_2022.keys())\n",
        "# q4b_cols = [\"Q4B1\", \"Q4B2\", \"Q4B3\"]\n",
        "\n",
        "# # 2. 주요활동 추출 함수\n",
        "# def get_q4a_activities(row):\n",
        "#     return [q4a_mapping_2022[col] for col in q4a_cols if col in row and pd.notna(row[col])]\n",
        "\n",
        "# # 3. 만족활동 추출 함수\n",
        "# def get_q4b_satisfaction(row):\n",
        "#     return [q4b_code_mapping_2022.get(int(row[col]), f\"코드 {row[col]}\")\n",
        "#             for col in q4b_cols if col in row and pd.notna(row[col])]\n",
        "\n",
        "# # 4. 적용 (df_2022가 정의된 상태에서만)\n",
        "# df_2022[\"주요활동\"] = df_2022.apply(get_q4a_activities, axis=1)\n",
        "# df_2022[\"만족활동\"] = df_2022.apply(get_q4b_satisfaction, axis=1)\n"
      ],
      "metadata": {
        "id": "Hdv3F8xKcPek"
      },
      "execution_count": 6,
      "outputs": []
    },
    {
      "cell_type": "code",
      "source": [
        "# 1. 활동명 매핑\n",
        "q8a_mapping_2023 = {\n",
        "    \"Q8a01\": \"식도락(음식/미식) 관광\", \"Q8a02\": \"쇼핑\", \"Q8a03\": \"자연경관 감상\", \"Q8a04\": \"고궁/역사 유적지 방문\",\n",
        "    \"Q8a05\": \"전통문화체험 (한복체험, 태권도, 한국음식 만들기 등)\", \"Q8a06\": \"박물관, 전시관 관람\",\n",
        "    \"Q8a07\": \"K-POP/한류스타 공연장 및 드라마/영화 촬영지 방문\", \"Q8a08\": \"연극, 뮤지컬, 발레 등 공연 관람\",\n",
        "    \"Q8a09\": \"지역 축제 참여\", \"Q8a10\": \"유흥(나이트라이프 활동 및 카지노 등)\", \"Q8a11\": \"오락(놀이공원 및 테마파크 방문 등)\",\n",
        "    \"Q8a12\": \"뷰티/미용 관광(마사지샵, 헤어샵, 네일케어 등 방문)\", \"Q8a13\": \"치료/건강검진(피부과, 성형외과, 내외과 등 입원, 수술 등)\",\n",
        "    \"Q8a14\": \"스포츠/레포츠 관람 (야구, 축구, 농구 등)\", \"Q8a15\": \"스포츠/레포츠 참가 (스키, 수영, 골프, 캠핑 등)\",\n",
        "    \"Q8a16\": \"국제회의(컨벤션, 국제회의, 전시 등)\", \"Q8a17\": \"비즈니스 전문활동(업무회의, 산업시설 시찰 등)\",\n",
        "    \"Q8a18\": \"연수, 교육, 연구\", \"Q8a19\": \"기타\"\n",
        "}\n",
        "\n",
        "q8b_code_mapping_2023 = {\n",
        "    1: \"식도락(음식/미식) 관광\", 2: \"쇼핑\", 3: \"자연경관 감상\", 4: \"고궁/역사 유적지 방문\",\n",
        "    5: \"전통문화체험 (한복체험, 태권도, 한국음식 만들기 등)\", 6: \"박물관, 전시관 관람\",\n",
        "    7: \"K-POP/한류스타 공연장 및 드라마/영화 촬영지 방문\", 8: \"연극, 뮤지컬, 발레 등 공연 관람\",\n",
        "    9: \"지역 축제 참여\", 10: \"유흥(나이트라이프 활동 및 카지노 등)\",\n",
        "    11: \"오락(놀이공원 및 테마파크 방문 등)\", 12: \"뷰티/미용 관광(마사지샵, 헤어샵, 네일케어 등 방문)\",\n",
        "    13: \"치료/건강검진(피부과, 성형외과, 내외과 등 입원, 수술 등)\", 14: \"스포츠/레포츠 관람 (야구, 축구, 농구 등)\",\n",
        "    15: \"스포츠/레포츠 참가 (스키, 수영, 골프, 캠핑 등)\", 16: \"국제회의(컨벤션, 국제회의, 전시 등)\",\n",
        "    17: \"비즈니스 전문활동(업무회의, 산업시설 시찰 등)\", 18: \"연수, 교육, 연구\", 19: \"기타\"\n",
        "}\n",
        "\n",
        "q8a_cols = list(q8a_mapping_2023.keys())\n",
        "q8b_cols = [\"Q8_1a1\", \"Q8_1a2\", \"Q8_1a3\"]\n",
        "\n",
        "# 2. 주요활동 추출 함수\n",
        "def get_q8a_activities(row):\n",
        "    return [q8a_mapping_2023[col] for col in q8a_cols if col in row and pd.notna(row[col])]\n",
        "\n",
        "# 3. 만족활동 추출 함수\n",
        "def get_q8b_satisfaction(row):\n",
        "    return [q8b_code_mapping_2023.get(int(row[col]), f\"코드 {row[col]}\")\n",
        "            for col in q8b_cols if col in row and pd.notna(row[col])]\n",
        "\n",
        "# 4. 적용 (df_2023이 정의된 상태에서만)\n",
        "df_2023[\"주요활동\"] = df_2023.apply(get_q8a_activities, axis=1)\n",
        "df_2023[\"만족활동\"] = df_2023.apply(get_q8b_satisfaction, axis=1)"
      ],
      "metadata": {
        "id": "87EGdvLGhgAc"
      },
      "execution_count": 7,
      "outputs": []
    },
    {
      "cell_type": "code",
      "source": [
        "# 1. 활동명 매핑\n",
        "q8a_mapping_2024 = {\n",
        "    \"Q8a01\": \"식도락(음식/미식) 관광\", \"Q8a02\": \"쇼핑\", \"Q8a03\": \"자연경관 감상\", \"Q8a04\": \"휴양/휴식(웰니스)\",\n",
        "    \"Q8a05\": \"고궁/역사 유적지 방문\", \"Q8a06\": \"전통문화체험 (한복체험, 태권도, 한국 음식 만들기 등)\",\n",
        "    \"Q8a07\": \"박물관, 전시관 관람\", \"Q8a08\": \"K-POP/한류스타 공연장 및 드라마/영화 촬영지 방문\",\n",
        "    \"Q8a09\": \"연극, 뮤지컬, 발레 등 공연 관람\", \"Q8a10\": \"지역 축제 참여\",\n",
        "    \"Q8a11\": \"유흥(나이트라이프 활동 및 카지노)\", \"Q8a12\": \"오락(놀이공원 및 테마파크 방문 등)\",\n",
        "    \"Q8a13\": \"뷰티/미용 관광(마사지샵, 헤어샵, 네일케어 등 방문)\", \"Q8a14\": \"치료/건강검진(피부과, 성형외과, 내외과 입원, 수술 등)\",\n",
        "    \"Q8a15\": \"스포츠/레포츠 관람 (야구, 축구, 농구 등)\", \"Q8a16\": \"스포츠/레포츠 참가 (스키, 수영, 골프, 캠핑 등)\",\n",
        "    \"Q8a17\": \"국제회의(컨벤션, 국제회의, 전시 등)\", \"Q8a18\": \"비즈니스 전문활동(업무회의, 산업시설 시찰 등)\",\n",
        "    \"Q8a19\": \"연수, 교육, 연구\", \"Q8a20\": \"기타\"\n",
        "}\n",
        "\n",
        "q8b_code_mapping_2024 = {\n",
        "    1: \"식도락(음식/미식) 관광\", 2: \"쇼핑\", 3: \"자연경관 감상\", 4: \"휴양/휴식(웰니스)\",\n",
        "    5: \"고궁/역사 유적지 방문\", 6: \"전통문화체험 (한복체험, 태권도, 한국 음식 만들기 등)\",\n",
        "    7: \"박물관, 전시관 관람\", 8: \"K-POP/한류스타 공연장 및 드라마/영화 촬영지 방문\",\n",
        "    9: \"연극, 뮤지컬, 발레 등 공연 관람\", 10: \"지역 축제 참여\",\n",
        "    11: \"유흥(나이트라이프 활동 및 카지노)\", 12: \"오락(놀이공원 및 테마파크 방문 등)\",\n",
        "    13: \"뷰티/미용 관광(마사지샵, 헤어샵, 네일케어 등 방문)\", 14: \"치료/건강검진(피부과, 성형외과, 내외과 입원, 수술 등)\",\n",
        "    15: \"스포츠/레포츠 관람 (야구, 축구, 농구 등)\", 16: \"스포츠/레포츠 참가 (스키, 수영, 골프, 캠핑 등)\",\n",
        "    17: \"국제회의(컨벤션, 국제회의, 전시 등)\", 18: \"비즈니스 전문활동(업무회의, 산업시설 시찰 등)\",\n",
        "    19: \"연수, 교육, 연구\", 20: \"기타\"\n",
        "}\n",
        "\n",
        "q8a_cols = list(q8a_mapping_2024.keys())\n",
        "q8b_cols = [\"Q8_1a1\", \"Q8_1a2\", \"Q8_1a3\"]\n",
        "\n",
        "# 2. 주요활동 추출 함수\n",
        "def get_q8a_activities(row):\n",
        "    return [q8a_mapping_2024[col] for col in q8a_cols if col in row and pd.notna(row[col])]\n",
        "\n",
        "# 3. 만족활동 추출 함수\n",
        "def get_q8b_satisfaction(row):\n",
        "    return [q8b_code_mapping_2024.get(int(row[col]), f\"코드 {row[col]}\")\n",
        "            for col in q8b_cols if col in row and pd.notna(row[col])]\n",
        "\n",
        "# 4. 적용 (df_2024이 정의된 상태에서만 실행)\n",
        "df_2024[\"주요활동\"] = df_2024.apply(get_q8a_activities, axis=1)\n",
        "df_2024[\"만족활동\"] = df_2024.apply(get_q8b_satisfaction, axis=1)\n"
      ],
      "metadata": {
        "id": "_boxnJOHies9"
      },
      "execution_count": 8,
      "outputs": []
    },
    {
      "cell_type": "code",
      "source": [
        "# df_2023.drop(columns=['방문지역'], inplace=True)\n",
        "# df_2024.drop(columns=['방문지역'], inplace=True)"
      ],
      "metadata": {
        "id": "bhs0uL31cq3m"
      },
      "execution_count": 21,
      "outputs": []
    },
    {
      "cell_type": "code",
      "source": [
        "import pandas as pd\n",
        "\n",
        "# 1. 지역 컬럼 정의\n",
        "region_cols = [f\"Q9_2a{str(i).zfill(2)}\" for i in range(1, 18)]\n",
        "\n",
        "# 2. 지역 코드 → 지역명 매핑\n",
        "region_map = {\n",
        "    1: \"서울\", 2: \"경기\", 3: \"인천\", 4: \"강원\", 5: \"대전\",\n",
        "    6: \"충북\", 7: \"충남\", 8: \"세종\", 9: \"경북\", 10: \"경남\",\n",
        "    11: \"대구\", 12: \"울산\", 13: \"부산\", 14: \"광주\", 15: \"전북\",\n",
        "    16: \"전남\", 17: \"제주\"\n",
        "}\n",
        "\n",
        "# 3. 지역 리스트 추출 함수 (수정 버전)\n",
        "def extract_visited_regions(row):\n",
        "    visited = []\n",
        "    for col in region_cols:\n",
        "        val = row.get(col)\n",
        "        if pd.notna(val):\n",
        "            try:\n",
        "                code = int(val)\n",
        "                region = region_map.get(code)\n",
        "                if region and region not in visited:\n",
        "                    visited.append(region)\n",
        "            except:\n",
        "                continue\n",
        "    return visited\n",
        "\n",
        "# 4. 적용\n",
        "df_2023[\"방문지역\"] = df_2023.apply(extract_visited_regions, axis=1)\n",
        "df_2024[\"방문지역\"] = df_2024.apply(extract_visited_regions, axis=1)\n",
        "\n",
        "# 5. 확인\n",
        "print(df_2023[[\"pnid\", \"방문지역\"]].head(10))\n",
        "print(df_2024[[\"pnid\", \"방문지역\"]].head(10))"
      ],
      "metadata": {
        "colab": {
          "base_uri": "https://localhost:8080/"
        },
        "id": "c2kZ8tnDdC_5",
        "outputId": "6fb089d0-d56b-4477-dd5c-19fafd1dd108"
      },
      "execution_count": 22,
      "outputs": [
        {
          "output_type": "stream",
          "name": "stdout",
          "text": [
            "   pnid          방문지역\n",
            "0     6      [서울, 강원]\n",
            "1     7          [서울]\n",
            "2     8          [인천]\n",
            "3    10          [서울]\n",
            "4    11      [서울, 인천]\n",
            "5    12          [서울]\n",
            "6    14      [서울, 강원]\n",
            "7    16          [경기]\n",
            "8    19  [서울, 강원, 부산]\n",
            "9    20      [서울, 강원]\n",
            "   pnid      방문지역\n",
            "0    57      [서울]\n",
            "1    58      [서울]\n",
            "2    59      [서울]\n",
            "3    60      [서울]\n",
            "4    61  [서울, 경기]\n",
            "5    63  [서울, 경기]\n",
            "6    64  [서울, 경기]\n",
            "7    66      [서울]\n",
            "8    68      [서울]\n",
            "9    69      [서울]\n"
          ]
        }
      ]
    },
    {
      "cell_type": "code",
      "source": [
        "# 클러스터1 국가 리스트\n",
        "cluster1_countries = [\"미국\", \"영국\", \"독일\", \"프랑스\", \"캐나다\", \"호주\", \"기타\"]\n",
        "\n",
        "# 공통 국가 필터링 함수\n",
        "def filter_cluster1(df):\n",
        "    return df[df[\"국가명\"].isin(cluster1_countries)].copy()\n",
        "\n",
        "# 연도별 필터링\n",
        "# df_cluster1_2022 = filter_cluster1(df_2022)\n",
        "df_cluster1_2023 = filter_cluster1(df_2023)\n",
        "df_cluster1_2024 = filter_cluster1(df_2024)"
      ],
      "metadata": {
        "id": "_B8kVxDEYojp"
      },
      "execution_count": 25,
      "outputs": []
    },
    {
      "cell_type": "markdown",
      "source": [
        "- 계절 컬럼 추가 (계절 분석 시 사용)"
      ],
      "metadata": {
        "id": "88QExTKiB4BM"
      }
    },
    {
      "cell_type": "code",
      "source": [
        "import pandas as pd\n",
        "\n",
        "# 월 → 계절 매핑 함수\n",
        "def month_to_season(month):\n",
        "    if month in [3, 4, 5]:\n",
        "        return 'Spring'\n",
        "    elif month in [6, 7, 8]:\n",
        "        return 'Summer'\n",
        "    elif month in [9, 10, 11]:\n",
        "        return 'Autumn'\n",
        "    else:  # 12, 1, 2\n",
        "        return 'Winter'\n",
        "\n",
        "# 각 연도별 데이터프레임에 적용\n",
        "# for df in [df_cluster1_2024, df_cluster1_2023, df_cluster1_2022]:\n",
        "#     df['계절'] = df['D_MON'].apply(month_to_season)\n",
        "\n",
        "for df in [df_cluster1_2024, df_cluster1_2023]:\n",
        "    df['계절'] = df['D_MON'].apply(month_to_season)"
      ],
      "metadata": {
        "id": "PjaQVrq-AETh"
      },
      "execution_count": 27,
      "outputs": []
    },
    {
      "cell_type": "markdown",
      "source": [
        "# 📊 연관분석 실행 흐름 요약 (Weighted Apriori 기반)\n",
        "\n",
        "## 1. 데이터 준비\n",
        "- 2022~2024년 클러스터1 데이터 병합\n",
        "- 필요한 컬럼만 추출: 방문자 ID, 국가명, 월→계절, 복수응답 활동, 가중치, 재방문 여부, FIT 여부 등\n",
        "\n",
        "## 2. 트랜잭션 정의\n",
        "- 한 명의 여행객을 하나의 트랜잭션으로 정의\n",
        "- 트랜잭션당 아이템 리스트 구성: 활동, 계절, 국가 등 포함\n",
        "\n",
        "## 3. 전처리\n",
        "- 복수응답 문자열 → 리스트로 변환\n",
        "- MultiLabelBinarizer 또는 수동 더미화로 One-Hot 인코딩\n",
        "- 가중치 벡터(`weight`) 별도 보존\n",
        "\n",
        "## 4. 가중치 반영 지지도 계산\n",
        "- One-Hot 매트릭스 × 가중치로 weighted_df 생성\n",
        "- 각 아이템의 weighted support 계산 (가중치 합 ÷ 전체 가중치)\n",
        "\n",
        "## 5. 연관규칙 탐색 (Apriori 방식)\n",
        "- 2개 아이템 조합별 joint support 계산\n",
        "- confidence = 공동지지도 ÷ 단일지지도\n",
        "- lift = confidence ÷ 대상 아이템 지지도\n",
        "- 조건: support ≥ 0.05, confidence ≥ 0.6, lift > 1\n",
        "\n",
        "## 6. 결과 정리\n",
        "- 상위 lift 순으로 유의미한 규칙 10~20개 추출\n",
        "- 재방문 여부, FIT 여부, 클러스터 그룹 등 기준으로 규칙 비교\n",
        "- 해석 가능한 규칙을 전략 조합 후보로 저장\n",
        "\n",
        "## 7. 다음 단계\n",
        "- 파라미터 조정하며 규칙 확인\n",
        "- 전략 조합별 재방문율 시뮬레이션으로 연결\n"
      ],
      "metadata": {
        "id": "YqTgKCd1Nxez"
      }
    },
    {
      "cell_type": "markdown",
      "source": [
        "# 1단계: 데이터 병합 및 주요 컬럼 추출\n",
        "\n",
        "주요 컬럼 선정\n",
        "\n",
        "> 참여활동 vs 만족활동: 무엇을 쓸까?\n",
        "\n",
        "- 참여활동(Q8a01~Q8a20): 실질적으로 어떤 활동을 했는지 보여줌 → 실제 경험 기반 분석에 적합\n",
        "\n",
        "- 만족활동(Q8_1a1~Q8_1a3): 참여한 것 중 가장 만족한 3가지를 고른 것 → 고객의 긍정적 감정·충성도와 더 밀접\n",
        "\n",
        "-------\n",
        "\n",
        "**필수 항목 (트랜잭션 구성 요소)**\n",
        "\n",
        "- Q8_1a1 ~ Q8_1a3(만족활동 컬럼 정리 되어있음): 만족한 활동 리스트 (중심 아이템)\n",
        "\n",
        "- D_MON → 계절 태그 생성 (Spring, Summer, …)\n",
        "\n",
        "- D_NAT: 국가명\n",
        "\n",
        "- weight: 가중치\n",
        "\n",
        "**보조적 그룹 비교용 메타데이터**\n",
        "(트랜잭션에 넣지 않되, 분석 시 그룹 나누기에 사용)\n",
        "\n",
        "- is_returning (재방문 여부)\n",
        "\n",
        "- is_FIT (자유여행객 여부)\n",
        "\n",
        "- D_AGE, D_SEX: 인구통계\n",
        "\n",
        "- 총액1인TOT2 또는 C총액1인TOT2: 1인 소비 총액\n",
        "-------\n",
        "\n",
        "**2022년은 가중치 정보가 없어 본 분석에는 포함하지 않았으며, 트렌드 비교용으로만 활용하였습니다.**"
      ],
      "metadata": {
        "id": "e2N-SvWQQKNy"
      }
    },
    {
      "cell_type": "markdown",
      "source": [
        "| 표준 컬럼명          | 설명               | 원본 컬럼 (2023/2024)  |\n",
        "| --------------- | ---------------- | ------------------ |\n",
        "| `visitor_id`    | 방문객 고유 ID        | `pnid`             |\n",
        "| `만족활동`          | 리스트형 활동 조합       | `만족활동` (이미 리스트 형태) |\n",
        "| `weight`        | 응답자 가중치          | `weight`           |\n",
        "| `계절`            | 계절 (Spring 등)    | `계절`               |\n",
        "| `D_NAT`         | 국가명              | `D_NAT`            |\n",
        "| `is_FIT`        | 개별여행 여부 (1 = 개별) | `TYP`              |\n",
        "| `revisit_score` | 재방문의사 점수 (1\\~5점) | `Q13`              |\n"
      ],
      "metadata": {
        "id": "RArfcMygV8uK"
      }
    },
    {
      "cell_type": "code",
      "source": [
        "# 2023 데이터 정제\n",
        "df_2023 = df_cluster1_2023.copy()\n",
        "df_2023['visitor_id'] = df_2023['pnid']\n",
        "df_2023['is_FIT'] = (df_2023['TYP'] == 1).astype(int)\n",
        "df_2023['revisit_score'] = df_2023['Q13']\n",
        "df_2023 = df_2023[['visitor_id', '만족활동', 'weight', '계절', '국가명', 'is_FIT', 'revisit_score']]\n",
        "\n",
        "# 2024 데이터 정제\n",
        "df_2024 = df_cluster1_2024.copy()\n",
        "df_2024['visitor_id'] = df_2024['pnid']\n",
        "df_2024['is_FIT'] = (df_2024['TYP'] == 1).astype(int)\n",
        "df_2024['revisit_score'] = df_2024['Q13']\n",
        "df_2024 = df_2024[['visitor_id', '만족활동', 'weight', '계절', '국가명', 'is_FIT', 'revisit_score']]\n",
        "\n",
        "# 병합\n",
        "df_all = pd.concat([df_2023, df_2024], ignore_index=True)"
      ],
      "metadata": {
        "id": "2C5L3ZYTV8Ia"
      },
      "execution_count": 13,
      "outputs": []
    },
    {
      "cell_type": "markdown",
      "source": [
        "# 2단계: item_list 생성 + One-hot 인코딩 + 가중치 적용"
      ],
      "metadata": {
        "id": "vzoJD-3IXIOg"
      }
    },
    {
      "cell_type": "markdown",
      "source": [
        "## 2-1. item_list 생성\n",
        "\n",
        "만족활동 + 계절 + 국가명을 하나의 리스트로 묶어줍니다."
      ],
      "metadata": {
        "id": "1B5vBMRnXLts"
      }
    },
    {
      "cell_type": "code",
      "source": [
        "# 리스트 결합: 만족활동 + 계절 + 국가명\n",
        "# 각 행 단위로 리스트 결합\n",
        "df_all['item_list'] = df_all.apply(\n",
        "    lambda row: row['만족활동'] + [row['계절'], row['국가명']],\n",
        "    axis=1\n",
        ")"
      ],
      "metadata": {
        "id": "sjkRahSMXJBy"
      },
      "execution_count": 14,
      "outputs": []
    },
    {
      "cell_type": "markdown",
      "source": [
        "## 2-2. One-hot 인코딩 (MultiLabelBinarizer 사용)\n",
        "\n",
        "연관분석(Apriori)은 트랜잭션별로 어떤 \"아이템\"이 있었는지 **0/1로 표현된 테이블(행렬)**을 요구\n",
        "\n",
        "즉, 각 방문객이 어떤 활동/계절/국가를 가졌는지 True/False 또는 1/0으로 변환해야 분석이 가능"
      ],
      "metadata": {
        "id": "a4bF--nzXeUW"
      }
    },
    {
      "cell_type": "code",
      "source": [
        "# 모든 아이템을 str로 변환\n",
        "df_all['item_list'] = df_all['item_list'].apply(lambda items: [str(i) for i in items])"
      ],
      "metadata": {
        "id": "5PAULTBpaySU"
      },
      "execution_count": 15,
      "outputs": []
    },
    {
      "cell_type": "code",
      "source": [
        "from sklearn.preprocessing import MultiLabelBinarizer\n",
        "\n",
        "mlb = MultiLabelBinarizer()\n",
        "df_hot = pd.DataFrame(\n",
        "    mlb.fit_transform(df_all['item_list']),\n",
        "    columns=mlb.classes_,\n",
        "    index=df_all.index\n",
        ")"
      ],
      "metadata": {
        "id": "vxprYHB9Xgo2"
      },
      "execution_count": 16,
      "outputs": []
    },
    {
      "cell_type": "markdown",
      "source": [
        "## 2-3. 가중치 반영 지지도 계산\n",
        "\n",
        "단순 빈도(count)가 아닌, **응답자 가중치(weight)**를 반영하여 정확한 지지도(support)를 계산하기 위함\n",
        "\n",
        "외래관광객 실태조사는 표본조사이기 때문에,\n",
        "한 명의 응답자가 전체 외래관광객을 대표할 수 있도록 weight을 부여"
      ],
      "metadata": {
        "id": "_0IfB66WX317"
      }
    },
    {
      "cell_type": "code",
      "source": [
        "# 가중치 벡터\n",
        "weight = df_all['weight']\n",
        "total_weight = weight.sum()\n",
        "\n",
        "# 가중치 곱한 매트릭스\n",
        "weighted_df = df_hot.multiply(weight, axis=0)"
      ],
      "metadata": {
        "id": "J2y0t_H1X6SI"
      },
      "execution_count": 17,
      "outputs": []
    },
    {
      "cell_type": "markdown",
      "source": [
        "# 연관분석 3단계: 가중치 기반 연관규칙 계산"
      ],
      "metadata": {
        "id": "C_KRbb4qbQ7j"
      }
    },
    {
      "cell_type": "markdown",
      "source": [
        "## 3-1. 단일 아이템별 weighted support 계산\n",
        "\n",
        "- 목적: 각 아이템이 전체 응답자 중에서 얼마나 많이 등장했는지를 **가중치까지 반영해서 비율**로 계산\n",
        "\n",
        "      weighted support(A) = A를 선택한 응답자들의 weight 합 / 전체 weight 합\n",
        "\n",
        "w_sup[item]: 특정 아이템이 전체 응답자 가중치에서 차지하는 비율"
      ],
      "metadata": {
        "id": "SrbtmlllbR8H"
      }
    },
    {
      "cell_type": "code",
      "source": [
        "# 전체 가중치 총합\n",
        "total_weight = df_all['weight'].sum()\n",
        "\n",
        "# 각 아이템의 weighted support 계산\n",
        "w_sup = {\n",
        "    item: weighted_df[item].sum() / total_weight\n",
        "    for item in df_hot.columns\n",
        "}"
      ],
      "metadata": {
        "id": "NUca3RbfbUpS"
      },
      "execution_count": 18,
      "outputs": []
    },
    {
      "cell_type": "markdown",
      "source": [
        "## 3-2. 아이템쌍별 joint support 계산\n",
        "\n",
        "- 목적 : 두 아이템 A, B가 같은 응답자(트랜잭션) 안에서 **함께 등장한 비율** 계산\n",
        "\n",
        "      \" A와 B를 동시에 선택한 응답자들의 비율은 전체 중 몇 퍼센트인가? \"\n",
        "\n",
        "      joint support(A, B) = A와 B를 모두 선택한 응답자들의 가중치 합 ÷ 전체 가중치 합\n",
        "\n",
        "여기서도 **단순 건수(count)**가 아니라, **가중치(weight)**를 고려한 비율을 사용\n",
        "\n",
        "------\n",
        "\n",
        "[코드 리뷰]\n",
        "\n",
        "- df_hot[i] & df_hot[j]: 두 아이템을 모두 선택한 응답자 (0 또는 1)\n",
        "\n",
        "- multiply(...): 해당 응답자의 가중치를 곱함\n",
        "\n",
        "- `w_sup_pair`는 **아이템쌍별 joint support 저장** 딕셔너리"
      ],
      "metadata": {
        "id": "hoztNq_MbcWB"
      }
    },
    {
      "cell_type": "code",
      "source": [
        "w_sup_pair = {}\n",
        "for i in df_hot.columns:\n",
        "    for j in df_hot.columns:\n",
        "        if i == j:\n",
        "            continue # 자기 자신 쌍은 제외\n",
        "        pair = (i, j)\n",
        "        # i와 j를 모두 선택한 응답자: (0/1) AND 연산\n",
        "        joint = (df_hot[i] & df_hot[j]).multiply(df_all['weight'], axis=0)\n",
        "        # joint support 계산\n",
        "        w_sup_pair[pair] = joint.sum() / total_weight"
      ],
      "metadata": {
        "id": "u1Wgv_habdML"
      },
      "execution_count": 19,
      "outputs": []
    },
    {
      "cell_type": "markdown",
      "source": [
        "## 3-3. Confidence 계산\n",
        "\n",
        "- 목적 : 연관규칙 A → B에서, “**A를 선택한 사람들 중에 B도 함께 선택한 비율**”을 구합니다.\n",
        "\n",
        "- 의미: i → j 규칙의 신뢰도 (i가 발생했을 때 j도 함께 발생할 확률)\n",
        "\n",
        "----------\n",
        "\n",
        "[코드 구성]\n",
        "\n",
        "| 요소                 | 의미                                 |\n",
        "| ------------------ | ---------------------------------- |\n",
        "| `pair`             | (A, B) 형식의 아이템쌍                    |\n",
        "| `w_sup_pair[pair]` | A와 B가 동시에 등장한 weighted support     |\n",
        "| `w_sup[pair[0]]`   | A 단독의 weighted support             |\n",
        "| 결과값                | A를 선택한 사람 중 B도 선택한 비율 → confidence |\n",
        "\n",
        "해석 방법\n",
        "\n",
        "- 값이 1에 가까울수록: A가 나타났을 때 거의 항상 B도 나타난다\n",
        "\n",
        "- 값이 0.5면: 절반 정도만 함께 나타난다"
      ],
      "metadata": {
        "id": "QjHuErjbbmin"
      }
    },
    {
      "cell_type": "code",
      "source": [
        "w_conf = {\n",
        "    pair: w_sup_pair[pair] / w_sup[pair[0]]\n",
        "    for pair in w_sup_pair\n",
        "}\n"
      ],
      "metadata": {
        "id": "nUbzdG3ebnKu"
      },
      "execution_count": 20,
      "outputs": []
    },
    {
      "cell_type": "markdown",
      "source": [
        "## 3-4. Lift 계산\n",
        "\n",
        "- 목적 : 연관규칙 A → B가 **우연이 아니라 실제로 강한 연관성을 가지는가?**를 평가\n",
        "\n",
        "   Lift는 통계적으로 “A와 B가 독립일 때 기대되는 확률 대비 얼마나 더 자주 같이 나타나는가”를 수치화한 지표입니다.\n",
        "\n",
        "   단순히 j가 나타나는 확률에 비해, i가 있을 때 j가 얼마나 더 자주 발생하는지 비율\n",
        "\n",
        "      수식: Lift(A→B)= Confidence(A→B)/Support(B)\n",
        "\n",
        "      - confidence(A→B)는 A 했을 때 B도 하는 비율\n",
        "\n",
        "      - support(B)는 B 자체가 전체에서 얼마나 자주 나타나는지\n",
        "\n",
        "\n",
        "| Lift 값 | 해석                                |\n",
        "| ------ | --------------------------------- |\n",
        "| > 1    | **양의 연관** (A가 있을 때 B가 더 자주 나타남) ✅ |\n",
        "| = 1    | **독립** (A와 B는 무관함) ⚠️             |\n",
        "| < 1    | **음의 연관** (A가 있을 때 B가 덜 나타남) ❌    |\n",
        "\n",
        "-----------\n",
        "\n",
        "[코드 구성]\n",
        "\n",
        "| 요소               | 의미                |\n",
        "| ---------------- | ----------------- |\n",
        "| `pair`           | (A, B) 형식의 아이템쌍   |\n",
        "| `w_conf[pair]`   | confidence(A→B)   |\n",
        "| `w_sup[pair[1]]` | support(B)        |\n",
        "| 결과값              | A와 B의 연관 강도 판단 수치 |\n",
        "\n"
      ],
      "metadata": {
        "id": "3KNEfyobbsZX"
      }
    },
    {
      "cell_type": "code",
      "source": [
        "w_lift = {\n",
        "    pair: w_conf[pair] / w_sup[pair[1]]\n",
        "    for pair in w_conf\n",
        "}"
      ],
      "metadata": {
        "id": "mKl1Kb5rbv7I"
      },
      "execution_count": 21,
      "outputs": []
    },
    {
      "cell_type": "markdown",
      "source": [
        "## 3-5. 유의미한 규칙 필터링\n",
        "\n",
        "| 지표             | 권장 기준값         | 설명 및 출처                    |\n",
        "| -------------- | -------------- | -------------------------- |\n",
        "| **Support**    | ≥ 0.05 (5%)    | 트랜잭션 중 5% 이상 등장하는 항목만 포함   |\n",
        "| **Confidence** | ≥ 0.5 또는 ≥ 0.6 | 50〜60% 이상이면 실무 평가 기준으로 적합  |\n",
        "| **Lift**       | > 1.0          | 독립 관계 대비 강화된 연관성 판단 기준     |\n",
        "\n",
        "\n",
        "**왜 이 기준을 사용하나요?**\n",
        "\n",
        "- Support ≥ 5%\n",
        "\n",
        "  너무 낮은 기준은 노이즈나 희귀 패턴까지 포함할 위험 있음\n",
        "\n",
        "- Confidence ≥ 50–60%\n",
        "\n",
        "  A를 한 사람 중 절반 이상이 B를 하는 수준이면 의미 있는 연관으로 간주됨\n",
        "\n",
        "- Lift > 1.0\n",
        "\n",
        "  단순 우연이 아닌 실질적 상관관계가 존재한다고 보는 기준임"
      ],
      "metadata": {
        "id": "yUY_1lMYb0BZ"
      }
    },
    {
      "cell_type": "code",
      "source": [
        "min_support = 0.05\n",
        "min_confidence = 0.6\n",
        "\n",
        "# 조건을 만족하는 규칙만 필터링\n",
        "selected_rules = [\n",
        "    (pair, w_sup_pair[pair], w_conf[pair], w_lift[pair])\n",
        "    for pair in w_conf\n",
        "    if w_sup_pair[pair] >= min_support\n",
        "    and w_conf[pair] >= min_confidence\n",
        "    and w_lift[pair] > 1\n",
        "]"
      ],
      "metadata": {
        "id": "_elh9uDQb7Zy"
      },
      "execution_count": 22,
      "outputs": []
    },
    {
      "cell_type": "markdown",
      "source": [
        "- 결과 정렬 및 출력 (lift 기준 상위 10개)"
      ],
      "metadata": {
        "id": "7QuBtElRh3OT"
      }
    },
    {
      "cell_type": "code",
      "source": [
        "# lift 높은 순으로 정렬\n",
        "sorted_rules = sorted(selected_rules, key=lambda x: x[3], reverse=True)\n",
        "\n",
        "# 상위 10개 규칙 출력\n",
        "for rule in sorted_rules[:10]:\n",
        "    A, B = rule[0]\n",
        "    support, conf, lift = rule[1], rule[2], rule[3]\n",
        "    print(f\"{A} → {B} | support: {support:.3f}, confidence: {conf:.3f}, lift: {lift:.2f}\")\n"
      ],
      "metadata": {
        "colab": {
          "base_uri": "https://localhost:8080/"
        },
        "id": "l0pUvjk8h4ei",
        "outputId": "13f71833-4b3a-4219-a455-05e643c031be"
      },
      "execution_count": 23,
      "outputs": [
        {
          "output_type": "stream",
          "name": "stdout",
          "text": [
            "캐나다 → 쇼핑 | support: 0.099, confidence: 0.652, lift: 1.35\n"
          ]
        }
      ]
    },
    {
      "cell_type": "markdown",
      "source": [
        "### 결과\n",
        "\n",
        "| 항목                    | 의미                                         |\n",
        "| --------------------- | ------------------------------------------ |\n",
        "| **캐나다**               | 캐나다 국적의 응답자들이                              |\n",
        "| **→ 쇼핑**              | **쇼핑 활동을 할 가능성이 높음**                       |\n",
        "| **support: 0.099**    | 전체 응답자의 약 \\*\\*9.9%\\*\\*가 캐나다 국적 + 쇼핑 선택     |\n",
        "| **confidence: 0.652** | 캐나다 응답자 중 **약 65.2%가 쇼핑 선택**               |\n",
        "| **lift: 1.35**        | **기대보다 35% 더 많이 쇼핑을 선택**함 → 마케팅 타깃 가치 있음 ✅ |"
      ],
      "metadata": {
        "id": "gwpudelfiqjS"
      }
    },
    {
      "cell_type": "markdown",
      "source": [
        "## 기준 완화 적용 코드 (탐색 확장 목적)\n",
        "\n",
        "support ≥ 0.03, confidence ≥ 0.5, lift > 1"
      ],
      "metadata": {
        "id": "cDH1T1DrjZgW"
      }
    },
    {
      "cell_type": "code",
      "source": [
        "# 완화된 기준 설정\n",
        "min_support = 0.03\n",
        "min_confidence = 0.5\n",
        "\n",
        "# 필터링: support ≥ 0.03, confidence ≥ 0.5, lift > 1.0\n",
        "selected_rules = [\n",
        "    (pair, w_sup_pair[pair], w_conf[pair], w_lift[pair])\n",
        "    for pair in w_conf\n",
        "    if w_sup_pair[pair] >= min_support\n",
        "    and w_conf[pair] >= min_confidence\n",
        "    and w_lift[pair] > 1.0\n",
        "]\n",
        "\n",
        "# 정렬 및 출력\n",
        "sorted_rules = sorted(selected_rules, key=lambda x: x[3], reverse=True)\n",
        "\n",
        "for rule in sorted_rules[:10]:\n",
        "    A, B = rule[0]\n",
        "    support, conf, lift = rule[1], rule[2], rule[3]\n",
        "    print(f\"{A} → {B} | support: {support:.3f}, confidence: {conf:.3f}, lift: {lift:.2f}\")"
      ],
      "metadata": {
        "colab": {
          "base_uri": "https://localhost:8080/"
        },
        "id": "gLZPTrZjim2E",
        "outputId": "310bff16-8f22-4a60-c8d1-e8446926bb59"
      },
      "execution_count": 24,
      "outputs": [
        {
          "output_type": "stream",
          "name": "stdout",
          "text": [
            "전통문화체험 (한복체험, 태권도, 한국 음식 만들기 등) → 기타 | support: 0.055, confidence: 0.514, lift: 1.40\n",
            "캐나다 → 쇼핑 | support: 0.099, confidence: 0.652, lift: 1.35\n",
            "프랑스 → 쇼핑 | support: 0.054, confidence: 0.586, lift: 1.21\n",
            "호주 → 쇼핑 | support: 0.067, confidence: 0.581, lift: 1.20\n",
            "박물관, 전시관 관람 → 고궁/역사 유적지 방문 | support: 0.086, confidence: 0.535, lift: 1.19\n",
            "독일 → 쇼핑 | support: 0.052, confidence: 0.562, lift: 1.17\n",
            "전통문화체험 (한복체험, 태권도, 한국음식 만들기 등) → 고궁/역사 유적지 방문 | support: 0.034, confidence: 0.521, lift: 1.16\n",
            "기타 → 고궁/역사 유적지 방문 | support: 0.189, confidence: 0.517, lift: 1.15\n",
            "전통문화체험 (한복체험, 태권도, 한국 음식 만들기 등) → 고궁/역사 유적지 방문 | support: 0.055, confidence: 0.513, lift: 1.14\n",
            "미국 → 쇼핑 | support: 0.067, confidence: 0.543, lift: 1.13\n"
          ]
        }
      ]
    },
    {
      "cell_type": "markdown",
      "source": [
        "### 결과\n",
        "\n",
        "| 연관규칙                   | 해석                                   | 전략 활용 가능성                    |\n",
        "| ---------------------- | ------------------------------------ | ---------------------------- |\n",
        "| **전통문화체험 → 기타**        | 전통문화 콘텐츠 경험자들이 기타 활동(예: 이색체험)도 자주 수행 | 전통 + 이색체험 묶음 상품 제안 가능        |\n",
        "| **캐나다 → 쇼핑**           | 캐나다 관광객은 쇼핑 선호 경향이 뚜렷                | 쇼핑 중심 콘텐츠 큐레이션 추천            |\n",
        "| **프랑스/호주/독일/미국 → 쇼핑**  | 쇼핑은 장거리 고소비국의 공통 관심사                 | 쇼핑 콘텐츠는 **클러스터 전체 전략**으로 유효함 |\n",
        "| **박물관 관람 → 고궁/역사 유적지** | 역사적 관심이 이어짐                          | 박물관 + 고궁 연계 패스 제안 전략         |\n",
        "| **전통문화체험 → 고궁/역사 유적지** | 전통 콘텐츠에 연속 관심                        | 콘텐츠 큐레이션, 마케팅 카피 활용 전략       |\n",
        "\n",
        "<br>\n",
        "\n",
        "① [전통문화체험 → 고궁/역사 유적지 방문]\n",
        "\n",
        "  - lift = 1.16 / confidence = 0.521\n",
        "\n",
        "  → 고궁 야간개장, 전통행사 이벤트 등과 연계한 상품 추천 가능\n",
        "\n",
        "  → K-문화 강조 캠페인과도 잘 맞음\n",
        "\n",
        "<br>\n",
        "\n",
        "② [국가 → 쇼핑] 연관\n",
        "\n",
        "- 캐나다, 프랑스, 호주, 독일, 미국 모두 lift > 1.1\n",
        "\n",
        "  → \"쇼핑 콘텐츠 큐레이션은 장거리 국가 공통 타깃\"이라는 근거로 사용 가능\n",
        "\n",
        "  → 국가별 마케팅 메시지 차별화 없이도 적용 가능\n"
      ],
      "metadata": {
        "id": "2rCGXwZBkVoJ"
      }
    },
    {
      "cell_type": "markdown",
      "source": [
        "# 세그먼트별 비교 (재방문, FIT)\n",
        "\n",
        "→ 동일 규칙이 어떤 그룹에서 더 강한지 확인\n",
        "<br>\n",
        "\n",
        "| 구분                            | 의미                        | 우리가 알 수 있는 것              | 분석 목적 적합성               |\n",
        "| ----------------------------- | ------------------------- | ------------------------- | ----------------------- |\n",
        "| **is\\_returning (실제 재방문 여부)** | 과거에 한 번 이상 한국에 다시 온 사람    | “재방문자들이 뭘 했는지”            | ❌ 제한적. **미래 전략 연결 어려움** |\n",
        "| **revisit\\_score (1\\~5점)**    | 이번 방한 후 향후 다시 방문할 의향이 있는지 | **“어떤 요소가 재방문 의사를 높이는지”** | ✅ 전략 타깃 예측에 적합          |\n"
      ],
      "metadata": {
        "id": "KJIGHO08mdsP"
      }
    },
    {
      "cell_type": "markdown",
      "source": [
        "- 1. 세그먼트 분할\n",
        "\n",
        "| 그룹명            | 조건                                  |\n",
        "| -------------- | ----------------------------------- |\n",
        "| `재방문 의향 + FIT` | `revisit_score ≥ 4` & `is_FIT == 1` |\n",
        "| `재방문 의향 + 패키지` | `revisit_score ≥ 4` & `is_FIT == 0` |\n",
        "| `비재방문 + FIT`   | `revisit_score < 4` & `is_FIT == 1` |\n",
        "| `비재방문 + 패키지`   | `revisit_score < 4` & `is_FIT == 0` |"
      ],
      "metadata": {
        "id": "1yyCUisZqbQv"
      }
    },
    {
      "cell_type": "code",
      "source": [
        "df_positive_fit  = df_all[(df_all['revisit_score'] >= 4) & (df_all['is_FIT'] == 1)].copy()\n",
        "df_positive_pkg  = df_all[(df_all['revisit_score'] >= 4) & (df_all['is_FIT'] == 0)].copy()\n",
        "df_negative_fit  = df_all[(df_all['revisit_score'] < 4) & (df_all['is_FIT'] == 1)].copy()\n",
        "df_negative_pkg  = df_all[(df_all['revisit_score'] < 4) & (df_all['is_FIT'] == 0)].copy()"
      ],
      "metadata": {
        "id": "SUb-jV2dkVWr"
      },
      "execution_count": 25,
      "outputs": []
    },
    {
      "cell_type": "markdown",
      "source": [
        "- 2. 연관분석 함수 재사용"
      ],
      "metadata": {
        "id": "rvOxwCUxqovT"
      }
    },
    {
      "cell_type": "code",
      "source": [
        "from sklearn.preprocessing import MultiLabelBinarizer\n",
        "\n",
        "def run_association_analysis(df, min_support=0.05, min_confidence=0.5):\n",
        "    \"\"\"\n",
        "    가중치를 반영한 연관분석(Apriori) 함수\n",
        "    - 입력: df (item_list, weight 포함된 DataFrame)\n",
        "    - 출력: (item A → B, support, confidence, lift) 리스트 (상위 10개)\n",
        "\n",
        "    Parameters:\n",
        "        df: pandas DataFrame\n",
        "            - 필수 컬럼: item_list (리스트), weight (가중치)\n",
        "        min_support: float\n",
        "            - 최소 지지도 기준\n",
        "        min_confidence: float\n",
        "            - 최소 신뢰도 기준\n",
        "    \"\"\"\n",
        "\n",
        "    # 1. 리스트 항목을 One-Hot Encoding (0/1 매트릭스로 변환)\n",
        "    mlb = MultiLabelBinarizer()\n",
        "    df_items = mlb.fit_transform(df['item_list'])  # 예: ['쇼핑', '전통'] → [1, 0, 1, ...]\n",
        "    df_hot = pd.DataFrame(df_items, columns=mlb.classes_, index=df.index)\n",
        "\n",
        "    # 2. 가중치 적용\n",
        "    # 각 항목에 weight 곱해서 가중 합을 구함\n",
        "    weighted_df = df_hot.multiply(df['weight'], axis=0)\n",
        "    total_weight = df['weight'].sum()\n",
        "\n",
        "    # 3. 각 단일 아이템별 Weighted Support 계산\n",
        "    w_sup = {\n",
        "        item: weighted_df[item].sum() / total_weight\n",
        "        for item in df_hot.columns\n",
        "    }\n",
        "\n",
        "    # 4. 아이템 쌍별(2-item) 조합의 Joint Weighted Support 계산\n",
        "    w_sup_pair = {}\n",
        "    for i in df_hot.columns:\n",
        "        for j in df_hot.columns:\n",
        "            if i == j:\n",
        "                continue\n",
        "            # 두 항목이 동시에 선택된 경우만 추출 후 weight 곱함\n",
        "            joint = (df_hot[i] & df_hot[j]).multiply(df['weight'], axis=0)\n",
        "            w_sup_pair[(i, j)] = joint.sum() / total_weight\n",
        "\n",
        "    # 5. Weighted Confidence 계산\n",
        "    w_conf = {\n",
        "        pair: w_sup_pair[pair] / w_sup[pair[0]]\n",
        "        for pair in w_sup_pair\n",
        "    }\n",
        "\n",
        "    # 6. Weighted Lift 계산\n",
        "    w_lift = {\n",
        "        pair: w_conf[pair] / w_sup[pair[1]]\n",
        "        for pair in w_conf\n",
        "    }\n",
        "\n",
        "    # 7. 규칙 필터링 (조건 만족하는 연관 규칙만 추출)\n",
        "    rules = [\n",
        "        (pair, w_sup_pair[pair], w_conf[pair], w_lift[pair])\n",
        "        for pair in w_conf\n",
        "        if w_sup_pair[pair] >= min_support      # 지지도 기준\n",
        "        and w_conf[pair] >= min_confidence     # 신뢰도 기준\n",
        "        and w_lift[pair] > 1                   # 양의 연관만 추출\n",
        "    ]\n",
        "\n",
        "    # 8. Lift 기준으로 내림차순 정렬 후 상위 10개 반환\n",
        "    return sorted(rules, key=lambda x: x[3], reverse=True)[:10]\n"
      ],
      "metadata": {
        "id": "3WtKJS1lqton"
      },
      "execution_count": 26,
      "outputs": []
    },
    {
      "cell_type": "markdown",
      "source": [
        "- 3. 4개 그룹 실행"
      ],
      "metadata": {
        "id": "FacusMbTqqlV"
      }
    },
    {
      "cell_type": "code",
      "source": [
        "segments = {\n",
        "    \"재방문 의향 + FIT\": df_positive_fit,\n",
        "    \"재방문 의향 + 패키지\": df_positive_pkg,\n",
        "    \"비재방문 + FIT\": df_negative_fit,\n",
        "    \"비재방문 + 패키지\": df_negative_pkg\n",
        "}\n",
        "\n",
        "results = {}\n",
        "for name, df_segment in segments.items():\n",
        "    print(f\"\\n 세그먼트: {name}\")\n",
        "    rules = run_association_analysis(df_segment)\n",
        "    results[name] = rules\n",
        "    for r in rules:\n",
        "        a, b = r[0]\n",
        "        print(f\"{a} → {b} | support: {r[1]:.3f}, confidence: {r[2]:.3f}, lift: {r[3]:.2f}\")"
      ],
      "metadata": {
        "colab": {
          "base_uri": "https://localhost:8080/"
        },
        "id": "wLSuYl6Uq6RL",
        "outputId": "bfd76c41-0124-42fd-ba08-1686d60b7fb7"
      },
      "execution_count": 27,
      "outputs": [
        {
          "output_type": "stream",
          "name": "stdout",
          "text": [
            "\n",
            " 세그먼트: 재방문 의향 + FIT\n",
            "전통문화체험 (한복체험, 태권도, 한국 음식 만들기 등) → 기타 | support: 0.059, confidence: 0.583, lift: 1.52\n",
            "캐나다 → 쇼핑 | support: 0.107, confidence: 0.686, lift: 1.39\n",
            "박물관, 전시관 관람 → 기타 | support: 0.081, confidence: 0.519, lift: 1.35\n",
            "호주 → 쇼핑 | support: 0.058, confidence: 0.616, lift: 1.25\n",
            "박물관, 전시관 관람 → 고궁/역사 유적지 방문 | support: 0.081, confidence: 0.524, lift: 1.20\n",
            "전통문화체험 (한복체험, 태권도, 한국 음식 만들기 등) → 고궁/역사 유적지 방문 | support: 0.052, confidence: 0.516, lift: 1.18\n",
            "기타 → 고궁/역사 유적지 방문 | support: 0.197, confidence: 0.514, lift: 1.17\n",
            "독일 → 쇼핑 | support: 0.058, confidence: 0.578, lift: 1.17\n",
            "미국 → 식도락(음식/미식) 관광 | support: 0.060, confidence: 0.506, lift: 1.16\n",
            "미국 → 쇼핑 | support: 0.067, confidence: 0.567, lift: 1.15\n",
            "\n",
            " 세그먼트: 재방문 의향 + 패키지\n",
            "프랑스 → 쇼핑 | support: 0.132, confidence: 0.675, lift: 1.29\n",
            "기타 → 고궁/역사 유적지 방문 | support: 0.056, confidence: 0.699, lift: 1.27\n",
            "캐나다 → 식도락(음식/미식) 관광 | support: 0.064, confidence: 0.522, lift: 1.15\n",
            "Summer → 자연경관 감상 | support: 0.083, confidence: 0.502, lift: 1.12\n",
            "Spring → 식도락(음식/미식) 관광 | support: 0.134, confidence: 0.503, lift: 1.10\n",
            "캐나다 → 고궁/역사 유적지 방문 | support: 0.073, confidence: 0.589, lift: 1.07\n",
            "Spring → 고궁/역사 유적지 방문 | support: 0.156, confidence: 0.583, lift: 1.06\n",
            "Autumn → 쇼핑 | support: 0.191, confidence: 0.554, lift: 1.06\n",
            "Autumn → 고궁/역사 유적지 방문 | support: 0.198, confidence: 0.575, lift: 1.05\n",
            "전통문화체험 (한복체험, 태권도, 한국 음식 만들기 등) → 고궁/역사 유적지 방문 | support: 0.082, confidence: 0.562, lift: 1.02\n",
            "\n",
            " 세그먼트: 비재방문 + FIT\n",
            "전통문화체험 (한복체험, 태권도, 한국음식 만들기 등) → 고궁/역사 유적지 방문 | support: 0.065, confidence: 0.782, lift: 1.75\n",
            "캐나다 → 쇼핑 | support: 0.078, confidence: 0.557, lift: 1.65\n",
            "전통문화체험 (한복체험, 태권도, 한국 음식 만들기 등) → 기타 | support: 0.079, confidence: 0.765, lift: 1.39\n",
            "박물관, 전시관 관람 → 기타 | support: 0.160, confidence: 0.749, lift: 1.36\n",
            "박물관, 전시관 관람 → 고궁/역사 유적지 방문 | support: 0.125, confidence: 0.584, lift: 1.31\n",
            "전통문화체험 (한복체험, 태권도, 한국음식 만들기 등) → 기타 | support: 0.056, confidence: 0.674, lift: 1.22\n",
            "Autumn → 자연경관 감상 | support: 0.139, confidence: 0.506, lift: 1.15\n",
            "고궁/역사 유적지 방문 → 기타 | support: 0.282, confidence: 0.630, lift: 1.14\n",
            "기타 → 고궁/역사 유적지 방문 | support: 0.282, confidence: 0.511, lift: 1.14\n",
            "Summer → 고궁/역사 유적지 방문 | support: 0.133, confidence: 0.505, lift: 1.13\n",
            "\n",
            " 세그먼트: 비재방문 + 패키지\n",
            "비즈니스 전문활동(업무회의, 산업시설 시찰 등) → 연수, 교육, 연구 | support: 0.052, confidence: 1.000, lift: 14.19\n",
            "연수, 교육, 연구 → 비즈니스 전문활동(업무회의, 산업시설 시찰 등) | support: 0.052, confidence: 0.743, lift: 14.19\n",
            "스포츠/레포츠 참가 (스키, 수영, 골프, 캠핑 등) → Winter | support: 0.076, confidence: 0.915, lift: 4.44\n",
            "연수, 교육, 연구 → Autumn | support: 0.052, confidence: 0.735, lift: 1.84\n",
            "프랑스 → 쇼핑 | support: 0.077, confidence: 0.551, lift: 1.79\n",
            "Summer → 자연경관 감상 | support: 0.096, confidence: 0.710, lift: 1.67\n",
            "전통문화체험 (한복체험, 태권도, 한국음식 만들기 등) → 고궁/역사 유적지 방문 | support: 0.105, confidence: 0.824, lift: 1.45\n",
            "박물관, 전시관 관람 → Autumn | support: 0.094, confidence: 0.575, lift: 1.44\n",
            "미국 → 자연경관 감상 | support: 0.107, confidence: 0.588, lift: 1.39\n",
            "기타 → Autumn | support: 0.066, confidence: 0.551, lift: 1.38\n"
          ]
        }
      ]
    },
    {
      "cell_type": "markdown",
      "source": [
        "## 재방문 의향이 4-5점인 사람들만 전략 제시(기타활동 포함시 전략에서 제외)\n",
        "\n",
        "대상: revisit_score ≥ 4 (재방문 의향 있음)\n",
        "\n",
        "세분: FIT(개별여행객), 패키지(단체여행객)\n",
        "\n",
        "분석 방식: 연관분석 (support ≥ 0.03, confidence ≥ 0.5, lift > 1)\n",
        "\n",
        "가중치 반영\n",
        "\n",
        "\n",
        "**세그먼트 1: 재방문 의향 + FIT(개별여행)**\n",
        "\n",
        "| 연관규칙                       | support | confidence | lift     | 전략 해석                  |\n",
        "| -------------------------- | ------- | ---------- | -------- | ---------------------- |\n",
        "| 캐나다 → 쇼핑                   | 0.107   | 0.686      | **1.39** | 캐나다 고객 대상 쇼핑 연계 패스     |\n",
        "| 호주 → 쇼핑                    | 0.058   | 0.616      | **1.25** | 호주 FIT 고객 대상 쇼핑 콘텐츠 기획 |\n",
        "| 박물관, 전시관 관람 → 고궁/역사 유적지 방문 | 0.081   | 0.524      | **1.20** | 박물관 관람 후 역사 콘텐츠 유도     |\n",
        "| 전통문화체험 → 고궁/역사 유적지 방문      | 0.052   | 0.516      | **1.18** | 체험형 콘텐츠와 역사 유산의 연계 기획  |\n",
        "| 독일 → 쇼핑                    | 0.058   | 0.578      | **1.17** | 독일 고객 대상 면세/쇼핑 테마 강화   |\n",
        "| 프랑스 → 식도락 관광               | 0.044   | 0.512      | **1.17** | 프랑스 고객 대상 미식 콘텐츠 큐레이션  |\n",
        "| 미국 → 식도락 관광                | 0.060   | 0.506      | **1.16** | 미국 고객 대상 먹거리 투어 구성     |\n",
        "\n",
        "\n",
        "\n",
        "“전통 → 역사” 흐름은 행동 흐름 중심 전략에 적합\n",
        "\n",
        "“국가 → 쇼핑/식도락”은 국가별 테마 설계에 활용 가능\n",
        "\n",
        "<br>\n",
        "\n",
        "**세그먼트 2: 재방문 의향 + non-FIT**\n",
        "\n",
        "| 연관규칙                  | support | confidence | lift     | 전략 해석                 |\n",
        "| --------------------- | ------- | ---------- | -------- | --------------------- |\n",
        "| 스포츠/레포츠 참가 → Winter   | 0.031   | 0.633      | **2.85** | 겨울 시즌 스포츠 특화 패키지 구성   |\n",
        "| 프랑스 → 쇼핑              | 0.132   | 0.675      | **1.29** | 프랑스 고객 대상 쇼핑 중심 일정 설계 |\n",
        "| 캐나다 → 식도락 관광          | 0.064   | 0.522      | **1.15** | 캐나다 대상 미식 중심 체험 콘텐츠   |\n",
        "| Summer → 자연경관 감상      | 0.083   | 0.502      | **1.12** | 여름 휴양형 자연 중심 콘텐츠 구성   |\n",
        "| Spring → 식도락 관광       | 0.134   | 0.503      | **1.10** | 봄 시즌 미식 투어 집중 기획      |\n",
        "| 캐나다 → 고궁/역사 유적지 방문    | 0.073   | 0.589      | **1.07** | 문화 유산 콘텐츠에 대한 관심 반영   |\n",
        "| Spring → 고궁/역사 유적지 방문 | 0.156   | 0.583      | **1.06** | 봄 시즌 역사 관광 연계 콘텐츠 강화  |\n",
        "| Autumn → 쇼핑           | 0.191   | 0.554      | **1.06** | 가을철 쇼핑 마케팅 타이밍 연계     |\n",
        "\n",
        "\n",
        "\n",
        "“계절+콘텐츠 조합”이 강하게 나타남 → 시즌 특화형 패키지 전략 설계 유리\n",
        "\n",
        "프랑스/캐나다 고객의 음식·쇼핑 선호 반영 필요\n"
      ],
      "metadata": {
        "id": "ZvAYdr_KsfuX"
      }
    },
    {
      "cell_type": "markdown",
      "source": [
        "## support 지수에 대한 고민!\n",
        "\n",
        "support = 0.03 이란?\n",
        "→ 전체 가중치 기준 3%의 응답자가 해당 연관규칙에 해당된다는 의미입니다.\n",
        "\n",
        "예를 들어, 응답자 가중치 총합이 10,000명이라면 → 약 300명 수준.\n",
        "\n",
        "<br>\n",
        "\n",
        "**믿을만한 기준인가?**\n",
        "\n",
        "| 관점          | 판단                                                                            |\n",
        "| ----------- | ----------------------------------------------------------------------------- |\n",
        "| **이론적 해석**  | 0.03 이상이면 ‘희귀 규칙’은 아니며, **패턴 탐지 가능 수준**입니다.                                   |\n",
        "| **실무적 판단**  | 전략 기획에 활용하기 위해선 **lift나 confidence가 충분히 높아야** 신뢰할 수 있습니다.                     |\n",
        "| **통계적 신뢰도** | support가 너무 낮으면 → 통계적 변동성(노이즈)에 **민감**합니다.                                    |\n",
        "| **실제 사용 예** | 마케팅, 관광, 유통 등에서는 0.02\\~0.05 사이도 **자주 사용**됩니다. 단, **다른 조건(신뢰도, lift)을 강화**합니다. |\n",
        "\n",
        "\n",
        "**결론**\n",
        "\n",
        "support 0.03은 사용 가능하지만, confidence ≥ 0.5, lift > 1.2 이상일 때만 전략적으로 의미 있다고 간주하는 것이 안전\n",
        "\n",
        "support 크기에 따라 lift 기준을 조절하기로!!"
      ],
      "metadata": {
        "id": "SNczBua3ypu5"
      }
    },
    {
      "cell_type": "markdown",
      "source": [
        "# 전략 설계: 세그먼트별 연관분석 기반\n",
        "\n",
        "---\n",
        "\n",
        "## 1. FIT(개별여행객) 대상 “문화·역사 연계” 전략\n",
        "\n",
        "**핵심 패턴**  \n",
        "- 박물관·전시관 관람 → 고궁/역사유적지 방문  \n",
        "- 전통문화체험 → 고궁/역사유적지 방문  \n",
        "\n",
        "**전략 기획 예시**  \n",
        "- **서울 문화유산 1일 투어**  \n",
        "  - 오전: 국립중앙박물관 → 오후: 경복궁 한복체험 → 북촌 산책  \n",
        "- **체험형 역사여행 패스**  \n",
        "  - 전통 한식 만들기 → 태권도 체험 → 경복궁 야간개장  \n",
        "\n",
        "---\n",
        "\n",
        "## 2. non-FIT(패키지여행객) 대상 “계절별 테마” 전략\n",
        "\n",
        "| 계절      | 연관 패턴                        | 전략 아이디어                                |\n",
        "|-----------|---------------------------------|--------------------------------------------|\n",
        "| **Winter** | 스포츠/레포츠 참가 → Winter       | “겨울 레포츠 패키지” (스키 + 온천투어)               |\n",
        "| **Spring** | Spring → 고궁/역사유적지 방문     | “봄꽃 역사기행” (창덕궁 벚꽃길 + 전통공예 체험)       |\n",
        "| **Summer** | Summer → 자연경관 감상           | “여름 자연힐링 투어” (섬·계곡·숲속 글램핑)            |\n",
        "| **Autumn** | Autumn → 쇼핑                   | “가을 쇼핑 페스티벌” (전통시장 + 아울렛 투어)         |\n",
        "\n",
        "---\n",
        "\n",
        "## 3. 실무 적용 팁\n",
        "\n",
        "1. **프로모션 타이밍**  \n",
        "   - 시즌 시작 전 얼리버드 프로모션(1~2개월 전)  \n",
        "   - 시즌 중반엔 야간개장·축제 옵션 A/B 테스트  \n",
        "\n",
        "2. **크로스셀 & 업셀**  \n",
        "   - FIT 투어에 “역사+체험” 옵션 추가  \n",
        "   - 패키지에 “숙소 업그레이드”·“현지 레스토랑 체험” 묶음  \n",
        "\n",
        "3. **A/B 테스트**  \n",
        "   - 그룹별 광고 메시지(문화·역사 vs 계절 테마) 집행  \n",
        "   - 전환율·예약 전환율 비교 분석  \n",
        "\n",
        "---\n"
      ],
      "metadata": {
        "id": "euPFDBVr3qz6"
      }
    },
    {
      "cell_type": "markdown",
      "source": [
        "# 검증"
      ],
      "metadata": {
        "id": "FGmOlbgz4GK_"
      }
    },
    {
      "cell_type": "markdown",
      "source": [
        "## 1. 데이터 준비\n",
        "\n",
        "- revisit_score ≥ 4 & is_FIT 기준으로 두 DataFrame 생성\n",
        "\n",
        "- item_list → df_hot (0/1 매트릭스)"
      ],
      "metadata": {
        "id": "4h7kaW-54_QJ"
      }
    },
    {
      "cell_type": "code",
      "source": [
        "from sklearn.preprocessing import MultiLabelBinarizer\n",
        "import numpy as np\n",
        "import pandas as pd\n",
        "\n",
        "# 1-1. 그룹 필터링\n",
        "df_fit     = df_all[(df_all['revisit_score'] >= 4) & (df_all['is_FIT'] == 1)].reset_index(drop=True)\n",
        "df_nonfit  = df_all[(df_all['revisit_score'] >= 4) & (df_all['is_FIT'] == 0)].reset_index(drop=True)\n",
        "\n",
        "# 1-2. One-hot 인코딩 함수\n",
        "def make_hot(df):\n",
        "    mlb = MultiLabelBinarizer()\n",
        "    hot = pd.DataFrame(\n",
        "        mlb.fit_transform(df['item_list']),\n",
        "        columns=mlb.classes_,\n",
        "        index=df.index\n",
        "    )\n",
        "    return hot\n",
        "\n",
        "# 1-3. 그룹별 hot/weights 준비\n",
        "df_hot_fit    = make_hot(df_fit)\n",
        "weights_fit   = df_fit['weight']\n",
        "df_hot_nonfit = make_hot(df_nonfit)\n",
        "weights_nonfit= df_nonfit['weight']"
      ],
      "metadata": {
        "id": "m8ZLrplQ3xHD"
      },
      "execution_count": 28,
      "outputs": []
    },
    {
      "cell_type": "markdown",
      "source": [
        "## 2. 연관 지표 함수 정의\n",
        "\n",
        "- rule_metrics(): support, confidence, lift 반환"
      ],
      "metadata": {
        "id": "Owjhdzvb5D_3"
      }
    },
    {
      "cell_type": "code",
      "source": [
        "def rule_metrics(hot, w, ant, con):\n",
        "    \"\"\"주어진 antecedent→consequent에 대한 support, confidence, lift 계산.\"\"\"\n",
        "    total_w = w.sum()\n",
        "    sup_ac  = (hot[ant] & hot[con]).mul(w).sum() / total_w\n",
        "    sup_a   = hot[ant].mul(w).sum() / total_w\n",
        "    sup_c   = hot[con].mul(w).sum() / total_w\n",
        "    conf    = sup_ac / sup_a if sup_a>0 else np.nan\n",
        "    lift    = conf / sup_c if sup_c>0 else np.nan\n",
        "    return sup_ac, conf, lift"
      ],
      "metadata": {
        "id": "Ug6Xkw6E5Erm"
      },
      "execution_count": 29,
      "outputs": []
    },
    {
      "cell_type": "markdown",
      "source": [
        "## 3. Bootstrap 95% CI 함수\n",
        "\n",
        "- bootstrap_ci(): 1,000회 부트스트랩 샘플 → 2.5%–97.5% 분위수 계산"
      ],
      "metadata": {
        "id": "sdPDnLfe5HvJ"
      }
    },
    {
      "cell_type": "code",
      "source": [
        "def bootstrap_ci(hot, w, ant, con, n_iter=1000):\n",
        "    \"\"\"Bootstrap으로 support, confidence, lift 95% CI 계산.\"\"\"\n",
        "    np.random.seed(0)\n",
        "    metrics = []\n",
        "    n = len(hot)\n",
        "    for _ in range(n_iter):\n",
        "        idx = np.random.choice(n, n, replace=True)\n",
        "        sup, conf, lift = rule_metrics(hot.iloc[idx], w.iloc[idx], ant, con)\n",
        "        metrics.append((sup, conf, lift))\n",
        "    dfm = pd.DataFrame(metrics, columns=['support','confidence','lift'])\n",
        "    return dfm.quantile([0.025, 0.975])"
      ],
      "metadata": {
        "id": "29wwy2Ts5Ih6"
      },
      "execution_count": 30,
      "outputs": []
    },
    {
      "cell_type": "markdown",
      "source": [
        "## 4. Permutation Test 함수\n",
        "\n",
        "- permutation_pvalue(): 귀무가설 하 permuted lift 분포 생성 → p-value 산출"
      ],
      "metadata": {
        "id": "ZFnSrIxH5LsC"
      }
    },
    {
      "cell_type": "code",
      "source": [
        "def permutation_pvalue(hot, w, ant, con, n_iter=1000):\n",
        "    \"\"\"\n",
        "    Permutation test:\n",
        "    - 귀무가설: ant와 con이 독립.\n",
        "    - p-value: 관측 lift가 permuted lift보다 큰 비율.\n",
        "    \"\"\"\n",
        "    obs_sup, obs_conf, obs_lift = rule_metrics(hot, w, ant, con)\n",
        "    count = 0\n",
        "    n = len(hot)\n",
        "    for _ in range(n_iter):\n",
        "        perm_con = hot[con].sample(frac=1, replace=False).reset_index(drop=True)\n",
        "        sup, conf, lift = rule_metrics(\n",
        "            hot[[ant]].reset_index(drop=True).join(perm_con),\n",
        "            w.reset_index(drop=True),\n",
        "            ant, con\n",
        "        )\n",
        "        if lift >= obs_lift:\n",
        "            count += 1\n",
        "    return count / n_iter"
      ],
      "metadata": {
        "id": "vN-TkQl25MUG"
      },
      "execution_count": 31,
      "outputs": []
    },
    {
      "cell_type": "markdown",
      "source": [
        "## 5. 검증할 전략 패턴 리스트\n",
        "\n",
        "- FIT 그룹 2개, non-FIT 그룹 4개 패턴"
      ],
      "metadata": {
        "id": "3hNJ19Rc5VcP"
      }
    },
    {
      "cell_type": "code",
      "source": [
        "fit_rules = [\n",
        "    (\"박물관, 전시관 관람\", \"고궁/역사 유적지 방문\"),\n",
        "    (\"전통문화체험 (한복체험, 태권도, 한국음식 만들기 등)\", \"고궁/역사 유적지 방문\"),\n",
        "]\n",
        "nonfit_rules = [\n",
        "    (\"스포츠/레포츠 참가 (스키, 수영, 골프, 캠핑 등)\", \"Winter\"),\n",
        "    (\"Spring\", \"고궁/역사 유적지 방문\"),\n",
        "    (\"Summer\", \"자연경관 감상\"),\n",
        "    (\"Autumn\", \"쇼핑\"),\n",
        "]"
      ],
      "metadata": {
        "id": "_38Km-m95WIP"
      },
      "execution_count": 32,
      "outputs": []
    },
    {
      "cell_type": "markdown",
      "source": [
        "## 6. Bootstrap CI & Permutation p-value 계산 및 출력\n",
        "\n",
        "- 각 규칙별 CI와 p-value 확인 →\n",
        "\n",
        "- CI 하한 > 1이면 “양의 연관이 통계적으로 안정적”\n",
        "\n",
        "- p-value < 0.05이면 “우연일 확률 낮음”"
      ],
      "metadata": {
        "id": "FgABuWoB5Y2e"
      }
    },
    {
      "cell_type": "code",
      "source": [
        "# df_hot_fit 에 어떤 아이템이 있는지 리스트로 출력해 봅니다\n",
        "print(df_hot_fit.columns.tolist())"
      ],
      "metadata": {
        "colab": {
          "base_uri": "https://localhost:8080/"
        },
        "id": "bPh_D3Kx6Fxy",
        "outputId": "3cfe3465-14cc-493f-b4b1-cf07ad26a9ac"
      },
      "execution_count": 33,
      "outputs": [
        {
          "output_type": "stream",
          "name": "stdout",
          "text": [
            "['Autumn', 'K-POP/한류스타 공연장 및 드라마/영화 촬영지 방문', 'Spring', 'Summer', 'Winter', '고궁/역사 유적지 방문', '국제회의(컨벤션, 국제회의, 전시 등)', '기타', '독일', '미국', '박물관, 전시관 관람', '뷰티/미용 관광(마사지샵, 헤어샵, 네일케어 등 방문)', '비즈니스 전문활동(업무회의, 산업시설 시찰 등)', '쇼핑', '스포츠/레포츠 관람 (야구, 축구, 농구 등)', '스포츠/레포츠 참가 (스키, 수영, 골프, 캠핑 등)', '식도락(음식/미식) 관광', '연극, 뮤지컬, 발레 등 공연 관람', '연수, 교육, 연구', '영국', '오락(놀이공원 및 테마파크 방문 등)', '유흥(나이트라이프 활동 및 카지노 등)', '유흥(나이트라이프 활동 및 카지노)', '자연경관 감상', '전통문화체험 (한복체험, 태권도, 한국 음식 만들기 등)', '전통문화체험 (한복체험, 태권도, 한국음식 만들기 등)', '지역 축제 참여', '치료/건강검진(피부과, 성형외과, 내외과 등 입원, 수술 등)', '치료/건강검진(피부과, 성형외과, 내외과 입원, 수술 등)', '캐나다', '프랑스', '호주', '휴양/휴식(웰니스)']\n"
          ]
        }
      ]
    },
    {
      "cell_type": "code",
      "source": [
        "# 6-1. FIT 그룹 검증\n",
        "print(\"▶ FIT 그룹 전략 검증\")\n",
        "for ant, con in fit_rules:\n",
        "    ci = bootstrap_ci(df_hot_fit, weights_fit, ant, con)\n",
        "    p = permutation_pvalue(df_hot_fit, weights_fit, ant, con)\n",
        "    print(f\"\\n{ant} → {con}\")\n",
        "    print(ci)\n",
        "    print(f\"Permutation p-value: {p:.3f}\")\n",
        "\n",
        "# 6-2. non-FIT 그룹 검증\n",
        "print(\"\\n▶ non-FIT 그룹 전략 검증\")\n",
        "for ant, con in nonfit_rules:\n",
        "    ci = bootstrap_ci(df_hot_nonfit, weights_nonfit, ant, con)\n",
        "    p = permutation_pvalue(df_hot_nonfit, weights_nonfit, ant, con)\n",
        "    print(f\"\\n{ant} → {con}\")\n",
        "    print(ci)\n",
        "    print(f\"Permutation p-value: {p:.3f}\")"
      ],
      "metadata": {
        "colab": {
          "base_uri": "https://localhost:8080/"
        },
        "id": "2wKT96BM5aNc",
        "outputId": "a5946371-5a40-4fe8-e0fb-2088aa8ce165"
      },
      "execution_count": 34,
      "outputs": [
        {
          "output_type": "stream",
          "name": "stdout",
          "text": [
            "▶ FIT 그룹 전략 검증\n",
            "\n",
            "박물관, 전시관 관람 → 고궁/역사 유적지 방문\n",
            "        support  confidence      lift\n",
            "0.025  0.071740    0.481166  1.108581\n",
            "0.975  0.091462    0.566273  1.287670\n",
            "Permutation p-value: 0.000\n",
            "\n",
            "전통문화체험 (한복체험, 태권도, 한국음식 만들기 등) → 고궁/역사 유적지 방문\n",
            "        support  confidence      lift\n",
            "0.025  0.023513    0.416829  0.954692\n",
            "0.975  0.034208    0.547604  1.242213\n",
            "Permutation p-value: 0.086\n",
            "\n",
            "▶ non-FIT 그룹 전략 검증\n",
            "\n",
            "스포츠/레포츠 참가 (스키, 수영, 골프, 캠핑 등) → Winter\n",
            "        support  confidence      lift\n",
            "0.025  0.019718    0.487949  2.196760\n",
            "0.975  0.044087    0.770621  3.579682\n",
            "Permutation p-value: 0.000\n",
            "\n",
            "Spring → 고궁/역사 유적지 방문\n",
            "        support  confidence      lift\n",
            "0.025  0.129155    0.513597  0.952510\n",
            "0.975  0.184369    0.652012  1.180285\n",
            "Permutation p-value: 0.183\n",
            "\n",
            "Summer → 자연경관 감상\n",
            "        support  confidence      lift\n",
            "0.025  0.064828    0.427027  0.954466\n",
            "0.975  0.104132    0.577537  1.291499\n",
            "Permutation p-value: 0.083\n",
            "\n",
            "Autumn → 쇼핑\n",
            "        support  confidence      lift\n",
            "0.025  0.157746    0.481208  0.943618\n",
            "0.975  0.226934    0.631132  1.166997\n",
            "Permutation p-value: 0.147\n"
          ]
        }
      ]
    },
    {
      "cell_type": "markdown",
      "source": [
        "## 결과\n",
        "\n",
        "| 연관규칙                                                   | 그룹       | 95% CI (lift)    | p-value | 결정       |\n",
        "|-------------------------------------------------------------|-----------|------------------|---------|-----------|\n",
        "| 박물관·전시관 관람 → 고궁/역사 유적지 방문                   | FIT       | [1.109, 1.288]   | 0.000   | 강력 추천 |\n",
        "| 전통문화체험 (한복체험, 태권도, 한국음식 만들기 등) → 고궁/역사 유적지 방문 | FIT       | [0.955, 1.242]   | 0.086   | 보조 전략 |\n",
        "| 스포츠/레포츠 참가 (스키, 수영, 골프, 캠핑 등) → Winter      | non-FIT   | [2.197, 3.580]   | 0.000   | 강력 추천 |\n",
        "| Spring → 고궁/역사 유적지 방문                              | non-FIT   | [0.953, 1.180]   | 0.183   | 제외       |\n",
        "| Summer → 자연경관 감상                                      | non-FIT   | [0.954, 1.291]   | 0.083   | 보조 전략 |\n",
        "| Autumn → 쇼핑                                              | non-FIT   | [0.944, 1.167]   | 0.147   | 제외       |\n",
        "\n",
        "▶ 결론\n",
        "\n",
        "- 통계적으로 강력 검증된 전략\n",
        "\n",
        "  - 박물관 관람 → 고궁/역사 (FIT 그룹)\n",
        "\n",
        "  - 스포츠/레포츠 참가 → Winter (non-FIT 그룹)\n",
        "\n",
        "- 보조/재검토 전략\n",
        "\n",
        "  - 전통문화체험 → 고궁 (FIT): CI 상한이 높으므로, 보조 전략으로 유지\n",
        "\n",
        "  - Summer→자연경관 (non-FIT): p≈0.08, lift 상한 높음 → 재검토 후보\n",
        "\n",
        "- 제외할 전략\n",
        "\n",
        "  - Spring→고궁, Autumn→쇼핑 (non-FIT)"
      ],
      "metadata": {
        "id": "eBb5mY8F7ViS"
      }
    },
    {
      "cell_type": "markdown",
      "source": [
        "# 방문지역 추가\n",
        "\n",
        "2023년, 2024년 방문지역 코드\n",
        "\n",
        "Q9_2a01 ~ Q9_2a17  : 방문지역\n",
        "\n",
        "    1 서울\n",
        "    2 경기\n",
        "    3 인천\n",
        "    4 강원\n",
        "    5 대전\n",
        "    6 충북\n",
        "    7 충남\n",
        "    8 세종\n",
        "    9 경북\n",
        "    10 경남\n",
        "    11 대구\n",
        "    12 울산\n",
        "    13 부산\n",
        "    14 광주\n",
        "    15 전북\n",
        "    16 전남\n",
        "    17 제주"
      ],
      "metadata": {
        "id": "5sxpcIWRP_UE"
      }
    },
    {
      "cell_type": "code",
      "source": [
        "df_all.shape"
      ],
      "metadata": {
        "colab": {
          "base_uri": "https://localhost:8080/"
        },
        "id": "RaKl1R0IQPLO",
        "outputId": "e5b397bc-7443-4b96-9e31-ce2578e420b2"
      },
      "execution_count": 35,
      "outputs": [
        {
          "output_type": "execute_result",
          "data": {
            "text/plain": [
              "(8450, 8)"
            ]
          },
          "metadata": {},
          "execution_count": 35
        }
      ]
    },
    {
      "cell_type": "code",
      "source": [
        "df_2023.shape"
      ],
      "metadata": {
        "colab": {
          "base_uri": "https://localhost:8080/"
        },
        "id": "-oXG808eQ0HF",
        "outputId": "4836cd1f-92cb-4081-ef25-c8903db43890"
      },
      "execution_count": 36,
      "outputs": [
        {
          "output_type": "execute_result",
          "data": {
            "text/plain": [
              "(4324, 7)"
            ]
          },
          "metadata": {},
          "execution_count": 36
        }
      ]
    },
    {
      "cell_type": "code",
      "source": [
        "df_cluster1_2024.columns"
      ],
      "metadata": {
        "colab": {
          "base_uri": "https://localhost:8080/"
        },
        "id": "C0Cea8uCQ11_",
        "outputId": "89cb49cf-1833-4c3c-cecf-7c2a0746f923"
      },
      "execution_count": 44,
      "outputs": [
        {
          "output_type": "execute_result",
          "data": {
            "text/plain": [
              "Index(['pnid', 'MVIT', 'RVIT', 'XRVIT', 'TYP', 'Q1', 'Q1_1a1', 'Q1_1a2',\n",
              "       'Q1_1a3', 'Q2a1',\n",
              "       ...\n",
              "       'weight1', 'weight2', 'weight3', 'weight4', 'weight', '국가명', '주요활동',\n",
              "       '만족활동', '계절', 'visit_regions'],\n",
              "      dtype='object', length=407)"
            ]
          },
          "metadata": {},
          "execution_count": 44
        }
      ]
    },
    {
      "cell_type": "code",
      "source": [
        "df_all.columns"
      ],
      "metadata": {
        "colab": {
          "base_uri": "https://localhost:8080/"
        },
        "id": "DtXiiUvLQ8uc",
        "outputId": "d4cb8dbd-63f4-4ac8-915e-d0d2c4bc7ebb"
      },
      "execution_count": 38,
      "outputs": [
        {
          "output_type": "execute_result",
          "data": {
            "text/plain": [
              "Index(['visitor_id', '만족활동', 'weight', '계절', '국가명', 'is_FIT', 'revisit_score',\n",
              "       'item_list'],\n",
              "      dtype='object')"
            ]
          },
          "metadata": {},
          "execution_count": 38
        }
      ]
    },
    {
      "cell_type": "code",
      "source": [
        "# 2023 데이터 정제\n",
        "df_2023 = df_cluster1_2023.copy()\n",
        "df_2023['visitor_id'] = df_2023['pnid']\n",
        "df_2023['is_FIT'] = (df_2023['TYP'] == 1).astype(int)\n",
        "df_2023['revisit_score'] = df_2023['Q13']\n",
        "df_2023 = df_2023[['visitor_id', '만족활동', 'weight', '계절', '국가명', 'is_FIT', 'revisit_score']]\n",
        "\n",
        "# 2024 데이터 정제\n",
        "df_2024 = df_cluster1_2024.copy()\n",
        "df_2024['visitor_id'] = df_2024['pnid']\n",
        "df_2024['is_FIT'] = (df_2024['TYP'] == 1).astype(int)\n",
        "df_2024['revisit_score'] = df_2024['Q13']\n",
        "df_2024 = df_2024[['visitor_id', '만족활동', 'weight', '계절', '국가명', 'is_FIT', 'revisit_score']]\n",
        "\n",
        "# 병합\n",
        "df_all = pd.concat([df_2023, df_2024], ignore_index=True)"
      ],
      "metadata": {
        "id": "K4KgamBUYibp"
      },
      "execution_count": null,
      "outputs": []
    },
    {
      "cell_type": "markdown",
      "source": [
        "# 연관분석 다시 시작"
      ],
      "metadata": {
        "id": "hyIxpx_dfw_v"
      }
    },
    {
      "cell_type": "markdown",
      "source": [
        "# 1단계: 데이터 병합 및 주요 컬럼 추출\n",
        "\n",
        "+ 이전리스트에 방문 지역 추가"
      ],
      "metadata": {
        "id": "cC7Jbje9gKVD"
      }
    },
    {
      "cell_type": "code",
      "source": [
        "import pandas as pd\n",
        "\n",
        "# 1. 2023 데이터 정제\n",
        "df_2023 = df_cluster1_2023.copy()\n",
        "df_2023['visitor_id'] = df_2023['pnid']\n",
        "df_2023['is_FIT'] = (df_2023['TYP'] == 1).astype(int)\n",
        "df_2023['revisit_score'] = df_2023['Q13']\n",
        "df_2023 = df_2023[['visitor_id', '만족활동', 'weight', '계절', '국가명', 'is_FIT', 'revisit_score', '방문지역']]\n",
        "\n",
        "# 2. 2024 데이터 정제\n",
        "df_2024 = df_cluster1_2024.copy()\n",
        "df_2024['visitor_id'] = df_2024['pnid']\n",
        "df_2024['is_FIT'] = (df_2024['TYP'] == 1).astype(int)\n",
        "df_2024['revisit_score'] = df_2024['Q13']\n",
        "df_2024 = df_2024[['visitor_id', '만족활동', 'weight', '계절', '국가명', 'is_FIT', 'revisit_score', '방문지역']]\n",
        "\n",
        "# 3. 병합\n",
        "df_all = pd.concat([df_2023, df_2024], ignore_index=True)"
      ],
      "metadata": {
        "id": "fUOrBuPAfyGx"
      },
      "execution_count": 30,
      "outputs": []
    },
    {
      "cell_type": "markdown",
      "source": [
        "# 2단계 : item_list 생성 원핫 인코딩 + 가중치 적용\n"
      ],
      "metadata": {
        "id": "0mSuQ3FbgJhP"
      }
    },
    {
      "cell_type": "markdown",
      "source": [
        "## 2-1. 아이템 리스트 생성"
      ],
      "metadata": {
        "id": "xjsSynt2gi8V"
      }
    },
    {
      "cell_type": "code",
      "source": [
        "# item_list: 만족활동 + 방문지역 + 계절 + 국가명\n",
        "df_all['item_list'] = df_all.apply(\n",
        "    lambda r: r['만족활동'] + r['방문지역'] + [r['계절'], r['국가명']],\n",
        "    axis=1\n",
        ")\n",
        "\n",
        "# 확인\n",
        "print(df_all[['visitor_id', 'item_list']].head())"
      ],
      "metadata": {
        "colab": {
          "base_uri": "https://localhost:8080/"
        },
        "id": "PFv8lFk5hD9p",
        "outputId": "8ecec76b-cc53-4ffb-989c-3a939a66a34d"
      },
      "execution_count": 31,
      "outputs": [
        {
          "output_type": "stream",
          "name": "stdout",
          "text": [
            "   visitor_id                                          item_list\n",
            "0          14  [고궁/역사 유적지 방문, 쇼핑, 오락(놀이공원 및 테마파크 방문 등), 서울, 강...\n",
            "1          19  [자연경관 감상, 고궁/역사 유적지 방문, 쇼핑, 서울, 강원, 부산, Winter...\n",
            "2          29  [고궁/역사 유적지 방문, 연극, 뮤지컬, 발레 등 공연 관람, 전통문화체험 (한복...\n",
            "3          35   [자연경관 감상, 식도락(음식/미식) 관광, 쇼핑, 서울, 경기, Winter, 기타]\n",
            "4          37  [전통문화체험 (한복체험, 태권도, 한국음식 만들기 등), 식도락(음식/미식) 관광...\n"
          ]
        }
      ]
    },
    {
      "cell_type": "markdown",
      "source": [
        "## 2-2. One-hot 인코딩"
      ],
      "metadata": {
        "id": "rTaYQBakg2XD"
      }
    },
    {
      "cell_type": "code",
      "source": [
        "from sklearn.preprocessing import MultiLabelBinarizer\n",
        "\n",
        "# One-hot 인코딩\n",
        "mlb = MultiLabelBinarizer()\n",
        "df_hot = pd.DataFrame(\n",
        "    mlb.fit_transform(df_all['item_list']),\n",
        "    columns=mlb.classes_,\n",
        "    index=df_all.index\n",
        ")\n",
        "\n",
        "# 확인\n",
        "print(f\"변환된 df_hot shape: {df_hot.shape}\")\n",
        "print(df_hot.head())"
      ],
      "metadata": {
        "colab": {
          "base_uri": "https://localhost:8080/"
        },
        "id": "g9Q35wlDhQUz",
        "outputId": "0ef1d643-0840-4b0f-9f64-07cdbb43fc46"
      },
      "execution_count": 32,
      "outputs": [
        {
          "output_type": "stream",
          "name": "stdout",
          "text": [
            "변환된 df_hot shape: (8450, 50)\n",
            "   Autumn  K-POP/한류스타 공연장 및 드라마/영화 촬영지 방문  Spring  Summer  Winter  강원  경기  경남  \\\n",
            "0       0                               0       0       0       1   1   0   0   \n",
            "1       0                               0       0       0       1   1   0   0   \n",
            "2       0                               0       0       0       1   1   0   0   \n",
            "3       0                               0       0       0       1   0   1   0   \n",
            "4       0                               0       0       0       1   1   0   0   \n",
            "\n",
            "   경북  고궁/역사 유적지 방문  ...  제주  지역 축제 참여  충남  충북  \\\n",
            "0   0             1  ...   0         0   0   0   \n",
            "1   0             1  ...   0         0   0   0   \n",
            "2   0             1  ...   0         0   0   0   \n",
            "3   0             0  ...   0         0   0   0   \n",
            "4   0             0  ...   0         0   0   0   \n",
            "\n",
            "   치료/건강검진(피부과, 성형외과, 내외과 등 입원, 수술 등)  치료/건강검진(피부과, 성형외과, 내외과 입원, 수술 등)  캐나다  \\\n",
            "0                                   0                                 0    0   \n",
            "1                                   0                                 0    0   \n",
            "2                                   0                                 0    0   \n",
            "3                                   0                                 0    0   \n",
            "4                                   0                                 0    0   \n",
            "\n",
            "   프랑스  호주  휴양/휴식(웰니스)  \n",
            "0    0   1           0  \n",
            "1    0   1           0  \n",
            "2    0   1           0  \n",
            "3    0   0           0  \n",
            "4    0   0           0  \n",
            "\n",
            "[5 rows x 50 columns]\n"
          ]
        }
      ]
    },
    {
      "cell_type": "markdown",
      "source": [
        "## 2-3. 가중치 반영 지지도 계산"
      ],
      "metadata": {
        "id": "Uzxm7WsFg7YJ"
      }
    },
    {
      "cell_type": "code",
      "source": [
        "# 1) 가중치 벡터 추출\n",
        "weight_vector = df_all['weight']\n",
        "\n",
        "# 2) 각 항목에 가중치 곱하기 (0/1 × weight)\n",
        "weighted_df = df_hot.multiply(weight_vector, axis=0)\n",
        "\n",
        "# 3) 전체 가중치 합산 (분모)\n",
        "total_weight = weight_vector.sum()\n",
        "\n",
        "# 확인\n",
        "print(f\"총 가중치 합: {total_weight:.2f}\")\n",
        "weighted_df.head()"
      ],
      "metadata": {
        "colab": {
          "base_uri": "https://localhost:8080/",
          "height": 288
        },
        "id": "WfIAAgd4f21s",
        "outputId": "b64eb039-b4a2-4efc-d1ab-5d5a60e9d030"
      },
      "execution_count": 34,
      "outputs": [
        {
          "output_type": "stream",
          "name": "stdout",
          "text": [
            "총 가중치 합: 4084039.29\n"
          ]
        },
        {
          "output_type": "execute_result",
          "data": {
            "text/plain": [
              "   Autumn  K-POP/한류스타 공연장 및 드라마/영화 촬영지 방문  Spring  Summer      Winter  \\\n",
              "0     0.0                             0.0     0.0     0.0  130.457228   \n",
              "1     0.0                             0.0     0.0     0.0  119.056178   \n",
              "2     0.0                             0.0     0.0     0.0  105.137119   \n",
              "3     0.0                             0.0     0.0     0.0  363.430968   \n",
              "4     0.0                             0.0     0.0     0.0  100.632775   \n",
              "\n",
              "           강원          경기   경남   경북  고궁/역사 유적지 방문  ...   제주  지역 축제 참여   충남  \\\n",
              "0  130.457228    0.000000  0.0  0.0    130.457228  ...  0.0       0.0  0.0   \n",
              "1  119.056178    0.000000  0.0  0.0    119.056178  ...  0.0       0.0  0.0   \n",
              "2  105.137119    0.000000  0.0  0.0    105.137119  ...  0.0       0.0  0.0   \n",
              "3    0.000000  363.430968  0.0  0.0      0.000000  ...  0.0       0.0  0.0   \n",
              "4  100.632775    0.000000  0.0  0.0      0.000000  ...  0.0       0.0  0.0   \n",
              "\n",
              "    충북  치료/건강검진(피부과, 성형외과, 내외과 등 입원, 수술 등)  치료/건강검진(피부과, 성형외과, 내외과 입원, 수술 등)  \\\n",
              "0  0.0                                 0.0                               0.0   \n",
              "1  0.0                                 0.0                               0.0   \n",
              "2  0.0                                 0.0                               0.0   \n",
              "3  0.0                                 0.0                               0.0   \n",
              "4  0.0                                 0.0                               0.0   \n",
              "\n",
              "   캐나다  프랑스          호주  휴양/휴식(웰니스)  \n",
              "0  0.0  0.0  130.457228         0.0  \n",
              "1  0.0  0.0  119.056178         0.0  \n",
              "2  0.0  0.0  105.137119         0.0  \n",
              "3  0.0  0.0    0.000000         0.0  \n",
              "4  0.0  0.0    0.000000         0.0  \n",
              "\n",
              "[5 rows x 50 columns]"
            ],
            "text/html": [
              "\n",
              "  <div id=\"df-eb669541-831a-4dd0-afea-475d99af1868\" class=\"colab-df-container\">\n",
              "    <div>\n",
              "<style scoped>\n",
              "    .dataframe tbody tr th:only-of-type {\n",
              "        vertical-align: middle;\n",
              "    }\n",
              "\n",
              "    .dataframe tbody tr th {\n",
              "        vertical-align: top;\n",
              "    }\n",
              "\n",
              "    .dataframe thead th {\n",
              "        text-align: right;\n",
              "    }\n",
              "</style>\n",
              "<table border=\"1\" class=\"dataframe\">\n",
              "  <thead>\n",
              "    <tr style=\"text-align: right;\">\n",
              "      <th></th>\n",
              "      <th>Autumn</th>\n",
              "      <th>K-POP/한류스타 공연장 및 드라마/영화 촬영지 방문</th>\n",
              "      <th>Spring</th>\n",
              "      <th>Summer</th>\n",
              "      <th>Winter</th>\n",
              "      <th>강원</th>\n",
              "      <th>경기</th>\n",
              "      <th>경남</th>\n",
              "      <th>경북</th>\n",
              "      <th>고궁/역사 유적지 방문</th>\n",
              "      <th>...</th>\n",
              "      <th>제주</th>\n",
              "      <th>지역 축제 참여</th>\n",
              "      <th>충남</th>\n",
              "      <th>충북</th>\n",
              "      <th>치료/건강검진(피부과, 성형외과, 내외과 등 입원, 수술 등)</th>\n",
              "      <th>치료/건강검진(피부과, 성형외과, 내외과 입원, 수술 등)</th>\n",
              "      <th>캐나다</th>\n",
              "      <th>프랑스</th>\n",
              "      <th>호주</th>\n",
              "      <th>휴양/휴식(웰니스)</th>\n",
              "    </tr>\n",
              "  </thead>\n",
              "  <tbody>\n",
              "    <tr>\n",
              "      <th>0</th>\n",
              "      <td>0.0</td>\n",
              "      <td>0.0</td>\n",
              "      <td>0.0</td>\n",
              "      <td>0.0</td>\n",
              "      <td>130.457228</td>\n",
              "      <td>130.457228</td>\n",
              "      <td>0.000000</td>\n",
              "      <td>0.0</td>\n",
              "      <td>0.0</td>\n",
              "      <td>130.457228</td>\n",
              "      <td>...</td>\n",
              "      <td>0.0</td>\n",
              "      <td>0.0</td>\n",
              "      <td>0.0</td>\n",
              "      <td>0.0</td>\n",
              "      <td>0.0</td>\n",
              "      <td>0.0</td>\n",
              "      <td>0.0</td>\n",
              "      <td>0.0</td>\n",
              "      <td>130.457228</td>\n",
              "      <td>0.0</td>\n",
              "    </tr>\n",
              "    <tr>\n",
              "      <th>1</th>\n",
              "      <td>0.0</td>\n",
              "      <td>0.0</td>\n",
              "      <td>0.0</td>\n",
              "      <td>0.0</td>\n",
              "      <td>119.056178</td>\n",
              "      <td>119.056178</td>\n",
              "      <td>0.000000</td>\n",
              "      <td>0.0</td>\n",
              "      <td>0.0</td>\n",
              "      <td>119.056178</td>\n",
              "      <td>...</td>\n",
              "      <td>0.0</td>\n",
              "      <td>0.0</td>\n",
              "      <td>0.0</td>\n",
              "      <td>0.0</td>\n",
              "      <td>0.0</td>\n",
              "      <td>0.0</td>\n",
              "      <td>0.0</td>\n",
              "      <td>0.0</td>\n",
              "      <td>119.056178</td>\n",
              "      <td>0.0</td>\n",
              "    </tr>\n",
              "    <tr>\n",
              "      <th>2</th>\n",
              "      <td>0.0</td>\n",
              "      <td>0.0</td>\n",
              "      <td>0.0</td>\n",
              "      <td>0.0</td>\n",
              "      <td>105.137119</td>\n",
              "      <td>105.137119</td>\n",
              "      <td>0.000000</td>\n",
              "      <td>0.0</td>\n",
              "      <td>0.0</td>\n",
              "      <td>105.137119</td>\n",
              "      <td>...</td>\n",
              "      <td>0.0</td>\n",
              "      <td>0.0</td>\n",
              "      <td>0.0</td>\n",
              "      <td>0.0</td>\n",
              "      <td>0.0</td>\n",
              "      <td>0.0</td>\n",
              "      <td>0.0</td>\n",
              "      <td>0.0</td>\n",
              "      <td>105.137119</td>\n",
              "      <td>0.0</td>\n",
              "    </tr>\n",
              "    <tr>\n",
              "      <th>3</th>\n",
              "      <td>0.0</td>\n",
              "      <td>0.0</td>\n",
              "      <td>0.0</td>\n",
              "      <td>0.0</td>\n",
              "      <td>363.430968</td>\n",
              "      <td>0.000000</td>\n",
              "      <td>363.430968</td>\n",
              "      <td>0.0</td>\n",
              "      <td>0.0</td>\n",
              "      <td>0.000000</td>\n",
              "      <td>...</td>\n",
              "      <td>0.0</td>\n",
              "      <td>0.0</td>\n",
              "      <td>0.0</td>\n",
              "      <td>0.0</td>\n",
              "      <td>0.0</td>\n",
              "      <td>0.0</td>\n",
              "      <td>0.0</td>\n",
              "      <td>0.0</td>\n",
              "      <td>0.000000</td>\n",
              "      <td>0.0</td>\n",
              "    </tr>\n",
              "    <tr>\n",
              "      <th>4</th>\n",
              "      <td>0.0</td>\n",
              "      <td>0.0</td>\n",
              "      <td>0.0</td>\n",
              "      <td>0.0</td>\n",
              "      <td>100.632775</td>\n",
              "      <td>100.632775</td>\n",
              "      <td>0.000000</td>\n",
              "      <td>0.0</td>\n",
              "      <td>0.0</td>\n",
              "      <td>0.000000</td>\n",
              "      <td>...</td>\n",
              "      <td>0.0</td>\n",
              "      <td>0.0</td>\n",
              "      <td>0.0</td>\n",
              "      <td>0.0</td>\n",
              "      <td>0.0</td>\n",
              "      <td>0.0</td>\n",
              "      <td>0.0</td>\n",
              "      <td>0.0</td>\n",
              "      <td>0.000000</td>\n",
              "      <td>0.0</td>\n",
              "    </tr>\n",
              "  </tbody>\n",
              "</table>\n",
              "<p>5 rows × 50 columns</p>\n",
              "</div>\n",
              "    <div class=\"colab-df-buttons\">\n",
              "\n",
              "  <div class=\"colab-df-container\">\n",
              "    <button class=\"colab-df-convert\" onclick=\"convertToInteractive('df-eb669541-831a-4dd0-afea-475d99af1868')\"\n",
              "            title=\"Convert this dataframe to an interactive table.\"\n",
              "            style=\"display:none;\">\n",
              "\n",
              "  <svg xmlns=\"http://www.w3.org/2000/svg\" height=\"24px\" viewBox=\"0 -960 960 960\">\n",
              "    <path d=\"M120-120v-720h720v720H120Zm60-500h600v-160H180v160Zm220 220h160v-160H400v160Zm0 220h160v-160H400v160ZM180-400h160v-160H180v160Zm440 0h160v-160H620v160ZM180-180h160v-160H180v160Zm440 0h160v-160H620v160Z\"/>\n",
              "  </svg>\n",
              "    </button>\n",
              "\n",
              "  <style>\n",
              "    .colab-df-container {\n",
              "      display:flex;\n",
              "      gap: 12px;\n",
              "    }\n",
              "\n",
              "    .colab-df-convert {\n",
              "      background-color: #E8F0FE;\n",
              "      border: none;\n",
              "      border-radius: 50%;\n",
              "      cursor: pointer;\n",
              "      display: none;\n",
              "      fill: #1967D2;\n",
              "      height: 32px;\n",
              "      padding: 0 0 0 0;\n",
              "      width: 32px;\n",
              "    }\n",
              "\n",
              "    .colab-df-convert:hover {\n",
              "      background-color: #E2EBFA;\n",
              "      box-shadow: 0px 1px 2px rgba(60, 64, 67, 0.3), 0px 1px 3px 1px rgba(60, 64, 67, 0.15);\n",
              "      fill: #174EA6;\n",
              "    }\n",
              "\n",
              "    .colab-df-buttons div {\n",
              "      margin-bottom: 4px;\n",
              "    }\n",
              "\n",
              "    [theme=dark] .colab-df-convert {\n",
              "      background-color: #3B4455;\n",
              "      fill: #D2E3FC;\n",
              "    }\n",
              "\n",
              "    [theme=dark] .colab-df-convert:hover {\n",
              "      background-color: #434B5C;\n",
              "      box-shadow: 0px 1px 3px 1px rgba(0, 0, 0, 0.15);\n",
              "      filter: drop-shadow(0px 1px 2px rgba(0, 0, 0, 0.3));\n",
              "      fill: #FFFFFF;\n",
              "    }\n",
              "  </style>\n",
              "\n",
              "    <script>\n",
              "      const buttonEl =\n",
              "        document.querySelector('#df-eb669541-831a-4dd0-afea-475d99af1868 button.colab-df-convert');\n",
              "      buttonEl.style.display =\n",
              "        google.colab.kernel.accessAllowed ? 'block' : 'none';\n",
              "\n",
              "      async function convertToInteractive(key) {\n",
              "        const element = document.querySelector('#df-eb669541-831a-4dd0-afea-475d99af1868');\n",
              "        const dataTable =\n",
              "          await google.colab.kernel.invokeFunction('convertToInteractive',\n",
              "                                                    [key], {});\n",
              "        if (!dataTable) return;\n",
              "\n",
              "        const docLinkHtml = 'Like what you see? Visit the ' +\n",
              "          '<a target=\"_blank\" href=https://colab.research.google.com/notebooks/data_table.ipynb>data table notebook</a>'\n",
              "          + ' to learn more about interactive tables.';\n",
              "        element.innerHTML = '';\n",
              "        dataTable['output_type'] = 'display_data';\n",
              "        await google.colab.output.renderOutput(dataTable, element);\n",
              "        const docLink = document.createElement('div');\n",
              "        docLink.innerHTML = docLinkHtml;\n",
              "        element.appendChild(docLink);\n",
              "      }\n",
              "    </script>\n",
              "  </div>\n",
              "\n",
              "\n",
              "    <div id=\"df-8547d2d9-e473-41ed-9b59-cdb9c2114bd2\">\n",
              "      <button class=\"colab-df-quickchart\" onclick=\"quickchart('df-8547d2d9-e473-41ed-9b59-cdb9c2114bd2')\"\n",
              "                title=\"Suggest charts\"\n",
              "                style=\"display:none;\">\n",
              "\n",
              "<svg xmlns=\"http://www.w3.org/2000/svg\" height=\"24px\"viewBox=\"0 0 24 24\"\n",
              "     width=\"24px\">\n",
              "    <g>\n",
              "        <path d=\"M19 3H5c-1.1 0-2 .9-2 2v14c0 1.1.9 2 2 2h14c1.1 0 2-.9 2-2V5c0-1.1-.9-2-2-2zM9 17H7v-7h2v7zm4 0h-2V7h2v10zm4 0h-2v-4h2v4z\"/>\n",
              "    </g>\n",
              "</svg>\n",
              "      </button>\n",
              "\n",
              "<style>\n",
              "  .colab-df-quickchart {\n",
              "      --bg-color: #E8F0FE;\n",
              "      --fill-color: #1967D2;\n",
              "      --hover-bg-color: #E2EBFA;\n",
              "      --hover-fill-color: #174EA6;\n",
              "      --disabled-fill-color: #AAA;\n",
              "      --disabled-bg-color: #DDD;\n",
              "  }\n",
              "\n",
              "  [theme=dark] .colab-df-quickchart {\n",
              "      --bg-color: #3B4455;\n",
              "      --fill-color: #D2E3FC;\n",
              "      --hover-bg-color: #434B5C;\n",
              "      --hover-fill-color: #FFFFFF;\n",
              "      --disabled-bg-color: #3B4455;\n",
              "      --disabled-fill-color: #666;\n",
              "  }\n",
              "\n",
              "  .colab-df-quickchart {\n",
              "    background-color: var(--bg-color);\n",
              "    border: none;\n",
              "    border-radius: 50%;\n",
              "    cursor: pointer;\n",
              "    display: none;\n",
              "    fill: var(--fill-color);\n",
              "    height: 32px;\n",
              "    padding: 0;\n",
              "    width: 32px;\n",
              "  }\n",
              "\n",
              "  .colab-df-quickchart:hover {\n",
              "    background-color: var(--hover-bg-color);\n",
              "    box-shadow: 0 1px 2px rgba(60, 64, 67, 0.3), 0 1px 3px 1px rgba(60, 64, 67, 0.15);\n",
              "    fill: var(--button-hover-fill-color);\n",
              "  }\n",
              "\n",
              "  .colab-df-quickchart-complete:disabled,\n",
              "  .colab-df-quickchart-complete:disabled:hover {\n",
              "    background-color: var(--disabled-bg-color);\n",
              "    fill: var(--disabled-fill-color);\n",
              "    box-shadow: none;\n",
              "  }\n",
              "\n",
              "  .colab-df-spinner {\n",
              "    border: 2px solid var(--fill-color);\n",
              "    border-color: transparent;\n",
              "    border-bottom-color: var(--fill-color);\n",
              "    animation:\n",
              "      spin 1s steps(1) infinite;\n",
              "  }\n",
              "\n",
              "  @keyframes spin {\n",
              "    0% {\n",
              "      border-color: transparent;\n",
              "      border-bottom-color: var(--fill-color);\n",
              "      border-left-color: var(--fill-color);\n",
              "    }\n",
              "    20% {\n",
              "      border-color: transparent;\n",
              "      border-left-color: var(--fill-color);\n",
              "      border-top-color: var(--fill-color);\n",
              "    }\n",
              "    30% {\n",
              "      border-color: transparent;\n",
              "      border-left-color: var(--fill-color);\n",
              "      border-top-color: var(--fill-color);\n",
              "      border-right-color: var(--fill-color);\n",
              "    }\n",
              "    40% {\n",
              "      border-color: transparent;\n",
              "      border-right-color: var(--fill-color);\n",
              "      border-top-color: var(--fill-color);\n",
              "    }\n",
              "    60% {\n",
              "      border-color: transparent;\n",
              "      border-right-color: var(--fill-color);\n",
              "    }\n",
              "    80% {\n",
              "      border-color: transparent;\n",
              "      border-right-color: var(--fill-color);\n",
              "      border-bottom-color: var(--fill-color);\n",
              "    }\n",
              "    90% {\n",
              "      border-color: transparent;\n",
              "      border-bottom-color: var(--fill-color);\n",
              "    }\n",
              "  }\n",
              "</style>\n",
              "\n",
              "      <script>\n",
              "        async function quickchart(key) {\n",
              "          const quickchartButtonEl =\n",
              "            document.querySelector('#' + key + ' button');\n",
              "          quickchartButtonEl.disabled = true;  // To prevent multiple clicks.\n",
              "          quickchartButtonEl.classList.add('colab-df-spinner');\n",
              "          try {\n",
              "            const charts = await google.colab.kernel.invokeFunction(\n",
              "                'suggestCharts', [key], {});\n",
              "          } catch (error) {\n",
              "            console.error('Error during call to suggestCharts:', error);\n",
              "          }\n",
              "          quickchartButtonEl.classList.remove('colab-df-spinner');\n",
              "          quickchartButtonEl.classList.add('colab-df-quickchart-complete');\n",
              "        }\n",
              "        (() => {\n",
              "          let quickchartButtonEl =\n",
              "            document.querySelector('#df-8547d2d9-e473-41ed-9b59-cdb9c2114bd2 button');\n",
              "          quickchartButtonEl.style.display =\n",
              "            google.colab.kernel.accessAllowed ? 'block' : 'none';\n",
              "        })();\n",
              "      </script>\n",
              "    </div>\n",
              "\n",
              "    </div>\n",
              "  </div>\n"
            ],
            "application/vnd.google.colaboratory.intrinsic+json": {
              "type": "dataframe",
              "variable_name": "weighted_df"
            }
          },
          "metadata": {},
          "execution_count": 34
        }
      ]
    },
    {
      "cell_type": "markdown",
      "source": [
        "# 3단계 : 가중치 기반 연관 규칙 계산"
      ],
      "metadata": {
        "id": "ZsKu-C08hava"
      }
    },
    {
      "cell_type": "markdown",
      "source": [
        "## 3-1. 단일 아이템별 weighted support 계산"
      ],
      "metadata": {
        "id": "xVMCsfKUhf_o"
      }
    },
    {
      "cell_type": "code",
      "source": [
        "# 각 아이템의 weighted support 계산\n",
        "w_sup = {\n",
        "    item: weighted_df[item].sum() / total_weight\n",
        "    for item in df_hot.columns\n",
        "}\n",
        "\n",
        "# 확인\n",
        "print(\"w_support 상위 5개:\")\n",
        "print(sorted(w_sup.items(), key=lambda x: -x[1])[:5])"
      ],
      "metadata": {
        "colab": {
          "base_uri": "https://localhost:8080/"
        },
        "id": "C-mkLg8EhuFO",
        "outputId": "3dfc8324-a1df-4610-845f-005d8ec30bdb"
      },
      "execution_count": 35,
      "outputs": [
        {
          "output_type": "stream",
          "name": "stdout",
          "text": [
            "w_support 상위 5개:\n",
            "[('서울', np.float64(0.887822444693947)), ('쇼핑', np.float64(0.4819616751824293)), ('고궁/역사 유적지 방문', np.float64(0.4501951589665646)), ('식도락(음식/미식) 관광', np.float64(0.44137064024476186)), ('자연경관 감상', np.float64(0.4120906866833319))]\n"
          ]
        }
      ]
    },
    {
      "cell_type": "markdown",
      "source": [
        "## 3-2. 아이템쌍별 joint support 계산"
      ],
      "metadata": {
        "id": "yDGrS-DmhqUz"
      }
    },
    {
      "cell_type": "code",
      "source": [
        "from itertools import combinations\n",
        "\n",
        "# 쌍별 joint support 계산\n",
        "w_sup_pair = {}\n",
        "for i, j in combinations(df_hot.columns, 2):\n",
        "    joint = (df_hot[i] & df_hot[j]).multiply(df_all['weight'], axis=0)\n",
        "    w_sup_pair[(i, j)] = joint.sum() / total_weight"
      ],
      "metadata": {
        "id": "NFAp1laEiOXF"
      },
      "execution_count": 36,
      "outputs": []
    },
    {
      "cell_type": "markdown",
      "source": [
        "## 3-3. Confidence 계산"
      ],
      "metadata": {
        "id": "3uI6zPYOhtP0"
      }
    },
    {
      "cell_type": "code",
      "source": [
        "w_conf = {\n",
        "    (i, j): w_sup_pair[(i, j)] / w_sup[i]\n",
        "    for (i, j) in w_sup_pair\n",
        "}"
      ],
      "metadata": {
        "id": "XVnIJkINiUZi"
      },
      "execution_count": 37,
      "outputs": []
    },
    {
      "cell_type": "markdown",
      "source": [
        "## 3-4. Lift 계산"
      ],
      "metadata": {
        "id": "9okreOb1iYPo"
      }
    },
    {
      "cell_type": "code",
      "source": [
        "w_lift = {\n",
        "    (i, j): w_conf[(i, j)] / w_sup[j]\n",
        "    for (i, j) in w_conf\n",
        "}"
      ],
      "metadata": {
        "id": "k2h0hBS3iXvE"
      },
      "execution_count": 38,
      "outputs": []
    },
    {
      "cell_type": "markdown",
      "source": [
        "## 3-5. 유의미한 규칙 필터링"
      ],
      "metadata": {
        "id": "D30II9kUidP7"
      }
    },
    {
      "cell_type": "code",
      "source": [
        "# 기준 설정 (예: 실무 적용 기준)\n",
        "min_support = 0.05\n",
        "min_confidence = 0.5\n",
        "min_lift = 1.0\n",
        "\n",
        "# 규칙 필터링\n",
        "filtered_rules = []\n",
        "for (i, j) in w_sup_pair:\n",
        "    sup = w_sup_pair[(i, j)]\n",
        "    conf = w_conf[(i, j)]\n",
        "    lift = w_lift[(i, j)]\n",
        "\n",
        "    if sup >= min_support and conf >= min_confidence and lift > min_lift:\n",
        "        filtered_rules.append({\n",
        "            'from': i,\n",
        "            'to': j,\n",
        "            'support': round(sup, 3),\n",
        "            'confidence': round(conf, 3),\n",
        "            'lift': round(lift, 2)\n",
        "        })\n",
        "\n",
        "# 결과 DataFrame으로 정리\n",
        "import pandas as pd\n",
        "result_df = pd.DataFrame(filtered_rules)\n",
        "result_df = result_df.sort_values(by='lift', ascending=False).reset_index(drop=True)\n",
        "\n",
        "# 확인\n",
        "print(\"상위 20개 연관 규칙:\")\n",
        "result_df.head(20)"
      ],
      "metadata": {
        "colab": {
          "base_uri": "https://localhost:8080/",
          "height": 475
        },
        "id": "fIzPmFh_ictE",
        "outputId": "a347fa7f-d6fa-44d0-c44e-f72618a1e3ca"
      },
      "execution_count": 43,
      "outputs": [
        {
          "output_type": "stream",
          "name": "stdout",
          "text": [
            "상위 20개 연관 규칙:\n"
          ]
        },
        {
          "output_type": "execute_result",
          "data": {
            "text/plain": [
              "                              from            to  support  confidence  lift\n",
              "0                               강원       자연경관 감상    0.066       0.541  1.31\n",
              "1                               독일            쇼핑    0.052       0.562  1.17\n",
              "2                               미국            쇼핑    0.067       0.543  1.13\n",
              "3                               강원  고궁/역사 유적지 방문    0.062       0.506  1.12\n",
              "4   K-POP/한류스타 공연장 및 드라마/영화 촬영지 방문            서울    0.054       0.979  1.10\n",
              "5                     고궁/역사 유적지 방문            서울    0.433       0.962  1.08\n",
              "6                               강원            서울    0.117       0.956  1.08\n",
              "7                      박물관, 전시관 관람            서울    0.152       0.941  1.06\n",
              "8                           Winter            쇼핑    0.103       0.512  1.06\n",
              "9                           Spring            서울    0.245       0.903  1.02\n",
              "10                              기타            서울    0.333       0.909  1.02\n",
              "11                          Summer            서울    0.206       0.896  1.01\n",
              "12                          Autumn            서울    0.266       0.893  1.01"
            ],
            "text/html": [
              "\n",
              "  <div id=\"df-e938f846-ba6d-4ebd-9c29-ad3a9633742e\" class=\"colab-df-container\">\n",
              "    <div>\n",
              "<style scoped>\n",
              "    .dataframe tbody tr th:only-of-type {\n",
              "        vertical-align: middle;\n",
              "    }\n",
              "\n",
              "    .dataframe tbody tr th {\n",
              "        vertical-align: top;\n",
              "    }\n",
              "\n",
              "    .dataframe thead th {\n",
              "        text-align: right;\n",
              "    }\n",
              "</style>\n",
              "<table border=\"1\" class=\"dataframe\">\n",
              "  <thead>\n",
              "    <tr style=\"text-align: right;\">\n",
              "      <th></th>\n",
              "      <th>from</th>\n",
              "      <th>to</th>\n",
              "      <th>support</th>\n",
              "      <th>confidence</th>\n",
              "      <th>lift</th>\n",
              "    </tr>\n",
              "  </thead>\n",
              "  <tbody>\n",
              "    <tr>\n",
              "      <th>0</th>\n",
              "      <td>강원</td>\n",
              "      <td>자연경관 감상</td>\n",
              "      <td>0.066</td>\n",
              "      <td>0.541</td>\n",
              "      <td>1.31</td>\n",
              "    </tr>\n",
              "    <tr>\n",
              "      <th>1</th>\n",
              "      <td>독일</td>\n",
              "      <td>쇼핑</td>\n",
              "      <td>0.052</td>\n",
              "      <td>0.562</td>\n",
              "      <td>1.17</td>\n",
              "    </tr>\n",
              "    <tr>\n",
              "      <th>2</th>\n",
              "      <td>미국</td>\n",
              "      <td>쇼핑</td>\n",
              "      <td>0.067</td>\n",
              "      <td>0.543</td>\n",
              "      <td>1.13</td>\n",
              "    </tr>\n",
              "    <tr>\n",
              "      <th>3</th>\n",
              "      <td>강원</td>\n",
              "      <td>고궁/역사 유적지 방문</td>\n",
              "      <td>0.062</td>\n",
              "      <td>0.506</td>\n",
              "      <td>1.12</td>\n",
              "    </tr>\n",
              "    <tr>\n",
              "      <th>4</th>\n",
              "      <td>K-POP/한류스타 공연장 및 드라마/영화 촬영지 방문</td>\n",
              "      <td>서울</td>\n",
              "      <td>0.054</td>\n",
              "      <td>0.979</td>\n",
              "      <td>1.10</td>\n",
              "    </tr>\n",
              "    <tr>\n",
              "      <th>5</th>\n",
              "      <td>고궁/역사 유적지 방문</td>\n",
              "      <td>서울</td>\n",
              "      <td>0.433</td>\n",
              "      <td>0.962</td>\n",
              "      <td>1.08</td>\n",
              "    </tr>\n",
              "    <tr>\n",
              "      <th>6</th>\n",
              "      <td>강원</td>\n",
              "      <td>서울</td>\n",
              "      <td>0.117</td>\n",
              "      <td>0.956</td>\n",
              "      <td>1.08</td>\n",
              "    </tr>\n",
              "    <tr>\n",
              "      <th>7</th>\n",
              "      <td>박물관, 전시관 관람</td>\n",
              "      <td>서울</td>\n",
              "      <td>0.152</td>\n",
              "      <td>0.941</td>\n",
              "      <td>1.06</td>\n",
              "    </tr>\n",
              "    <tr>\n",
              "      <th>8</th>\n",
              "      <td>Winter</td>\n",
              "      <td>쇼핑</td>\n",
              "      <td>0.103</td>\n",
              "      <td>0.512</td>\n",
              "      <td>1.06</td>\n",
              "    </tr>\n",
              "    <tr>\n",
              "      <th>9</th>\n",
              "      <td>Spring</td>\n",
              "      <td>서울</td>\n",
              "      <td>0.245</td>\n",
              "      <td>0.903</td>\n",
              "      <td>1.02</td>\n",
              "    </tr>\n",
              "    <tr>\n",
              "      <th>10</th>\n",
              "      <td>기타</td>\n",
              "      <td>서울</td>\n",
              "      <td>0.333</td>\n",
              "      <td>0.909</td>\n",
              "      <td>1.02</td>\n",
              "    </tr>\n",
              "    <tr>\n",
              "      <th>11</th>\n",
              "      <td>Summer</td>\n",
              "      <td>서울</td>\n",
              "      <td>0.206</td>\n",
              "      <td>0.896</td>\n",
              "      <td>1.01</td>\n",
              "    </tr>\n",
              "    <tr>\n",
              "      <th>12</th>\n",
              "      <td>Autumn</td>\n",
              "      <td>서울</td>\n",
              "      <td>0.266</td>\n",
              "      <td>0.893</td>\n",
              "      <td>1.01</td>\n",
              "    </tr>\n",
              "  </tbody>\n",
              "</table>\n",
              "</div>\n",
              "    <div class=\"colab-df-buttons\">\n",
              "\n",
              "  <div class=\"colab-df-container\">\n",
              "    <button class=\"colab-df-convert\" onclick=\"convertToInteractive('df-e938f846-ba6d-4ebd-9c29-ad3a9633742e')\"\n",
              "            title=\"Convert this dataframe to an interactive table.\"\n",
              "            style=\"display:none;\">\n",
              "\n",
              "  <svg xmlns=\"http://www.w3.org/2000/svg\" height=\"24px\" viewBox=\"0 -960 960 960\">\n",
              "    <path d=\"M120-120v-720h720v720H120Zm60-500h600v-160H180v160Zm220 220h160v-160H400v160Zm0 220h160v-160H400v160ZM180-400h160v-160H180v160Zm440 0h160v-160H620v160ZM180-180h160v-160H180v160Zm440 0h160v-160H620v160Z\"/>\n",
              "  </svg>\n",
              "    </button>\n",
              "\n",
              "  <style>\n",
              "    .colab-df-container {\n",
              "      display:flex;\n",
              "      gap: 12px;\n",
              "    }\n",
              "\n",
              "    .colab-df-convert {\n",
              "      background-color: #E8F0FE;\n",
              "      border: none;\n",
              "      border-radius: 50%;\n",
              "      cursor: pointer;\n",
              "      display: none;\n",
              "      fill: #1967D2;\n",
              "      height: 32px;\n",
              "      padding: 0 0 0 0;\n",
              "      width: 32px;\n",
              "    }\n",
              "\n",
              "    .colab-df-convert:hover {\n",
              "      background-color: #E2EBFA;\n",
              "      box-shadow: 0px 1px 2px rgba(60, 64, 67, 0.3), 0px 1px 3px 1px rgba(60, 64, 67, 0.15);\n",
              "      fill: #174EA6;\n",
              "    }\n",
              "\n",
              "    .colab-df-buttons div {\n",
              "      margin-bottom: 4px;\n",
              "    }\n",
              "\n",
              "    [theme=dark] .colab-df-convert {\n",
              "      background-color: #3B4455;\n",
              "      fill: #D2E3FC;\n",
              "    }\n",
              "\n",
              "    [theme=dark] .colab-df-convert:hover {\n",
              "      background-color: #434B5C;\n",
              "      box-shadow: 0px 1px 3px 1px rgba(0, 0, 0, 0.15);\n",
              "      filter: drop-shadow(0px 1px 2px rgba(0, 0, 0, 0.3));\n",
              "      fill: #FFFFFF;\n",
              "    }\n",
              "  </style>\n",
              "\n",
              "    <script>\n",
              "      const buttonEl =\n",
              "        document.querySelector('#df-e938f846-ba6d-4ebd-9c29-ad3a9633742e button.colab-df-convert');\n",
              "      buttonEl.style.display =\n",
              "        google.colab.kernel.accessAllowed ? 'block' : 'none';\n",
              "\n",
              "      async function convertToInteractive(key) {\n",
              "        const element = document.querySelector('#df-e938f846-ba6d-4ebd-9c29-ad3a9633742e');\n",
              "        const dataTable =\n",
              "          await google.colab.kernel.invokeFunction('convertToInteractive',\n",
              "                                                    [key], {});\n",
              "        if (!dataTable) return;\n",
              "\n",
              "        const docLinkHtml = 'Like what you see? Visit the ' +\n",
              "          '<a target=\"_blank\" href=https://colab.research.google.com/notebooks/data_table.ipynb>data table notebook</a>'\n",
              "          + ' to learn more about interactive tables.';\n",
              "        element.innerHTML = '';\n",
              "        dataTable['output_type'] = 'display_data';\n",
              "        await google.colab.output.renderOutput(dataTable, element);\n",
              "        const docLink = document.createElement('div');\n",
              "        docLink.innerHTML = docLinkHtml;\n",
              "        element.appendChild(docLink);\n",
              "      }\n",
              "    </script>\n",
              "  </div>\n",
              "\n",
              "\n",
              "    <div id=\"df-4f5697a9-43ba-4030-8bd4-d01c941543bb\">\n",
              "      <button class=\"colab-df-quickchart\" onclick=\"quickchart('df-4f5697a9-43ba-4030-8bd4-d01c941543bb')\"\n",
              "                title=\"Suggest charts\"\n",
              "                style=\"display:none;\">\n",
              "\n",
              "<svg xmlns=\"http://www.w3.org/2000/svg\" height=\"24px\"viewBox=\"0 0 24 24\"\n",
              "     width=\"24px\">\n",
              "    <g>\n",
              "        <path d=\"M19 3H5c-1.1 0-2 .9-2 2v14c0 1.1.9 2 2 2h14c1.1 0 2-.9 2-2V5c0-1.1-.9-2-2-2zM9 17H7v-7h2v7zm4 0h-2V7h2v10zm4 0h-2v-4h2v4z\"/>\n",
              "    </g>\n",
              "</svg>\n",
              "      </button>\n",
              "\n",
              "<style>\n",
              "  .colab-df-quickchart {\n",
              "      --bg-color: #E8F0FE;\n",
              "      --fill-color: #1967D2;\n",
              "      --hover-bg-color: #E2EBFA;\n",
              "      --hover-fill-color: #174EA6;\n",
              "      --disabled-fill-color: #AAA;\n",
              "      --disabled-bg-color: #DDD;\n",
              "  }\n",
              "\n",
              "  [theme=dark] .colab-df-quickchart {\n",
              "      --bg-color: #3B4455;\n",
              "      --fill-color: #D2E3FC;\n",
              "      --hover-bg-color: #434B5C;\n",
              "      --hover-fill-color: #FFFFFF;\n",
              "      --disabled-bg-color: #3B4455;\n",
              "      --disabled-fill-color: #666;\n",
              "  }\n",
              "\n",
              "  .colab-df-quickchart {\n",
              "    background-color: var(--bg-color);\n",
              "    border: none;\n",
              "    border-radius: 50%;\n",
              "    cursor: pointer;\n",
              "    display: none;\n",
              "    fill: var(--fill-color);\n",
              "    height: 32px;\n",
              "    padding: 0;\n",
              "    width: 32px;\n",
              "  }\n",
              "\n",
              "  .colab-df-quickchart:hover {\n",
              "    background-color: var(--hover-bg-color);\n",
              "    box-shadow: 0 1px 2px rgba(60, 64, 67, 0.3), 0 1px 3px 1px rgba(60, 64, 67, 0.15);\n",
              "    fill: var(--button-hover-fill-color);\n",
              "  }\n",
              "\n",
              "  .colab-df-quickchart-complete:disabled,\n",
              "  .colab-df-quickchart-complete:disabled:hover {\n",
              "    background-color: var(--disabled-bg-color);\n",
              "    fill: var(--disabled-fill-color);\n",
              "    box-shadow: none;\n",
              "  }\n",
              "\n",
              "  .colab-df-spinner {\n",
              "    border: 2px solid var(--fill-color);\n",
              "    border-color: transparent;\n",
              "    border-bottom-color: var(--fill-color);\n",
              "    animation:\n",
              "      spin 1s steps(1) infinite;\n",
              "  }\n",
              "\n",
              "  @keyframes spin {\n",
              "    0% {\n",
              "      border-color: transparent;\n",
              "      border-bottom-color: var(--fill-color);\n",
              "      border-left-color: var(--fill-color);\n",
              "    }\n",
              "    20% {\n",
              "      border-color: transparent;\n",
              "      border-left-color: var(--fill-color);\n",
              "      border-top-color: var(--fill-color);\n",
              "    }\n",
              "    30% {\n",
              "      border-color: transparent;\n",
              "      border-left-color: var(--fill-color);\n",
              "      border-top-color: var(--fill-color);\n",
              "      border-right-color: var(--fill-color);\n",
              "    }\n",
              "    40% {\n",
              "      border-color: transparent;\n",
              "      border-right-color: var(--fill-color);\n",
              "      border-top-color: var(--fill-color);\n",
              "    }\n",
              "    60% {\n",
              "      border-color: transparent;\n",
              "      border-right-color: var(--fill-color);\n",
              "    }\n",
              "    80% {\n",
              "      border-color: transparent;\n",
              "      border-right-color: var(--fill-color);\n",
              "      border-bottom-color: var(--fill-color);\n",
              "    }\n",
              "    90% {\n",
              "      border-color: transparent;\n",
              "      border-bottom-color: var(--fill-color);\n",
              "    }\n",
              "  }\n",
              "</style>\n",
              "\n",
              "      <script>\n",
              "        async function quickchart(key) {\n",
              "          const quickchartButtonEl =\n",
              "            document.querySelector('#' + key + ' button');\n",
              "          quickchartButtonEl.disabled = true;  // To prevent multiple clicks.\n",
              "          quickchartButtonEl.classList.add('colab-df-spinner');\n",
              "          try {\n",
              "            const charts = await google.colab.kernel.invokeFunction(\n",
              "                'suggestCharts', [key], {});\n",
              "          } catch (error) {\n",
              "            console.error('Error during call to suggestCharts:', error);\n",
              "          }\n",
              "          quickchartButtonEl.classList.remove('colab-df-spinner');\n",
              "          quickchartButtonEl.classList.add('colab-df-quickchart-complete');\n",
              "        }\n",
              "        (() => {\n",
              "          let quickchartButtonEl =\n",
              "            document.querySelector('#df-4f5697a9-43ba-4030-8bd4-d01c941543bb button');\n",
              "          quickchartButtonEl.style.display =\n",
              "            google.colab.kernel.accessAllowed ? 'block' : 'none';\n",
              "        })();\n",
              "      </script>\n",
              "    </div>\n",
              "\n",
              "    </div>\n",
              "  </div>\n"
            ],
            "application/vnd.google.colaboratory.intrinsic+json": {
              "type": "dataframe",
              "variable_name": "result_df",
              "summary": "{\n  \"name\": \"result_df\",\n  \"rows\": 13,\n  \"fields\": [\n    {\n      \"column\": \"from\",\n      \"properties\": {\n        \"dtype\": \"string\",\n        \"num_unique_values\": 11,\n        \"samples\": [\n          \"\\ubc15\\ubb3c\\uad00, \\uc804\\uc2dc\\uad00 \\uad00\\ub78c\",\n          \"\\uac15\\uc6d0\",\n          \"Summer\"\n        ],\n        \"semantic_type\": \"\",\n        \"description\": \"\"\n      }\n    },\n    {\n      \"column\": \"to\",\n      \"properties\": {\n        \"dtype\": \"category\",\n        \"num_unique_values\": 4,\n        \"samples\": [\n          \"\\uc1fc\\ud551\",\n          \"\\uc11c\\uc6b8\",\n          \"\\uc790\\uc5f0\\uacbd\\uad00 \\uac10\\uc0c1\"\n        ],\n        \"semantic_type\": \"\",\n        \"description\": \"\"\n      }\n    },\n    {\n      \"column\": \"support\",\n      \"properties\": {\n        \"dtype\": \"number\",\n        \"std\": 0.12238657752782517,\n        \"min\": 0.052,\n        \"max\": 0.433,\n        \"num_unique_values\": 13,\n        \"samples\": [\n          0.206,\n          0.245,\n          0.066\n        ],\n        \"semantic_type\": \"\",\n        \"description\": \"\"\n      }\n    },\n    {\n      \"column\": \"confidence\",\n      \"properties\": {\n        \"dtype\": \"number\",\n        \"std\": 0.20314725617715756,\n        \"min\": 0.506,\n        \"max\": 0.979,\n        \"num_unique_values\": 13,\n        \"samples\": [\n          0.896,\n          0.903,\n          0.541\n        ],\n        \"semantic_type\": \"\",\n        \"description\": \"\"\n      }\n    },\n    {\n      \"column\": \"lift\",\n      \"properties\": {\n        \"dtype\": \"number\",\n        \"std\": 0.08266397845091497,\n        \"min\": 1.01,\n        \"max\": 1.31,\n        \"num_unique_values\": 9,\n        \"samples\": [\n          1.02,\n          1.17,\n          1.08\n        ],\n        \"semantic_type\": \"\",\n        \"description\": \"\"\n      }\n    }\n  ]\n}"
            }
          },
          "metadata": {},
          "execution_count": 43
        }
      ]
    },
    {
      "cell_type": "markdown",
      "source": [
        "## 여기까지 인사이트\n",
        "\n",
        "| from        | to      | support | confidence | lift               | 전략 해석 예시                 |\n",
        "| ----------- | ------- | ------- | ---------- | ------------------ | ------------------------ |\n",
        "| 강원          | 자연경관 감상 | 0.066   | 0.541      | 1.31               | 강원도 방문자에게 자연경관 감상이 주요 목적 |\n",
        "| 독일          | 쇼핑      | 0.052   | 0.562      | 1.17               | 독일 관광객은 쇼핑 수요가 강함        |\n",
        "| 미국          | 쇼핑      | 0.067   | 0.543      | 1.13               | 미국 관광객도 쇼핑에 관심 많음        |\n",
        "| 강원          | 고궁/역사   | 0.062   | 0.506      | 1.12               | 강원도 관광객이 문화유산도 병행        |\n",
        "| K-POP → 서울  | 0.054   | 0.979   | 1.10       | 한류 팬은 대부분 서울 방문    |                          |\n",
        "| 고궁/역사 → 서울  | 0.433   | 0.962   | 1.08       | 역사유적 관광객은 대부분 서울   |                          |\n",
        "| 강원 → 서울     | 0.117   | 0.956   | 1.08       | 강원도는 서울 연계 여행 경로   |                          |\n",
        "| 박물관 → 서울    | 0.152   | 0.941   | 1.06       | 박물관 관람도 서울 중심      |                          |\n",
        "| Winter → 쇼핑 | 0.103   | 0.512   | 1.06       | 겨울철 쇼핑 수요도 존재      |                          |\n",
        "| Spring → 서울 | 0.245   | 0.903   | 1.02       | 봄에 서울 방문 비율 높음     |                          |\n",
        "| 기타 → 서울     | 0.333   | 0.909   | 1.02       | ‘기타’국가 역시 서울 중심 방문 |                          |\n",
        "| Summer → 서울 | 0.206   | 0.896   | 1.01       | 여름에도 서울 중심         |                          |\n",
        "| Autumn → 서울 | 0.266   | 0.893   | 1.01       | 가을 역시 서울 집중도 높음    |                          |\n",
        "\n",
        "\n",
        "**결론 요약**\n",
        "\n",
        "해석 가능성과 활용도가 높은 규칙들이 다수 포함되어 있고,\n",
        "\n",
        "기준도 일반적으로 활용되는 기준이라 충분히 신뢰할 수 있는 결과입니다.\n",
        "\n",
        "다만, 계절 → 서울 같은 단순 지리적 연관은 전략보다는 현상 확인용에 적합하고,\n",
        "\n",
        "진짜 전략은 강원 → 자연경관 감상, 독일/미국 → 쇼핑 쪽에서 파생할 수 있습니다."
      ],
      "metadata": {
        "id": "FTp_29GYjXV7"
      }
    },
    {
      "cell_type": "markdown",
      "source": [
        "# 검증"
      ],
      "metadata": {
        "id": "5YXXPGSzm6vv"
      }
    },
    {
      "cell_type": "markdown",
      "source": [
        "## Bootstrap 95% CI 함수"
      ],
      "metadata": {
        "id": "Pl68eMd1m7kW"
      }
    },
    {
      "cell_type": "code",
      "source": [
        "import numpy as np\n",
        "import pandas as pd\n",
        "\n",
        "def bootstrap_ci(df, rule, n_iterations=1000, ci=0.95, seed=42):\n",
        "    np.random.seed(seed)\n",
        "    from_item, to_item = rule\n",
        "    stats = []\n",
        "\n",
        "    for _ in range(n_iterations):\n",
        "        sample = df.sample(frac=1.0, replace=True)\n",
        "        weight = sample['weight']\n",
        "        trans = sample['item_list']\n",
        "\n",
        "        total_weight = weight.sum()\n",
        "\n",
        "        # 단건 지지도\n",
        "        from_support = sum(weight[i] for i in range(len(trans)) if from_item in trans.iloc[i]) / total_weight\n",
        "        to_support = sum(weight[i] for i in range(len(trans)) if to_item in trans.iloc[i]) / total_weight\n",
        "\n",
        "        # 공동 지지도\n",
        "        joint_support = sum(weight[i] for i in range(len(trans)) if from_item in trans.iloc[i] and to_item in trans.iloc[i]) / total_weight\n",
        "\n",
        "        # confidence & lift\n",
        "        confidence = joint_support / from_support if from_support > 0 else 0\n",
        "        lift = confidence / to_support if to_support > 0 else 0\n",
        "\n",
        "        stats.append((joint_support, confidence, lift))\n",
        "\n",
        "    stats_array = np.array(stats)\n",
        "    lower = np.percentile(stats_array, (1 - ci) / 2 * 100, axis=0)\n",
        "    upper = np.percentile(stats_array, (1 + ci) / 2 * 100, axis=0)\n",
        "\n",
        "    result_df = pd.DataFrame([lower, upper], columns=['support', 'confidence', 'lift'], index=[f'{1-ci:.3f}', f'{ci:.3f}'])\n",
        "    return result_df"
      ],
      "metadata": {
        "id": "QLfjOX1GjVyb"
      },
      "execution_count": 44,
      "outputs": []
    },
    {
      "cell_type": "markdown",
      "source": [
        "## Permutation Test 함수"
      ],
      "metadata": {
        "id": "c-HQNCNrnBmT"
      }
    },
    {
      "cell_type": "code",
      "source": [
        "def permutation_test(df, rule, n_iterations=1000, seed=42):\n",
        "    np.random.seed(seed)\n",
        "    from_item, to_item = rule\n",
        "\n",
        "    weight = df['weight']\n",
        "    trans = df['item_list']\n",
        "    total_weight = weight.sum()\n",
        "\n",
        "    # 실제 값\n",
        "    from_support = sum(weight[i] for i in range(len(trans)) if from_item in trans.iloc[i]) / total_weight\n",
        "    to_support = sum(weight[i] for i in range(len(trans)) if to_item in trans.iloc[i]) / total_weight\n",
        "    joint_support = sum(weight[i] for i in range(len(trans)) if from_item in trans.iloc[i] and to_item in trans.iloc[i]) / total_weight\n",
        "\n",
        "    observed_confidence = joint_support / from_support if from_support > 0 else 0\n",
        "    observed_lift = observed_confidence / to_support if to_support > 0 else 0\n",
        "\n",
        "    permuted_lifts = []\n",
        "\n",
        "    for _ in range(n_iterations):\n",
        "        permuted_to = trans.sample(frac=1.0, replace=False).reset_index(drop=True)\n",
        "        joint_support_perm = sum(weight[i] for i in range(len(trans)) if from_item in trans.iloc[i] and to_item in permuted_to.iloc[i]) / total_weight\n",
        "        confidence_perm = joint_support_perm / from_support if from_support > 0 else 0\n",
        "        lift_perm = confidence_perm / to_support if to_support > 0 else 0\n",
        "        permuted_lifts.append(lift_perm)\n",
        "\n",
        "    # p-value 계산: 실제 lift보다 같거나 큰 비율\n",
        "    p_value = np.mean([l >= observed_lift for l in permuted_lifts])\n",
        "    return round(p_value, 3)"
      ],
      "metadata": {
        "id": "feesmhqYkxCx"
      },
      "execution_count": 45,
      "outputs": []
    },
    {
      "cell_type": "markdown",
      "source": [
        "\"활동 만족도, 서울 제외 방문 지역, 재방문의향\"\n",
        "\n",
        "x축 : 방문지역 y축 : 참여활동만족도 스택 그래프\n",
        "\n",
        "고궁\n",
        "식도락\n",
        "자연경관\n",
        "\n",
        "\n",
        "활동이 만족 활동에 포함되고 그게 제일 많은 지역들을 서울 제외 리스트 업 해서\n",
        "\n",
        "* 클러스터링\n",
        "\n",
        "변수 : 만족한 활동, 재방문 의향, 일인당 소비패턴(총액말고 C로 시작하는), 서울 제외\n",
        "\n",
        "클러스터링 결과 그 지역과 유클리드거리가 가장 가까운 지역을 뽑아서\n",
        "\n",
        "**2단계 3단계 하기**\n",
        "\n",
        "\n",
        "\n",
        "텍스트 분석"
      ],
      "metadata": {
        "id": "0mIguoxyumXt"
      }
    }
  ]
}