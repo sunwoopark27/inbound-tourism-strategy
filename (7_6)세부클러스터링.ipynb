{
  "nbformat": 4,
  "nbformat_minor": 0,
  "metadata": {
    "colab": {
      "provenance": []
    },
    "kernelspec": {
      "name": "python3",
      "display_name": "Python 3"
    },
    "language_info": {
      "name": "python"
    }
  },
  "cells": [
    {
      "cell_type": "code",
      "execution_count": null,
      "metadata": {
        "id": "jUQvjELKOtnm"
      },
      "outputs": [],
      "source": []
    },
    {
      "cell_type": "markdown",
      "source": [
        "### 초기설정"
      ],
      "metadata": {
        "id": "DNp0M6t1kPLF"
      }
    },
    {
      "cell_type": "code",
      "source": [
        "%%capture\n",
        "!pip install koreanize-matplotlib\n",
        "import koreanize_matplotlib"
      ],
      "metadata": {
        "id": "fOSWLFtVfTVJ"
      },
      "execution_count": null,
      "outputs": []
    },
    {
      "cell_type": "code",
      "execution_count": null,
      "metadata": {
        "id": "XdaIWL45fEIL"
      },
      "outputs": [],
      "source": [
        "import pandas as pd\n",
        "\n",
        "df_2018 = pd.read_excel('/content/2018.xlsx')\n",
        "df_2019 = pd.read_excel('/content/2019.xlsx')\n",
        "df_2020 = pd.read_excel('/content/2020.xlsx')\n",
        "df_2021 = pd.read_excel('/content/2021.xlsx')\n",
        "df_2022 = pd.read_excel('/content/2022.xlsx')\n",
        "df_2023 = pd.read_excel('/content/2023.xlsx')\n",
        "df_2024 = pd.read_excel('/content/2024.xlsx')"
      ]
    },
    {
      "cell_type": "code",
      "source": [
        "grade_map = {\n",
        "    '① 전혀 그렇지 않다': 1,\n",
        "    '② 별로 그렇지 않다': 2,\n",
        "    '③ 보통이다': 3,\n",
        "    '④ 대체로 그렇다': 4,\n",
        "    '⑤ 매우 그렇다': 5\n",
        "}\n",
        "\n",
        "df_2018['Q16'] = df_2018['Q16'].map(grade_map)"
      ],
      "metadata": {
        "id": "kmyNqnzOkYbu"
      },
      "execution_count": null,
      "outputs": []
    },
    {
      "cell_type": "code",
      "source": [
        "df_2018['국가명'] = df_2018['COUNTRY']"
      ],
      "metadata": {
        "id": "xhj-m9F-kakb"
      },
      "execution_count": null,
      "outputs": []
    },
    {
      "cell_type": "code",
      "source": [
        "country_map = {\n",
        "    1: '일본',\n",
        "    2: '중국',\n",
        "    3: '홍콩',\n",
        "    4: '싱가포르',\n",
        "    5: '대만',\n",
        "    6: '태국',\n",
        "    7: '말레이시아',\n",
        "    8: '호주',\n",
        "    9: '미국',\n",
        "    10: '캐나다',\n",
        "    11: '영국',\n",
        "    12: '독일',\n",
        "    13: '프랑스',\n",
        "    14: '러시아',\n",
        "    15: '중동',\n",
        "    16: '인도',\n",
        "    17: '필리핀',\n",
        "    18: '인도네시아',\n",
        "    19: '베트남',\n",
        "    20: '몽골',\n",
        "    97: '기타'\n",
        "}\n",
        "\n",
        "# 2018은 이미 COUNTY 컬럼에 국가명이 적혀있음.\n",
        "df_2019['국가명'] = df_2019['D_COU1'].map(country_map)\n",
        "df_2020['국가명'] = df_2020['D_NAT'].map(country_map)\n",
        "df_2021['국가명'] = df_2021['D_NAT'].map(country_map)\n",
        "df_2022['국가명'] = df_2022['D_NAT'].map(country_map)\n",
        "df_2023['국가명'] = df_2023['D_NAT'].map(country_map)\n",
        "df_2024['국가명'] = df_2024['D_NAT'].map(country_map)"
      ],
      "metadata": {
        "id": "bSNmmzPdkja4"
      },
      "execution_count": null,
      "outputs": []
    },
    {
      "cell_type": "markdown",
      "source": [
        "- 활동명 매핑 (주요활동/만족활동) - 2022~2024"
      ],
      "metadata": {
        "id": "37PB9LUFcSC5"
      }
    },
    {
      "cell_type": "code",
      "source": [
        "# 1. 활동명 매핑\n",
        "q4a_mapping_2022 = {\n",
        "    \"Q4A01\": \"식도락 관광\", \"Q4A02\": \"쇼핑\", \"Q4A03\": \"자연경관 감상\", \"Q4A04\": \"고궁/역사 유적지 방문\",\n",
        "    \"Q4A05\": \"전통문화체험\", \"Q4A06\": \"박물관, 전시관 관람\", \"Q4A07\": \"K-POP/한류스타 공연장 방문\",\n",
        "    \"Q4A08\": \"드라마/영화 촬영지 방문\", \"Q4A09\": \"연극, 뮤지컬, 발레 등 공연 관람\", \"Q4A10\": \"지역 축제 참여\",\n",
        "    \"Q4A11\": \"유흥/오락\", \"Q4A12\": \"뷰티/의료관광\", \"Q4A13\": \"스포츠/레포츠 및 비즈니스 활동\",\n",
        "    \"Q4A14\": \"업무수행\", \"Q4A15\": \"연수/교육/연구\", \"Q4A16\": \"시찰(산업시설 등)\", \"Q4A17\": \"기타\"\n",
        "}\n",
        "\n",
        "q4b_code_mapping_2022 = {\n",
        "    1: \"식도락 관광\", 2: \"쇼핑\", 3: \"자연경관 감상\", 4: \"고궁/역사 유적지 방문\",\n",
        "    5: \"전통문화체험\", 6: \"박물관, 전시관 관람\", 7: \"K-POP/한류스타 공연장 방문\",\n",
        "    8: \"드라마/영화 촬영지 방문\", 9: \"연극, 뮤지컬, 발레 등 공연 관람\", 10: \"지역 축제 참여\",\n",
        "    11: \"유흥/오락\", 12: \"뷰티/의료관광\", 13: \"스포츠/레포츠 및 비즈니스 활동\",\n",
        "    14: \"업무수행\", 15: \"연수/교육/연구\", 16: \"시찰(산업시설 등)\", 17: \"기타\"\n",
        "}\n",
        "\n",
        "q4a_cols = list(q4a_mapping_2022.keys())\n",
        "q4b_cols = [\"Q4B1\", \"Q4B2\", \"Q4B3\"]\n",
        "\n",
        "# 2. 주요활동 추출 함수\n",
        "def get_q4a_activities(row):\n",
        "    return [q4a_mapping_2022[col] for col in q4a_cols if col in row and pd.notna(row[col])]\n",
        "\n",
        "# 3. 만족활동 추출 함수\n",
        "def get_q4b_satisfaction(row):\n",
        "    return [q4b_code_mapping_2022.get(int(row[col]), f\"코드 {row[col]}\")\n",
        "            for col in q4b_cols if col in row and pd.notna(row[col])]\n",
        "\n",
        "# 4. 적용 (df_2022가 정의된 상태에서만)\n",
        "df_2022[\"주요활동\"] = df_2022.apply(get_q4a_activities, axis=1)\n",
        "df_2022[\"만족활동\"] = df_2022.apply(get_q4b_satisfaction, axis=1)\n"
      ],
      "metadata": {
        "id": "Hdv3F8xKcPek"
      },
      "execution_count": null,
      "outputs": []
    },
    {
      "cell_type": "code",
      "source": [
        "# 1. 활동명 매핑\n",
        "q8a_mapping_2023 = {\n",
        "    \"Q8a01\": \"식도락(음식/미식) 관광\", \"Q8a02\": \"쇼핑\", \"Q8a03\": \"자연경관 감상\", \"Q8a04\": \"고궁/역사 유적지 방문\",\n",
        "    \"Q8a05\": \"전통문화체험 (한복체험, 태권도, 한국음식 만들기 등)\", \"Q8a06\": \"박물관, 전시관 관람\",\n",
        "    \"Q8a07\": \"K-POP/한류스타 공연장 및 드라마/영화 촬영지 방문\", \"Q8a08\": \"연극, 뮤지컬, 발레 등 공연 관람\",\n",
        "    \"Q8a09\": \"지역 축제 참여\", \"Q8a10\": \"유흥(나이트라이프 활동 및 카지노 등)\", \"Q8a11\": \"오락(놀이공원 및 테마파크 방문 등)\",\n",
        "    \"Q8a12\": \"뷰티/미용 관광(마사지샵, 헤어샵, 네일케어 등 방문)\", \"Q8a13\": \"치료/건강검진(피부과, 성형외과, 내외과 등 입원, 수술 등)\",\n",
        "    \"Q8a14\": \"스포츠/레포츠 관람 (야구, 축구, 농구 등)\", \"Q8a15\": \"스포츠/레포츠 참가 (스키, 수영, 골프, 캠핑 등)\",\n",
        "    \"Q8a16\": \"국제회의(컨벤션, 국제회의, 전시 등)\", \"Q8a17\": \"비즈니스 전문활동(업무회의, 산업시설 시찰 등)\",\n",
        "    \"Q8a18\": \"연수, 교육, 연구\", \"Q8a19\": \"기타\"\n",
        "}\n",
        "\n",
        "q8b_code_mapping_2023 = {\n",
        "    1: \"식도락(음식/미식) 관광\", 2: \"쇼핑\", 3: \"자연경관 감상\", 4: \"고궁/역사 유적지 방문\",\n",
        "    5: \"전통문화체험 (한복체험, 태권도, 한국음식 만들기 등)\", 6: \"박물관, 전시관 관람\",\n",
        "    7: \"K-POP/한류스타 공연장 및 드라마/영화 촬영지 방문\", 8: \"연극, 뮤지컬, 발레 등 공연 관람\",\n",
        "    9: \"지역 축제 참여\", 10: \"유흥(나이트라이프 활동 및 카지노 등)\",\n",
        "    11: \"오락(놀이공원 및 테마파크 방문 등)\", 12: \"뷰티/미용 관광(마사지샵, 헤어샵, 네일케어 등 방문)\",\n",
        "    13: \"치료/건강검진(피부과, 성형외과, 내외과 등 입원, 수술 등)\", 14: \"스포츠/레포츠 관람 (야구, 축구, 농구 등)\",\n",
        "    15: \"스포츠/레포츠 참가 (스키, 수영, 골프, 캠핑 등)\", 16: \"국제회의(컨벤션, 국제회의, 전시 등)\",\n",
        "    17: \"비즈니스 전문활동(업무회의, 산업시설 시찰 등)\", 18: \"연수, 교육, 연구\", 19: \"기타\"\n",
        "}\n",
        "\n",
        "q8a_cols = list(q8a_mapping_2023.keys())\n",
        "q8b_cols = [\"Q8_1a1\", \"Q8_1a2\", \"Q8_1a3\"]\n",
        "\n",
        "# 2. 주요활동 추출 함수\n",
        "def get_q8a_activities(row):\n",
        "    return [q8a_mapping_2023[col] for col in q8a_cols if col in row and pd.notna(row[col])]\n",
        "\n",
        "# 3. 만족활동 추출 함수\n",
        "def get_q8b_satisfaction(row):\n",
        "    return [q8b_code_mapping_2023.get(int(row[col]), f\"코드 {row[col]}\")\n",
        "            for col in q8b_cols if col in row and pd.notna(row[col])]\n",
        "\n",
        "# 4. 적용 (df_2023이 정의된 상태에서만)\n",
        "df_2023[\"주요활동\"] = df_2023.apply(get_q8a_activities, axis=1)\n",
        "df_2023[\"만족활동\"] = df_2023.apply(get_q8b_satisfaction, axis=1)"
      ],
      "metadata": {
        "id": "87EGdvLGhgAc"
      },
      "execution_count": null,
      "outputs": []
    },
    {
      "cell_type": "code",
      "source": [
        "# 1. 활동명 매핑\n",
        "q8a_mapping_2024 = {\n",
        "    \"Q8a01\": \"식도락(음식/미식) 관광\", \"Q8a02\": \"쇼핑\", \"Q8a03\": \"자연경관 감상\", \"Q8a04\": \"휴양/휴식(웰니스)\",\n",
        "    \"Q8a05\": \"고궁/역사 유적지 방문\", \"Q8a06\": \"전통문화체험 (한복체험, 태권도, 한국 음식 만들기 등)\",\n",
        "    \"Q8a07\": \"박물관, 전시관 관람\", \"Q8a08\": \"K-POP/한류스타 공연장 및 드라마/영화 촬영지 방문\",\n",
        "    \"Q8a09\": \"연극, 뮤지컬, 발레 등 공연 관람\", \"Q8a10\": \"지역 축제 참여\",\n",
        "    \"Q8a11\": \"유흥(나이트라이프 활동 및 카지노)\", \"Q8a12\": \"오락(놀이공원 및 테마파크 방문 등)\",\n",
        "    \"Q8a13\": \"뷰티/미용 관광(마사지샵, 헤어샵, 네일케어 등 방문)\", \"Q8a14\": \"치료/건강검진(피부과, 성형외과, 내외과 입원, 수술 등)\",\n",
        "    \"Q8a15\": \"스포츠/레포츠 관람 (야구, 축구, 농구 등)\", \"Q8a16\": \"스포츠/레포츠 참가 (스키, 수영, 골프, 캠핑 등)\",\n",
        "    \"Q8a17\": \"국제회의(컨벤션, 국제회의, 전시 등)\", \"Q8a18\": \"비즈니스 전문활동(업무회의, 산업시설 시찰 등)\",\n",
        "    \"Q8a19\": \"연수, 교육, 연구\", \"Q8a20\": \"기타\"\n",
        "}\n",
        "\n",
        "q8b_code_mapping_2024 = {\n",
        "    1: \"식도락(음식/미식) 관광\", 2: \"쇼핑\", 3: \"자연경관 감상\", 4: \"휴양/휴식(웰니스)\",\n",
        "    5: \"고궁/역사 유적지 방문\", 6: \"전통문화체험 (한복체험, 태권도, 한국 음식 만들기 등)\",\n",
        "    7: \"박물관, 전시관 관람\", 8: \"K-POP/한류스타 공연장 및 드라마/영화 촬영지 방문\",\n",
        "    9: \"연극, 뮤지컬, 발레 등 공연 관람\", 10: \"지역 축제 참여\",\n",
        "    11: \"유흥(나이트라이프 활동 및 카지노)\", 12: \"오락(놀이공원 및 테마파크 방문 등)\",\n",
        "    13: \"뷰티/미용 관광(마사지샵, 헤어샵, 네일케어 등 방문)\", 14: \"치료/건강검진(피부과, 성형외과, 내외과 입원, 수술 등)\",\n",
        "    15: \"스포츠/레포츠 관람 (야구, 축구, 농구 등)\", 16: \"스포츠/레포츠 참가 (스키, 수영, 골프, 캠핑 등)\",\n",
        "    17: \"국제회의(컨벤션, 국제회의, 전시 등)\", 18: \"비즈니스 전문활동(업무회의, 산업시설 시찰 등)\",\n",
        "    19: \"연수, 교육, 연구\", 20: \"기타\"\n",
        "}\n",
        "\n",
        "q8a_cols = list(q8a_mapping_2024.keys())\n",
        "q8b_cols = [\"Q8_1a1\", \"Q8_1a2\", \"Q8_1a3\"]\n",
        "\n",
        "# 2. 주요활동 추출 함수\n",
        "def get_q8a_activities(row):\n",
        "    return [q8a_mapping_2024[col] for col in q8a_cols if col in row and pd.notna(row[col])]\n",
        "\n",
        "# 3. 만족활동 추출 함수\n",
        "def get_q8b_satisfaction(row):\n",
        "    return [q8b_code_mapping_2024.get(int(row[col]), f\"코드 {row[col]}\")\n",
        "            for col in q8b_cols if col in row and pd.notna(row[col])]\n",
        "\n",
        "# 4. 적용 (df_2024이 정의된 상태에서만 실행)\n",
        "df_2024[\"주요활동\"] = df_2024.apply(get_q8a_activities, axis=1)\n",
        "df_2024[\"만족활동\"] = df_2024.apply(get_q8b_satisfaction, axis=1)\n"
      ],
      "metadata": {
        "id": "_boxnJOHies9"
      },
      "execution_count": null,
      "outputs": []
    }
  ]
}